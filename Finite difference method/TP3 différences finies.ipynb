{
 "cells": [
  {
   "cell_type": "markdown",
   "metadata": {},
   "source": [
    "Implémenter la résolution nulérique d'une equation différentielle d'ordre 2 par la méthode des différences finies\n",
    "\n",
    "\n",
    "https://www.wikiwand.com/en/Finite_difference_method#/Explicit_method"
   ]
  },
  {
   "cell_type": "code",
   "execution_count": 1,
   "metadata": {},
   "outputs": [],
   "source": [
    "import numpy as np\n",
    "from scipy.sparse import diags\n",
    "import matplotlib.pyplot as plt\n",
    "from math import sqrt"
   ]
  },
  {
   "cell_type": "markdown",
   "metadata": {},
   "source": [
    "def des constantes"
   ]
  },
  {
   "cell_type": "code",
   "execution_count": 19,
   "metadata": {},
   "outputs": [
    {
     "data": {
      "text/plain": [
       "array([[ 80000., -40000.,      0., ...,      0.,      0.,      0.],\n",
       "       [-40000.,  80000., -40000., ...,      0.,      0.,      0.],\n",
       "       [     0., -40000.,  80000., ...,      0.,      0.,      0.],\n",
       "       ...,\n",
       "       [     0.,      0.,      0., ...,  80000., -40000.,      0.],\n",
       "       [     0.,      0.,      0., ..., -40000.,  80000., -40000.],\n",
       "       [     0.,      0.,      0., ...,      0., -40000.,  80000.]])"
      ]
     },
     "execution_count": 19,
     "metadata": {},
     "output_type": "execute_result"
    }
   ],
   "source": [
    "N = 200\n",
    "h = 1/N\n",
    "\n",
    "#on passe le - du -1/h^2  pour ne pas calculer de racines négatives de la diagonalle dans cholesky\n",
    "A = diags([-1,2,-1],[-1,0,1],shape=(N,N),dtype=int).toarray() / h**2\n",
    "\n",
    "\n",
    "\n",
    "x_range = np.arange(0,1,h)\n",
    "\n",
    "\n",
    "f = (x_range*(1-x_range))\n",
    "A\n"
   ]
  },
  {
   "cell_type": "code",
   "execution_count": 20,
   "metadata": {},
   "outputs": [
    {
     "data": {
      "text/plain": [
       "array([0.   , 0.005, 0.01 , 0.015, 0.02 , 0.025, 0.03 , 0.035, 0.04 ,\n",
       "       0.045, 0.05 , 0.055, 0.06 , 0.065, 0.07 , 0.075, 0.08 , 0.085,\n",
       "       0.09 , 0.095, 0.1  , 0.105, 0.11 , 0.115, 0.12 , 0.125, 0.13 ,\n",
       "       0.135, 0.14 , 0.145, 0.15 , 0.155, 0.16 , 0.165, 0.17 , 0.175,\n",
       "       0.18 , 0.185, 0.19 , 0.195, 0.2  , 0.205, 0.21 , 0.215, 0.22 ,\n",
       "       0.225, 0.23 , 0.235, 0.24 , 0.245, 0.25 , 0.255, 0.26 , 0.265,\n",
       "       0.27 , 0.275, 0.28 , 0.285, 0.29 , 0.295, 0.3  , 0.305, 0.31 ,\n",
       "       0.315, 0.32 , 0.325, 0.33 , 0.335, 0.34 , 0.345, 0.35 , 0.355,\n",
       "       0.36 , 0.365, 0.37 , 0.375, 0.38 , 0.385, 0.39 , 0.395, 0.4  ,\n",
       "       0.405, 0.41 , 0.415, 0.42 , 0.425, 0.43 , 0.435, 0.44 , 0.445,\n",
       "       0.45 , 0.455, 0.46 , 0.465, 0.47 , 0.475, 0.48 , 0.485, 0.49 ,\n",
       "       0.495, 0.5  , 0.505, 0.51 , 0.515, 0.52 , 0.525, 0.53 , 0.535,\n",
       "       0.54 , 0.545, 0.55 , 0.555, 0.56 , 0.565, 0.57 , 0.575, 0.58 ,\n",
       "       0.585, 0.59 , 0.595, 0.6  , 0.605, 0.61 , 0.615, 0.62 , 0.625,\n",
       "       0.63 , 0.635, 0.64 , 0.645, 0.65 , 0.655, 0.66 , 0.665, 0.67 ,\n",
       "       0.675, 0.68 , 0.685, 0.69 , 0.695, 0.7  , 0.705, 0.71 , 0.715,\n",
       "       0.72 , 0.725, 0.73 , 0.735, 0.74 , 0.745, 0.75 , 0.755, 0.76 ,\n",
       "       0.765, 0.77 , 0.775, 0.78 , 0.785, 0.79 , 0.795, 0.8  , 0.805,\n",
       "       0.81 , 0.815, 0.82 , 0.825, 0.83 , 0.835, 0.84 , 0.845, 0.85 ,\n",
       "       0.855, 0.86 , 0.865, 0.87 , 0.875, 0.88 , 0.885, 0.89 , 0.895,\n",
       "       0.9  , 0.905, 0.91 , 0.915, 0.92 , 0.925, 0.93 , 0.935, 0.94 ,\n",
       "       0.945, 0.95 , 0.955, 0.96 , 0.965, 0.97 , 0.975, 0.98 , 0.985,\n",
       "       0.99 , 0.995])"
      ]
     },
     "execution_count": 20,
     "metadata": {},
     "output_type": "execute_result"
    }
   ],
   "source": [
    "x_range"
   ]
  },
  {
   "cell_type": "code",
   "execution_count": 21,
   "metadata": {},
   "outputs": [
    {
     "data": {
      "text/plain": [
       "array([0.      , 0.004975, 0.0099  , 0.014775, 0.0196  , 0.024375,\n",
       "       0.0291  , 0.033775, 0.0384  , 0.042975, 0.0475  , 0.051975,\n",
       "       0.0564  , 0.060775, 0.0651  , 0.069375, 0.0736  , 0.077775,\n",
       "       0.0819  , 0.085975, 0.09    , 0.093975, 0.0979  , 0.101775,\n",
       "       0.1056  , 0.109375, 0.1131  , 0.116775, 0.1204  , 0.123975,\n",
       "       0.1275  , 0.130975, 0.1344  , 0.137775, 0.1411  , 0.144375,\n",
       "       0.1476  , 0.150775, 0.1539  , 0.156975, 0.16    , 0.162975,\n",
       "       0.1659  , 0.168775, 0.1716  , 0.174375, 0.1771  , 0.179775,\n",
       "       0.1824  , 0.184975, 0.1875  , 0.189975, 0.1924  , 0.194775,\n",
       "       0.1971  , 0.199375, 0.2016  , 0.203775, 0.2059  , 0.207975,\n",
       "       0.21    , 0.211975, 0.2139  , 0.215775, 0.2176  , 0.219375,\n",
       "       0.2211  , 0.222775, 0.2244  , 0.225975, 0.2275  , 0.228975,\n",
       "       0.2304  , 0.231775, 0.2331  , 0.234375, 0.2356  , 0.236775,\n",
       "       0.2379  , 0.238975, 0.24    , 0.240975, 0.2419  , 0.242775,\n",
       "       0.2436  , 0.244375, 0.2451  , 0.245775, 0.2464  , 0.246975,\n",
       "       0.2475  , 0.247975, 0.2484  , 0.248775, 0.2491  , 0.249375,\n",
       "       0.2496  , 0.249775, 0.2499  , 0.249975, 0.25    , 0.249975,\n",
       "       0.2499  , 0.249775, 0.2496  , 0.249375, 0.2491  , 0.248775,\n",
       "       0.2484  , 0.247975, 0.2475  , 0.246975, 0.2464  , 0.245775,\n",
       "       0.2451  , 0.244375, 0.2436  , 0.242775, 0.2419  , 0.240975,\n",
       "       0.24    , 0.238975, 0.2379  , 0.236775, 0.2356  , 0.234375,\n",
       "       0.2331  , 0.231775, 0.2304  , 0.228975, 0.2275  , 0.225975,\n",
       "       0.2244  , 0.222775, 0.2211  , 0.219375, 0.2176  , 0.215775,\n",
       "       0.2139  , 0.211975, 0.21    , 0.207975, 0.2059  , 0.203775,\n",
       "       0.2016  , 0.199375, 0.1971  , 0.194775, 0.1924  , 0.189975,\n",
       "       0.1875  , 0.184975, 0.1824  , 0.179775, 0.1771  , 0.174375,\n",
       "       0.1716  , 0.168775, 0.1659  , 0.162975, 0.16    , 0.156975,\n",
       "       0.1539  , 0.150775, 0.1476  , 0.144375, 0.1411  , 0.137775,\n",
       "       0.1344  , 0.130975, 0.1275  , 0.123975, 0.1204  , 0.116775,\n",
       "       0.1131  , 0.109375, 0.1056  , 0.101775, 0.0979  , 0.093975,\n",
       "       0.09    , 0.085975, 0.0819  , 0.077775, 0.0736  , 0.069375,\n",
       "       0.0651  , 0.060775, 0.0564  , 0.051975, 0.0475  , 0.042975,\n",
       "       0.0384  , 0.033775, 0.0291  , 0.024375, 0.0196  , 0.014775,\n",
       "       0.0099  , 0.004975])"
      ]
     },
     "execution_count": 21,
     "metadata": {},
     "output_type": "execute_result"
    }
   ],
   "source": [
    "f"
   ]
  },
  {
   "cell_type": "markdown",
   "metadata": {},
   "source": [
    "on souhaite résoudre le système $ Au = b$ où A est connue et b est un vecteur de la force qu'on applique à notre système"
   ]
  },
  {
   "cell_type": "code",
   "execution_count": 22,
   "metadata": {},
   "outputs": [],
   "source": [
    "def triang_inf(T,b):\n",
    "    \"\"\"calcule x selon l'équation Tx=b avec T une matrice triangulaire inférieure et b un vecteur connu\n",
    "    Return:\n",
    "        x: vecteur solution de l'équation\n",
    "    \"\"\"\n",
    "    n = T.shape[0]\n",
    "    x = np.zeros((n, 1))\n",
    "\n",
    "    for k in range(n):\n",
    "        x[k] = (b[k] - np.sum(np.multiply(T[k], np.transpose(x)))) / T[k,k]\n",
    "    \n",
    "    return x\n",
    "\n",
    "def triang_sup(T,b):\n",
    "    \"\"\"calcule x selon l'équation Tx=b avec T une matrice triangulaire supérieure et b un vecteur connu\n",
    "    Return:\n",
    "        x: vecteur solution de l'équation\n",
    "    \"\"\"\n",
    "    n = T.shape[0]\n",
    "    x = np.zeros((n, 1))\n",
    "\n",
    "    for k in range(n - 1 , -1, -1):\n",
    "        x[k] = (b[k] - np.sum(np.multiply(T[k], np.transpose(x)))) / T[k,k]\n",
    "    \n",
    "    return x\n",
    "\n",
    "def cholesky(A):\n",
    "    \"\"\" calcule la matrice C correspondant à la \n",
    "        décomposition de cholesky d'une matrice A\n",
    "        A doit etre une matrice symétrique positive définie\n",
    "    \"\"\"\n",
    "    n = A.shape[0]\n",
    "    C = np.zeros((n,n))\n",
    "    \n",
    "    C[0,0] = sqrt(A[0,0])\n",
    "    C[1:,0] = A[1:,0] / C[0,0]\n",
    "    \n",
    "    for j in range(1,n):\n",
    "        for i in range(j+1):\n",
    "            tmp_sum = np.sum(np.multiply(C[i,:i],C[j,:i]))\n",
    "            \n",
    "            #diagonal coefs\n",
    "            if i == j:\n",
    "                C[j,i] = sqrt( (A[i,j] - tmp_sum ) ) # j > 1\n",
    "            else:\n",
    "            #other\n",
    "                C[j,i] = (A[i,j] - tmp_sum ) / (C[i,i])  \n",
    "    return C\n",
    "\n",
    "\n",
    "def decomp_lu(A):\n",
    "    \"\"\" Calcule la décomposition LU d'une matrice carré inversible A\n",
    "    \"\"\"\n",
    "    n = A.shape[0]\n",
    "    \n",
    "    L = np.zeros((n,n))\n",
    "    U = np.zeros((n,n))\n",
    "    \n",
    "    # 1ere ligne de U = 1ere ligne de A\n",
    "    U[0] = A[0]\n",
    "        \n",
    "    # 1ere colonne de L = 1ere colonne de A\n",
    "    L[:,0] = A[:,0] / U[0,0]\n",
    "    \n",
    "    for i in range(1, n):\n",
    "        L[i,i] = 1\n",
    "        U[i,i] = A[i,i] - np.sum(np.multiply(L[i,:i], U[:i,i]))\n",
    "        \n",
    "        for j in range(i + 1, n):\n",
    "            U[i,j] = A[i,j] - np.sum(np.multiply(L[i,:i], U[:i,j]))\n",
    "            L[j,i] = (A[j,i] - np.sum(np.multiply(L[j,:i], U[:i,i]))) / U[i,i]\n",
    "        \n",
    "    return L,U\n",
    "\n",
    "def res_LU(A, b):\n",
    "    \"\"\" Resolution of Ax = b with the decomp LU method. \"\"\"\n",
    "    L, U = decomp_lu(A)\n",
    "    \n",
    "    # Triang inf to resolve Ly = b\n",
    "    y = triang_inf(L, b)\n",
    "    \n",
    "    # Triang sup to resolve Ux = y\n",
    "    x = triang_sup(U, y)\n",
    "    \n",
    "    return x\n",
    "\n",
    "\n",
    "def res_Chol(A, b):\n",
    "    \"\"\" Resolution of Ax = b with Cholesky's method. \"\"\"\n",
    "    C = cholesky(A)\n",
    "\n",
    "    y = triang_inf(C, b)\n",
    "\n",
    "    x = triang_sup(np.transpose(C), y)\n",
    "    \n",
    "    return x"
   ]
  },
  {
   "cell_type": "code",
   "execution_count": 23,
   "metadata": {},
   "outputs": [
    {
     "data": {
      "text/plain": [
       "array([0.02624948])"
      ]
     },
     "execution_count": 23,
     "metadata": {},
     "output_type": "execute_result"
    }
   ],
   "source": [
    "u = res_Chol(A,f)\n",
    "max(u) \n"
   ]
  },
  {
   "cell_type": "code",
   "execution_count": 24,
   "metadata": {},
   "outputs": [
    {
     "data": {
      "text/plain": [
       "<module 'matplotlib.pyplot' from '/home/antoine/.local/lib/python3.6/site-packages/matplotlib/pyplot.py'>"
      ]
     },
     "execution_count": 24,
     "metadata": {},
     "output_type": "execute_result"
    },
    {
     "data": {
      "image/png": "[encoded data removed]",
      "text/plain": [
       "<Figure size 432x288 with 1 Axes>"
      ]
     },
     "metadata": {
      "needs_background": "light"
     },
     "output_type": "display_data"
    }
   ],
   "source": [
    "plt.plot(x_range,u)\n",
    "plt"
   ]
  },
  {
   "cell_type": "markdown",
   "metadata": {},
   "source": [
    "## Pour $f(x) = x(1-x) $\n",
    "\n",
    "la solution analytique pour cette équation est:\n",
    "\n",
    "## $$ u(x) = \\frac{1}{12} x^4 - \\frac{1}{6} x^3 + \\frac{1}{12} x $$"
   ]
  },
  {
   "cell_type": "code",
   "execution_count": 32,
   "metadata": {},
   "outputs": [
    {
     "data": {
      "text/plain": [
       "<matplotlib.legend.Legend at 0x7f593b9b26a0>"
      ]
     },
     "execution_count": 32,
     "metadata": {},
     "output_type": "execute_result"
    },
    {
     "data": {
      "image/png": "[encoded data removed]",
      "text/plain": [
       "<Figure size 432x288 with 1 Axes>"
      ]
     },
     "metadata": {
      "needs_background": "light"
     },
     "output_type": "display_data"
    }
   ],
   "source": [
    "#f_sin = np.sin(np.pi * x_range)\n",
    "#f_sin *= np.pi**2\n",
    "\n",
    "# x(1-x)\n",
    "\n",
    "u_x_analytique = (1/12)* x_range**4 - (1/6) * x_range**3   + (1/12) * x_range\n",
    "\n",
    "\n",
    "\n",
    "plt.figure()\n",
    "plt.title(\"solution exacte et approché par méthode des différences finies\")\n",
    "\n",
    "plt.plot(x_range,u_x_analytique,c='green',label='exacte')\n",
    "plt.plot(x_range,u_x,c='red',label='approché')\n",
    "plt.legend()"
   ]
  },
  {
   "cell_type": "markdown",
   "metadata": {},
   "source": [
    "## Pour $ f(x) = sin(\\pi x) $\n",
    "\n",
    "la solution analytique est \n",
    "\n",
    "## $$ u(x) = \\frac{1}{\\pi^2} sin(\\pi x) $$"
   ]
  },
  {
   "cell_type": "code",
   "execution_count": 33,
   "metadata": {},
   "outputs": [
    {
     "data": {
      "text/plain": [
       "<matplotlib.legend.Legend at 0x7f593b9986a0>"
      ]
     },
     "execution_count": 33,
     "metadata": {},
     "output_type": "execute_result"
    },
    {
     "data": {
      "image/png": "[encoded data removed]",
      "text/plain": [
       "<Figure size 432x288 with 1 Axes>"
      ]
     },
     "metadata": {
      "needs_background": "light"
     },
     "output_type": "display_data"
    }
   ],
   "source": [
    "u_sin = np.sin(np.pi * x_range)\n",
    "u_sin = res_Chol(A,u_sin)\n",
    "\n",
    "u_sin_analytique = np.sin(np.pi*x_range)/ np.pi**2\n",
    "\n",
    "plt.figure()\n",
    "plt.title(\"solution exacte et approché par méthode des différences finies\")\n",
    "\n",
    "plt.plot(x_range,u_sin_analytique,c='green',label='exacte')\n",
    "plt.plot(x_range,u_sin,c='red',label='approché')\n",
    "plt.legend()"
   ]
  },
  {
   "cell_type": "markdown",
   "metadata": {},
   "source": [
    "### évaluation des méthodes linéaires\n",
    "\n"
   ]
  },
  {
   "cell_type": "code",
   "execution_count": 9,
   "metadata": {},
   "outputs": [
    {
     "name": "stdout",
     "output_type": "stream",
     "text": [
      "575 ms ± 5.81 ms per loop (mean ± std. dev. of 7 runs, 1 loop each)\n"
     ]
    }
   ],
   "source": [
    "%timeit res_LU(A,f)"
   ]
  },
  {
   "cell_type": "code",
   "execution_count": 10,
   "metadata": {},
   "outputs": [
    {
     "name": "stdout",
     "output_type": "stream",
     "text": [
      "The slowest run took 7.12 times longer than the fastest. This could mean that an intermediate result is being cached.\n",
      "516 ms ± 575 ms per loop (mean ± std. dev. of 7 runs, 1 loop each)\n"
     ]
    }
   ],
   "source": [
    "%timeit res_Chol(A,f)"
   ]
  },
  {
   "cell_type": "code",
   "execution_count": null,
   "metadata": {},
   "outputs": [],
   "source": []
  }
 ],
 "metadata": {
  "kernelspec": {
   "display_name": "Python 3",
   "language": "python",
   "name": "python3"
  },
  "language_info": {
   "codemirror_mode": {
    "name": "ipython",
    "version": 3
   },
   "file_extension": ".py",
   "mimetype": "text/x-python",
   "name": "python",
   "nbconvert_exporter": "python",
   "pygments_lexer": "ipython3",
   "version": "3.6.8"
  }
 },
 "nbformat": 4,
 "nbformat_minor": 2
}
