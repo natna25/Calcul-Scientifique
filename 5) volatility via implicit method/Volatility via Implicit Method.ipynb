{
 "cells": [
  {
   "cell_type": "code",
   "execution_count": 3,
   "metadata": {},
   "outputs": [],
   "source": [
    "import numpy as np\n",
    "import matplotlib.pyplot as plt\n",
    "from scipy import special"
   ]
  },
  {
   "cell_type": "code",
   "execution_count": 11,
   "metadata": {},
   "outputs": [
    {
     "name": "stderr",
     "output_type": "stream",
     "text": [
      "/home/antoine/.local/lib/python3.6/site-packages/ipykernel_launcher.py:3: RuntimeWarning: divide by zero encountered in double_scalars\n",
      "  This is separate from the ipykernel package so we can avoid doing imports until\n",
      "/home/antoine/.local/lib/python3.6/site-packages/ipykernel_launcher.py:3: RuntimeWarning: divide by zero encountered in true_divide\n",
      "  This is separate from the ipykernel package so we can avoid doing imports until\n"
     ]
    },
    {
     "data": {
      "text/plain": [
       "0.5890031902695345"
      ]
     },
     "execution_count": 11,
     "metadata": {},
     "output_type": "execute_result"
    },
    {
     "data": {
      "image/png": "[encoded data removed]",
      "text/plain": [
       "<Figure size 432x288 with 1 Axes>"
      ]
     },
     "metadata": {
      "needs_background": "light"
     },
     "output_type": "display_data"
    }
   ],
   "source": [
    "def volatility(S,E,r,T,C_0):\n",
    "    \n",
    "    d1 = lambda sigma: (np.log(S/E) + (r + np.power(sigma,2))/2 ) / (sigma * np.power(T, 1/2))\n",
    "    d2 = lambda sigma: d1(sigma) - sigma * np.power(T,1/2)\n",
    "    \n",
    "    Ee = E * np.exp(-r * T)\n",
    "    \n",
    "    N1 = lambda sigma: 0.5 * special.erfc(-d1(sigma) / np.power(2,1/2))\n",
    "    N2 = lambda sigma: 0.5 * special.erfc(-d2(sigma) / np.power(2,1/2))\n",
    "    \n",
    "    \n",
    "    c  = lambda sigma: S * N1(sigma) - Ee * N2(sigma)\n",
    "    F  = lambda sigma: C_0 - c(sigma)\n",
    "    \n",
    "    \n",
    "    a  = 0\n",
    "    a1 = a\n",
    "    \n",
    "    b  = 10\n",
    "    b1 = b\n",
    "    \n",
    "    d = (a+b)/2\n",
    "    \n",
    "    for i in range(300):\n",
    "        if F(a)*F(d) > 0:\n",
    "            a=d\n",
    "        else:\n",
    "            b=d\n",
    "        d = (a+b)/2\n",
    "    \n",
    "    \n",
    "    plt.plot(np.vstack([a1,b1]),F(np.vstack([a1,b1])))\n",
    "    \n",
    "    return d\n",
    "\n",
    "\n",
    "S = 50\n",
    "E = 100\n",
    "r = 0.05\n",
    "T = 3\n",
    "C_0 = 10\n",
    "\n",
    "volatility(S,E,r,T,C_0)"
   ]
  },
  {
   "cell_type": "code",
   "execution_count": null,
   "metadata": {},
   "outputs": [],
   "source": []
  }
 ],
 "metadata": {
  "kernelspec": {
   "display_name": "Python 3",
   "language": "python",
   "name": "python3"
  },
  "language_info": {
   "codemirror_mode": {
    "name": "ipython",
    "version": 3
   },
   "file_extension": ".py",
   "mimetype": "text/x-python",
   "name": "python",
   "nbconvert_exporter": "python",
   "pygments_lexer": "ipython3",
   "version": "3.6.8"
  }
 },
 "nbformat": 4,
 "nbformat_minor": 2
}
