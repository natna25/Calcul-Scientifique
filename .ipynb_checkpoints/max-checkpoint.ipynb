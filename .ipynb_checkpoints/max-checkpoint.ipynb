{
 "cells": [
  {
   "cell_type": "markdown",
   "metadata": {},
   "source": [
    "# TP1: Methodes directes pour la résolution des systèmes linéaires\n",
    "\n",
    "On souhaite résoudre l'équation de la forme: \n",
    "\n",
    "## $$ Ax = b $$\n",
    "\n",
    "Avec, A une matrice carrée de dimension (n,n), x de dimension (n,1) et b de dimension (n,1). la matrice A et le vecteur b sont connues et on cherche à trouver x. d'ordinaire on aurait trouvé l'inverse de la matrics A afin d'en déduire x avec l'équation $$ x = A^{-1}b $$  \n",
    "\n",
    "Trouver l'inverse d'une matrice devient vite compliqué à calculer lorsque la taille de la matrice augmente, ceci n'étant pas scalable, il faut utiliser une autre méthode pour résoudre cette équation plus rapidement."
   ]
  },
  {
   "cell_type": "code",
   "execution_count": 1,
   "metadata": {},
   "outputs": [],
   "source": [
    "import numpy as np\n",
    "import scipy as sc\n",
    "\n",
    "from scipy import linalg as lg"
   ]
  },
  {
   "cell_type": "code",
   "execution_count": 51,
   "metadata": {},
   "outputs": [
    {
     "data": {
      "text/plain": [
       "array([[2, 4, 1, 1, 3],\n",
       "       [1, 0, 0, 2, 3],\n",
       "       [1, 3, 4, 4, 0],\n",
       "       [1, 0, 2, 3, 4],\n",
       "       [1, 2, 3, 3, 0]])"
      ]
     },
     "execution_count": 51,
     "metadata": {},
     "output_type": "execute_result"
    }
   ],
   "source": [
    "n = 5\n",
    "\n",
    "# On génère une matrice inversible (det(A) = 0) et qui n'aura pas de permutation dans la decomp LU\n",
    "while True:  \n",
    "    A = np.random.randint(5,size=(n, n))\n",
    "    p,L, U = lg.lu(A)\n",
    "    \n",
    "    if np.linalg.det(A) != 0 and np.trace(p) == n:\n",
    "        break\n",
    "\n",
    "b = np.random.randint(5,size=(n, 1))\n",
    "\n",
    "A"
   ]
  },
  {
   "cell_type": "code",
   "execution_count": 52,
   "metadata": {},
   "outputs": [
    {
     "data": {
      "text/plain": [
       "array([[2],\n",
       "       [4],\n",
       "       [4],\n",
       "       [3],\n",
       "       [4]])"
      ]
     },
     "execution_count": 52,
     "metadata": {},
     "output_type": "execute_result"
    }
   ],
   "source": [
    "b"
   ]
  },
  {
   "cell_type": "markdown",
   "metadata": {},
   "source": [
    "on regarde si la matrice est inversible, elle ne l'est pas si il y a des 0\n",
    "https://docs.scipy.org/doc/numpy/reference/generated/numpy.linalg.inv.html"
   ]
  },
  {
   "cell_type": "markdown",
   "metadata": {},
   "source": [
    "## Decomposition LU"
   ]
  },
  {
   "cell_type": "code",
   "execution_count": 83,
   "metadata": {},
   "outputs": [],
   "source": [
    "from scipy import linalg as lg\n",
    "\n",
    "p,L, U = lg.lu(A)"
   ]
  },
  {
   "cell_type": "markdown",
   "metadata": {},
   "source": [
    "P est une matrice de permutation\n",
    "\n",
    "https://www.wikiwand.com/en/Permutation_matrix"
   ]
  },
  {
   "cell_type": "code",
   "execution_count": 84,
   "metadata": {},
   "outputs": [
    {
     "data": {
      "text/plain": [
       "array([[1., 0., 0., 0., 0.],\n",
       "       [0., 1., 0., 0., 0.],\n",
       "       [0., 0., 1., 0., 0.],\n",
       "       [0., 0., 0., 1., 0.],\n",
       "       [0., 0., 0., 0., 1.]])"
      ]
     },
     "execution_count": 84,
     "metadata": {},
     "output_type": "execute_result"
    }
   ],
   "source": [
    "p"
   ]
  },
  {
   "cell_type": "code",
   "execution_count": 85,
   "metadata": {},
   "outputs": [
    {
     "data": {
      "text/plain": [
       "array([[ 1.        ,  0.        ,  0.        ,  0.        ,  0.        ],\n",
       "       [ 0.5       ,  1.        ,  0.        ,  0.        ,  0.        ],\n",
       "       [ 0.5       , -0.5       ,  1.        ,  0.        ,  0.        ],\n",
       "       [ 0.5       ,  1.        ,  0.61538462,  1.        ,  0.        ],\n",
       "       [ 0.5       , -0.        ,  0.76923077,  0.47619048,  1.        ]])"
      ]
     },
     "execution_count": 85,
     "metadata": {},
     "output_type": "execute_result"
    }
   ],
   "source": [
    "L"
   ]
  },
  {
   "cell_type": "code",
   "execution_count": 86,
   "metadata": {},
   "outputs": [
    {
     "data": {
      "text/plain": [
       "array([[ 2.        ,  4.        ,  1.        ,  1.        ,  3.        ],\n",
       "       [ 0.        , -2.        , -0.5       ,  1.5       ,  1.5       ],\n",
       "       [ 0.        ,  0.        ,  3.25      ,  4.25      , -0.75      ],\n",
       "       [ 0.        ,  0.        ,  0.        , -1.61538462,  1.46153846],\n",
       "       [ 0.        ,  0.        ,  0.        ,  0.        , -1.61904762]])"
      ]
     },
     "execution_count": 86,
     "metadata": {},
     "output_type": "execute_result"
    }
   ],
   "source": [
    "U"
   ]
  },
  {
   "cell_type": "markdown",
   "metadata": {},
   "source": [
    "### Decomp LU sans librairie"
   ]
  },
  {
   "cell_type": "code",
   "execution_count": 75,
   "metadata": {},
   "outputs": [
    {
     "data": {
      "text/plain": [
       "array([2.])"
      ]
     },
     "execution_count": 75,
     "metadata": {},
     "output_type": "execute_result"
    }
   ],
   "source": [
    "np.multiply(np.array([0.5]), np.array([4.]))"
   ]
  },
  {
   "cell_type": "code",
   "execution_count": 100,
   "metadata": {},
   "outputs": [],
   "source": [
    "def decomp_lu(A):\n",
    "    \"\"\" Calcule la décomposition LU d'une matrice carré inversible A\n",
    "    \"\"\"\n",
    "    n = A.shape[0]\n",
    "    \n",
    "    L = np.zeros((n,n))\n",
    "    U = np.zeros((n,n))\n",
    "    \n",
    "    # 1ere ligne de U = 1ere ligne de A\n",
    "    U[0] = A[0]\n",
    "        \n",
    "    # 1ere colonne de L = 1ere colonne de A\n",
    "    L[:,0] = A[:,0] / U[0,0]\n",
    "    \n",
    "    for i in range(1, n):\n",
    "        L[i,i] = 1\n",
    "        U[i,i] = A[i,i] - np.sum(np.multiply(L[i,:i], U[:i,i]))\n",
    "        \n",
    "        for j in range(i + 1, n):\n",
    "            U[i,j] = A[i,j] - np.sum(np.multiply(L[i,:i], U[:i,j]))\n",
    "            L[j,i] = (A[j,i] - np.sum(np.multiply(L[j,:i], U[:i,i]))) / U[i,i]\n",
    "        \n",
    "    return L,U\n",
    "    \n",
    "Lm,Um = decomp_lu(A)"
   ]
  },
  {
   "cell_type": "code",
   "execution_count": 101,
   "metadata": {},
   "outputs": [
    {
     "data": {
      "text/plain": [
       "array([[ 1.        ,  0.        ,  0.        ,  0.        ,  0.        ],\n",
       "       [ 0.5       ,  1.        ,  0.        ,  0.        ,  0.        ],\n",
       "       [ 0.5       , -0.5       ,  1.        ,  0.        ,  0.        ],\n",
       "       [ 0.5       ,  1.        ,  0.61538462,  1.        ,  0.        ],\n",
       "       [ 0.5       , -0.        ,  0.76923077,  0.47619048,  1.        ]])"
      ]
     },
     "execution_count": 101,
     "metadata": {},
     "output_type": "execute_result"
    }
   ],
   "source": [
    "Lm"
   ]
  },
  {
   "cell_type": "code",
   "execution_count": 98,
   "metadata": {},
   "outputs": [
    {
     "data": {
      "text/plain": [
       "array([[ 1.        ,  0.        ,  0.        ,  0.        ,  0.        ],\n",
       "       [ 0.5       ,  1.        ,  0.        ,  0.        ,  0.        ],\n",
       "       [ 0.5       , -0.5       ,  1.        ,  0.        ,  0.        ],\n",
       "       [ 0.5       ,  1.        ,  0.61538462,  1.        ,  0.        ],\n",
       "       [ 0.5       , -0.        ,  0.76923077,  0.47619048,  1.        ]])"
      ]
     },
     "execution_count": 98,
     "metadata": {},
     "output_type": "execute_result"
    }
   ],
   "source": [
    "L"
   ]
  },
  {
   "cell_type": "code",
   "execution_count": 102,
   "metadata": {},
   "outputs": [
    {
     "data": {
      "text/plain": [
       "array([[ 2.        ,  4.        ,  1.        ,  1.        ,  3.        ],\n",
       "       [ 0.        , -2.        , -0.5       ,  1.5       ,  1.5       ],\n",
       "       [ 0.        ,  0.        ,  3.25      ,  4.25      , -0.75      ],\n",
       "       [ 0.        ,  0.        ,  0.        , -1.61538462,  1.46153846],\n",
       "       [ 0.        ,  0.        ,  0.        ,  0.        , -1.61904762]])"
      ]
     },
     "execution_count": 102,
     "metadata": {},
     "output_type": "execute_result"
    }
   ],
   "source": [
    "Um"
   ]
  },
  {
   "cell_type": "code",
   "execution_count": 95,
   "metadata": {},
   "outputs": [
    {
     "data": {
      "text/plain": [
       "array([[ 2.        ,  4.        ,  1.        ,  1.        ,  3.        ],\n",
       "       [ 0.        , -2.        , -0.5       ,  1.5       ,  1.5       ],\n",
       "       [ 0.        ,  0.        ,  3.25      ,  4.25      , -0.75      ],\n",
       "       [ 0.        ,  0.        ,  0.        , -1.61538462,  1.46153846],\n",
       "       [ 0.        ,  0.        ,  0.        ,  0.        , -1.61904762]])"
      ]
     },
     "execution_count": 95,
     "metadata": {},
     "output_type": "execute_result"
    }
   ],
   "source": [
    "U"
   ]
  },
  {
   "cell_type": "markdown",
   "metadata": {},
   "source": [
    "## Triangulaire inférieure"
   ]
  },
  {
   "cell_type": "code",
   "execution_count": 15,
   "metadata": {},
   "outputs": [],
   "source": [
    "def triang_inf(T,b):\n",
    "    \"\"\"calcule x selon l'équation Tx=b avec T une matrice triangulaire inférieure et b un vecteur connu\n",
    "    Return:\n",
    "        x: vecteur solution de l'équation\n",
    "    \"\"\"\n",
    "    n = T.shape[0]\n",
    "    x = np.zeros((n, 1))\n",
    "\n",
    "    for k in range(n):\n",
    "        x[k] = (b[k] - np.sum(np.multiply(T[k], np.transpose(x))))\n",
    "    \n",
    "    return x\n",
    "    \n",
    "y = triang_inf(L,b)"
   ]
  },
  {
   "cell_type": "code",
   "execution_count": 16,
   "metadata": {},
   "outputs": [
    {
     "data": {
      "text/plain": [
       "array([[3.],\n",
       "       [1.],\n",
       "       [2.],\n",
       "       [3.],\n",
       "       [4.]])"
      ]
     },
     "execution_count": 16,
     "metadata": {},
     "output_type": "execute_result"
    }
   ],
   "source": [
    "np.dot(L,y)"
   ]
  },
  {
   "cell_type": "code",
   "execution_count": 17,
   "metadata": {},
   "outputs": [
    {
     "data": {
      "text/plain": [
       "array([[3],\n",
       "       [1],\n",
       "       [2],\n",
       "       [3],\n",
       "       [4]])"
      ]
     },
     "execution_count": 17,
     "metadata": {},
     "output_type": "execute_result"
    }
   ],
   "source": [
    "b"
   ]
  },
  {
   "cell_type": "markdown",
   "metadata": {},
   "source": [
    "## Triangulaire supérieure"
   ]
  },
  {
   "cell_type": "code",
   "execution_count": 18,
   "metadata": {},
   "outputs": [],
   "source": [
    "def triang_sup(T,b):\n",
    "    \"\"\"calcule x selon l'équation Tx=b avec T une matrice triangulaire supérieure et b un vecteur connu\n",
    "    Return:\n",
    "        x: vecteur solution de l'équation\n",
    "    \"\"\"\n",
    "    n = T.shape[0]\n",
    "    x = np.zeros((n, 1))\n",
    "\n",
    "    for k in range(n - 1 , -1, -1):\n",
    "        x[k] = (b[k] - np.sum(np.multiply(T[k], np.transpose(x)))) / T[k,k]\n",
    "    \n",
    "    \n",
    "    return x\n",
    "    \n",
    "x = triang_sup(U,y)\n",
    "    "
   ]
  },
  {
   "cell_type": "code",
   "execution_count": 19,
   "metadata": {},
   "outputs": [
    {
     "data": {
      "text/plain": [
       "array([[3.],\n",
       "       [1.],\n",
       "       [2.],\n",
       "       [3.],\n",
       "       [4.]])"
      ]
     },
     "execution_count": 19,
     "metadata": {},
     "output_type": "execute_result"
    }
   ],
   "source": [
    "np.dot(np.transpose(p),np.dot(A,x))"
   ]
  },
  {
   "cell_type": "code",
   "execution_count": 20,
   "metadata": {},
   "outputs": [
    {
     "data": {
      "text/plain": [
       "array([[3., 1., 2., 3., 4.]])"
      ]
     },
     "execution_count": 20,
     "metadata": {},
     "output_type": "execute_result"
    }
   ],
   "source": [
    "np.dot(np.transpose(np.dot(A,x)), p)"
   ]
  },
  {
   "cell_type": "code",
   "execution_count": 21,
   "metadata": {},
   "outputs": [
    {
     "data": {
      "text/plain": [
       "array([[3],\n",
       "       [1],\n",
       "       [2],\n",
       "       [3],\n",
       "       [4]])"
      ]
     },
     "execution_count": 21,
     "metadata": {},
     "output_type": "execute_result"
    }
   ],
   "source": [
    "b"
   ]
  },
  {
   "cell_type": "markdown",
   "metadata": {},
   "source": [
    "## Pivot de Gauss"
   ]
  },
  {
   "cell_type": "code",
   "execution_count": 22,
   "metadata": {},
   "outputs": [
    {
     "data": {
      "text/plain": [
       "array([[ -5.13888889],\n",
       "       [ -3.66666667],\n",
       "       [-15.5       ],\n",
       "       [  3.75      ],\n",
       "       [ 10.        ]])"
      ]
     },
     "execution_count": 22,
     "metadata": {},
     "output_type": "execute_result"
    }
   ],
   "source": [
    "def gauss(A, b):\n",
    "    n = A.shape[0]\n",
    "    M = A\n",
    "    x = np.zeros((n, 1))\n",
    "    \n",
    "    for k in range(n - 1):\n",
    "        for i in range(k + 1, n):\n",
    "            M[i, k] = A[i, k] / A[k, k]\n",
    "            A[i, k:] = A[i, k:] - M[i, k] * A[k, k:]\n",
    "            b[i] = b[i] - M[i, k] * b[k]\n",
    "    \n",
    "    for i in range(n - 1 , -1, -1):\n",
    "        x[i] = (b[i] - np.sum(np.multiply(A[i], np.transpose(x)))) / A[i, i]\n",
    "        \n",
    "    return x\n",
    "\n",
    "xg = gauss(A, b)\n",
    "xg"
   ]
  },
  {
   "cell_type": "markdown",
   "metadata": {},
   "source": [
    "## 5 Aller plus loin\n",
    "\n",
    "### Décomposition de Cholesky \n",
    "\n",
    "La méthode de cholesky permet de factoriser une matric A __Symétrique définie positive__ sous la forme $ A=CC^T$ où C est une matrice triangulaire inférieure inversible\n",
    "\n"
   ]
  },
  {
   "cell_type": "code",
   "execution_count": 23,
   "metadata": {},
   "outputs": [],
   "source": [
    "A = np.array([[15,10,18,12],\n",
    "              [10,15,7 ,13],\n",
    "              [18,7 ,27,7 ],\n",
    "              [12,13,7 ,22]])\n",
    "\n"
   ]
  },
  {
   "cell_type": "markdown",
   "metadata": {},
   "source": [
    "#### Calculer la matrice C, est ce que A est définie positive\n",
    "\n",
    "$l_{kk} = \\sqrt{ a_{kk} - \\sum^{k-1}_{j=1} l^2_{kj}}$ \n",
    "\n",
    "$ l_{ik} = \\frac{1}{l_{kk}} \\left( a_{ik} - \\sum^{k-1}_{j=1} l_{ij} l_{kj} \\right) $"
   ]
  },
  {
   "cell_type": "code",
   "execution_count": 24,
   "metadata": {},
   "outputs": [
    {
     "data": {
      "text/plain": [
       "array([[ 3.87298335,  0.        ,  0.        ,  0.        ],\n",
       "       [ 2.5819889 ,  2.88675135,  0.        ,  0.        ],\n",
       "       [ 4.64758002, -1.73205081,  1.54919334,  0.        ],\n",
       "       [ 3.09838668,  1.73205081, -2.84018779,  1.15470054]])"
      ]
     },
     "execution_count": 24,
     "metadata": {},
     "output_type": "execute_result"
    }
   ],
   "source": [
    "from math import sqrt\n",
    "\n",
    "def cholesky(A):\n",
    "    \"\"\" calcule la matrice C correspondant à la \n",
    "        décomposition de cholesky d'une matrice A\n",
    "        A doit etre une matrice symétrique positive définie\n",
    "    \"\"\"\n",
    "    n = A.shape[0]\n",
    "    \n",
    "    C = np.zeros((n,n))\n",
    "    \n",
    "    C[0,0] = sqrt(A[0,0])\n",
    "    \n",
    "    C[1:,0] = A[1:,0] / C[0,0]\n",
    "    \n",
    "    \n",
    "    \n",
    "    for j in range(1,n):\n",
    "        for i in range(j+1):\n",
    "            \n",
    "            tmp_sum = sum(C[i,k]*C[j,k] for k in range(i))\n",
    "            \n",
    "            #diagonal coefs\n",
    "            if i == j:\n",
    "                C[j,i] = sqrt( (A[i,j] - tmp_sum ) ) # j > 1\n",
    "            else:\n",
    "            #other\n",
    "                C[j,i] = (A[i,j] - tmp_sum ) / (C[i,i])\n",
    "            \n",
    "            \n",
    "    return C\n",
    "            \n",
    "C = cholesky(A)\n",
    "\n",
    "C"
   ]
  },
  {
   "cell_type": "code",
   "execution_count": 25,
   "metadata": {},
   "outputs": [
    {
     "data": {
      "text/plain": [
       "array([[ 3.87298335,  0.        ,  0.        ,  0.        ],\n",
       "       [ 2.5819889 ,  2.88675135,  0.        ,  0.        ],\n",
       "       [ 4.64758002, -1.73205081,  1.54919334,  0.        ],\n",
       "       [ 3.09838668,  1.73205081, -2.84018779,  1.15470054]])"
      ]
     },
     "execution_count": 25,
     "metadata": {},
     "output_type": "execute_result"
    }
   ],
   "source": [
    "Cl = np.linalg.cholesky(A)\n",
    "Cl"
   ]
  },
  {
   "cell_type": "code",
   "execution_count": 26,
   "metadata": {},
   "outputs": [
    {
     "data": {
      "text/plain": [
       "array([[15., 10., 18., 12.],\n",
       "       [10., 15.,  7., 13.],\n",
       "       [18.,  7., 27.,  7.],\n",
       "       [12., 13.,  7., 22.]])"
      ]
     },
     "execution_count": 26,
     "metadata": {},
     "output_type": "execute_result"
    }
   ],
   "source": [
    "np.dot(C,np.transpose(C)) #this gives us A"
   ]
  },
  {
   "cell_type": "markdown",
   "metadata": {},
   "source": [
    "### Est ce que A est définie positive\n",
    "Par définition, A est dite définie positive si\n",
    "\n",
    "\n",
    "par def la decomp cholesky nous donne une matrice C qui est définie par la relation $A= CC^T$\n",
    "\n",
    "On peut tenter de trouver la solution du système suivant : $Ax = b$"
   ]
  },
  {
   "cell_type": "code",
   "execution_count": 27,
   "metadata": {},
   "outputs": [],
   "source": [
    "b = np.array([53,72,26,97])\n",
    "\n",
    "y1 = triang_sup(np.transpose(C),b)"
   ]
  },
  {
   "cell_type": "code",
   "execution_count": 28,
   "metadata": {},
   "outputs": [
    {
     "data": {
      "text/plain": [
       "array([[-309.81071169],\n",
       "       [  77.01352041],\n",
       "       [ 170.79111214],\n",
       "       [  84.00446417]])"
      ]
     },
     "execution_count": 28,
     "metadata": {},
     "output_type": "execute_result"
    }
   ],
   "source": [
    "y1"
   ]
  },
  {
   "cell_type": "code",
   "execution_count": 29,
   "metadata": {},
   "outputs": [
    {
     "data": {
      "text/plain": [
       "array([[53.],\n",
       "       [72.],\n",
       "       [26.],\n",
       "       [97.]])"
      ]
     },
     "execution_count": 29,
     "metadata": {},
     "output_type": "execute_result"
    }
   ],
   "source": [
    "np.dot(np.transpose(C),y1) #should give us b"
   ]
  },
  {
   "cell_type": "code",
   "execution_count": 30,
   "metadata": {},
   "outputs": [
    {
     "data": {
      "text/plain": [
       "array([[-309.81071169],\n",
       "       [ 876.94133831],\n",
       "       [3129.56813755],\n",
       "       [8413.57209597]])"
      ]
     },
     "execution_count": 30,
     "metadata": {},
     "output_type": "execute_result"
    }
   ],
   "source": [
    "x1 = triang_inf(C,y1)\n",
    "\n",
    "x1"
   ]
  },
  {
   "cell_type": "code",
   "execution_count": 31,
   "metadata": {},
   "outputs": [
    {
     "data": {
      "text/plain": [
       "array([ 1.,  2., -1.,  3.])"
      ]
     },
     "execution_count": 31,
     "metadata": {},
     "output_type": "execute_result"
    }
   ],
   "source": [
    "np.linalg.solve(A,b)"
   ]
  },
  {
   "cell_type": "code",
   "execution_count": 32,
   "metadata": {},
   "outputs": [
    {
     "data": {
      "text/plain": [
       "array([[161417.34433534],\n",
       "       [141339.42716823],\n",
       "       [143955.34094345],\n",
       "       [214688.07193201]])"
      ]
     },
     "execution_count": 32,
     "metadata": {},
     "output_type": "execute_result"
    }
   ],
   "source": [
    "np.dot(A,x1)"
   ]
  },
  {
   "cell_type": "markdown",
   "metadata": {},
   "source": [
    "## Decomposition de Ritchmayer"
   ]
  },
  {
   "cell_type": "code",
   "execution_count": 33,
   "metadata": {},
   "outputs": [
    {
     "name": "stdout",
     "output_type": "stream",
     "text": [
      "[[2 3 0 0 0]\n",
      " [1 3 1 0 0]\n",
      " [0 2 1 2 0]\n",
      " [0 0 1 1 1]\n",
      " [0 0 0 2 1]]\n",
      "[-1  0  0  3  1]\n"
     ]
    }
   ],
   "source": [
    "from scipy.sparse import diags\n",
    "\n",
    "# Générons une matrice tridiagonale\n",
    "a = [1, 2, 1, 2]\n",
    "b = [2, 3, 1, 1, 1]\n",
    "c = [3, 1, 2, 1]\n",
    "A = diags([a, b, c], [-1, 0, 1], shape=(5, 5), dtype=int).toarray()\n",
    "print(A)\n",
    "\n",
    "# Générons un vecteur u\n",
    "u = np.array([-1, 0, 0, 3, 1])\n",
    "print(u)"
   ]
  }
 ],
 "metadata": {
  "kernelspec": {
   "display_name": "Python 3",
   "language": "python",
   "name": "python3"
  },
  "language_info": {
   "codemirror_mode": {
    "name": "ipython",
    "version": 3
   },
   "file_extension": ".py",
   "mimetype": "text/x-python",
   "name": "python",
   "nbconvert_exporter": "python",
   "pygments_lexer": "ipython3",
   "version": "3.6.8"
  }
 },
 "nbformat": 4,
 "nbformat_minor": 2
}
