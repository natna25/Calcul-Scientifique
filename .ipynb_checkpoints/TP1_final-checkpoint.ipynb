{
 "cells": [
  {
   "cell_type": "markdown",
   "metadata": {},
   "source": [
    "# TP1: Methodes directes pour la résolution des systèmes linéaires\n",
    "\n",
    "On souhaite résoudre l'équation de la forme: \n",
    "\n",
    "## $$ Ax = b $$\n",
    "\n",
    "Avec, A une matrice carrée de dimension (n,n), x de dimension (n,1) et b de dimension (n,1). la matrice A et le vecteur b sont connues et on cherche à trouver x. d'ordinaire on aurait trouvé l'inverse de la matrics A afin d'en déduire x avec l'équation $$ x = A^{-1}b $$  \n",
    "\n",
    "Trouver l'inverse d'une matrice devient vite compliqué à calculer lorsque la taille de la matrice augmente, ceci n'étant pas scalable, il faut utiliser une autre méthode pour résoudre cette équation plus rapidement."
   ]
  },
  {
   "cell_type": "code",
   "execution_count": 60,
   "metadata": {},
   "outputs": [],
   "source": [
    "import numpy as np\n",
    "import scipy as sc\n",
    "\n",
    "from scipy import linalg as lg"
   ]
  },
  {
   "cell_type": "code",
   "execution_count": 72,
   "metadata": {},
   "outputs": [
    {
     "data": {
      "text/plain": [
       "array([[4, 0, 0, 2, 1],\n",
       "       [1, 4, 3, 0, 3],\n",
       "       [3, 0, 1, 4, 1],\n",
       "       [4, 3, 2, 3, 0],\n",
       "       [1, 3, 3, 4, 1]])"
      ]
     },
     "execution_count": 72,
     "metadata": {},
     "output_type": "execute_result"
    }
   ],
   "source": [
    "def gen_a_b(n=5):\n",
    "    # On génère une matrice inversible (det(A) = 0) et qui n'aura pas de permutation dans la decomp LU\n",
    "    while True:  \n",
    "        A = np.random.randint(5,size=(n, n))\n",
    "        p,L, U = lg.lu(A)\n",
    "\n",
    "        if np.linalg.det(A) != 0 and np.trace(p) == n:\n",
    "            break\n",
    "\n",
    "    b = np.random.randint(5,size=(n, 1))\n",
    "    \n",
    "    return A,b\n",
    "\n",
    "A,b = gen_a_b(5)\n",
    "A"
   ]
  },
  {
   "cell_type": "code",
   "execution_count": 73,
   "metadata": {},
   "outputs": [
    {
     "data": {
      "text/plain": [
       "array([[4],\n",
       "       [4],\n",
       "       [1],\n",
       "       [0],\n",
       "       [2]])"
      ]
     },
     "execution_count": 73,
     "metadata": {},
     "output_type": "execute_result"
    }
   ],
   "source": [
    "b"
   ]
  },
  {
   "cell_type": "markdown",
   "metadata": {},
   "source": [
    "on regarde si la matrice est inversible, elle ne l'est pas si il y a des 0\n",
    "https://docs.scipy.org/doc/numpy/reference/generated/numpy.linalg.inv.html"
   ]
  },
  {
   "cell_type": "markdown",
   "metadata": {},
   "source": [
    "## Decomposition LU"
   ]
  },
  {
   "cell_type": "code",
   "execution_count": 74,
   "metadata": {},
   "outputs": [],
   "source": [
    "from scipy import linalg as lg\n",
    "\n",
    "p,L, U = lg.lu(A, )\n",
    "\n"
   ]
  },
  {
   "cell_type": "markdown",
   "metadata": {},
   "source": [
    "P est une matrice de permutation\n",
    "\n",
    "https://www.wikiwand.com/en/Permutation_matrix"
   ]
  },
  {
   "cell_type": "code",
   "execution_count": 75,
   "metadata": {},
   "outputs": [
    {
     "data": {
      "text/plain": [
       "array([[1., 0., 0., 0., 0.],\n",
       "       [0., 1., 0., 0., 0.],\n",
       "       [0., 0., 1., 0., 0.],\n",
       "       [0., 0., 0., 1., 0.],\n",
       "       [0., 0., 0., 0., 1.]])"
      ]
     },
     "execution_count": 75,
     "metadata": {},
     "output_type": "execute_result"
    }
   ],
   "source": [
    "p"
   ]
  },
  {
   "cell_type": "code",
   "execution_count": 76,
   "metadata": {},
   "outputs": [
    {
     "data": {
      "text/plain": [
       "array([[ 1.  ,  0.  ,  0.  ,  0.  ,  0.  ],\n",
       "       [ 0.25,  1.  ,  0.  ,  0.  ,  0.  ],\n",
       "       [ 0.75,  0.  ,  1.  ,  0.  ,  0.  ],\n",
       "       [ 1.  ,  0.75, -0.25,  1.  ,  0.  ],\n",
       "       [ 0.25,  0.75,  0.75,  1.  ,  1.  ]])"
      ]
     },
     "execution_count": 76,
     "metadata": {},
     "output_type": "execute_result"
    }
   ],
   "source": [
    "L"
   ]
  },
  {
   "cell_type": "code",
   "execution_count": 77,
   "metadata": {},
   "outputs": [
    {
     "data": {
      "text/plain": [
       "array([[ 4.  ,  0.  ,  0.  ,  2.  ,  1.  ],\n",
       "       [ 0.  ,  4.  ,  3.  , -0.5 ,  2.75],\n",
       "       [ 0.  ,  0.  ,  1.  ,  2.5 ,  0.25],\n",
       "       [ 0.  ,  0.  ,  0.  ,  2.  , -3.  ],\n",
       "       [ 0.  ,  0.  ,  0.  ,  0.  ,  1.5 ]])"
      ]
     },
     "execution_count": 77,
     "metadata": {},
     "output_type": "execute_result"
    }
   ],
   "source": [
    "U"
   ]
  },
  {
   "cell_type": "markdown",
   "metadata": {},
   "source": [
    "### Decomp LU sans librairie"
   ]
  },
  {
   "cell_type": "code",
   "execution_count": 78,
   "metadata": {},
   "outputs": [],
   "source": [
    "def decomp_lu(A):\n",
    "    \"\"\" Calcule la décomposition LU d'une matrice carré inversible A\n",
    "    \"\"\"\n",
    "    n = A.shape[0]\n",
    "    \n",
    "    L = np.zeros((n,n))\n",
    "    U = np.zeros((n,n))\n",
    "    \n",
    "    # 1ere ligne de U = 1ere ligne de A\n",
    "    U[0] = A[0]\n",
    "        \n",
    "    # 1ere colonne de L = 1ere colonne de A\n",
    "    L[:,0] = A[:,0] / U[0,0]\n",
    "    \n",
    "    for i in range(1, n):\n",
    "        L[i,i] = 1\n",
    "        U[i,i] = A[i,i] - np.sum(np.multiply(L[i,:i], U[:i,i]))\n",
    "        \n",
    "        for j in range(i + 1, n):\n",
    "            U[i,j] = A[i,j] - np.sum(np.multiply(L[i,:i], U[:i,j]))\n",
    "            L[j,i] = (A[j,i] - np.sum(np.multiply(L[j,:i], U[:i,i]))) / U[i,i]\n",
    "        \n",
    "    return L,U\n",
    "    \n",
    "Lm,Um = decomp_lu(A)"
   ]
  },
  {
   "cell_type": "code",
   "execution_count": 79,
   "metadata": {},
   "outputs": [
    {
     "data": {
      "text/plain": [
       "array([[ 1.  ,  0.  ,  0.  ,  0.  ,  0.  ],\n",
       "       [ 0.25,  1.  ,  0.  ,  0.  ,  0.  ],\n",
       "       [ 0.75,  0.  ,  1.  ,  0.  ,  0.  ],\n",
       "       [ 1.  ,  0.75, -0.25,  1.  ,  0.  ],\n",
       "       [ 0.25,  0.75,  0.75,  1.  ,  1.  ]])"
      ]
     },
     "execution_count": 79,
     "metadata": {},
     "output_type": "execute_result"
    }
   ],
   "source": [
    "Lm \n"
   ]
  },
  {
   "cell_type": "code",
   "execution_count": 80,
   "metadata": {},
   "outputs": [
    {
     "data": {
      "text/plain": [
       "array([[ 1.  ,  0.  ,  0.  ,  0.  ,  0.  ],\n",
       "       [ 0.25,  1.  ,  0.  ,  0.  ,  0.  ],\n",
       "       [ 0.75,  0.  ,  1.  ,  0.  ,  0.  ],\n",
       "       [ 1.  ,  0.75, -0.25,  1.  ,  0.  ],\n",
       "       [ 0.25,  0.75,  0.75,  1.  ,  1.  ]])"
      ]
     },
     "execution_count": 80,
     "metadata": {},
     "output_type": "execute_result"
    }
   ],
   "source": [
    "L"
   ]
  },
  {
   "cell_type": "code",
   "execution_count": 81,
   "metadata": {},
   "outputs": [
    {
     "data": {
      "text/plain": [
       "array([[ 4.  ,  0.  ,  0.  ,  2.  ,  1.  ],\n",
       "       [ 0.  ,  4.  ,  3.  , -0.5 ,  2.75],\n",
       "       [ 0.  ,  0.  ,  1.  ,  2.5 ,  0.25],\n",
       "       [ 0.  ,  0.  ,  0.  ,  2.  , -3.  ],\n",
       "       [ 0.  ,  0.  ,  0.  ,  0.  ,  1.5 ]])"
      ]
     },
     "execution_count": 81,
     "metadata": {},
     "output_type": "execute_result"
    }
   ],
   "source": [
    "Um"
   ]
  },
  {
   "cell_type": "code",
   "execution_count": 82,
   "metadata": {},
   "outputs": [
    {
     "data": {
      "text/plain": [
       "array([[ 4.  ,  0.  ,  0.  ,  2.  ,  1.  ],\n",
       "       [ 0.  ,  4.  ,  3.  , -0.5 ,  2.75],\n",
       "       [ 0.  ,  0.  ,  1.  ,  2.5 ,  0.25],\n",
       "       [ 0.  ,  0.  ,  0.  ,  2.  , -3.  ],\n",
       "       [ 0.  ,  0.  ,  0.  ,  0.  ,  1.5 ]])"
      ]
     },
     "execution_count": 82,
     "metadata": {},
     "output_type": "execute_result"
    }
   ],
   "source": [
    "U"
   ]
  },
  {
   "cell_type": "markdown",
   "metadata": {},
   "source": [
    "## Triangulaire inférieure"
   ]
  },
  {
   "cell_type": "code",
   "execution_count": 83,
   "metadata": {},
   "outputs": [],
   "source": [
    "def triang_inf(T,b):\n",
    "    \"\"\"calcule x selon l'équation Tx=b avec T une matrice triangulaire inférieure et b un vecteur connu\n",
    "    Return:\n",
    "        x: vecteur solution de l'équation\n",
    "    \"\"\"\n",
    "    n = T.shape[0]\n",
    "    x = np.zeros((n, 1))\n",
    "\n",
    "    for k in range(n):\n",
    "        x[k] = (b[k] - np.sum(np.multiply(T[k], np.transpose(x))))/ T[k,k]\n",
    "    \n",
    "    return x\n",
    "    \n",
    "y = triang_inf(L,b)"
   ]
  },
  {
   "cell_type": "code",
   "execution_count": 84,
   "metadata": {},
   "outputs": [
    {
     "data": {
      "text/plain": [
       "array([[4.],\n",
       "       [4.],\n",
       "       [1.],\n",
       "       [0.],\n",
       "       [2.]])"
      ]
     },
     "execution_count": 84,
     "metadata": {},
     "output_type": "execute_result"
    }
   ],
   "source": [
    "np.dot(L,y)"
   ]
  },
  {
   "cell_type": "code",
   "execution_count": 85,
   "metadata": {},
   "outputs": [
    {
     "data": {
      "text/plain": [
       "array([[4],\n",
       "       [4],\n",
       "       [1],\n",
       "       [0],\n",
       "       [2]])"
      ]
     },
     "execution_count": 85,
     "metadata": {},
     "output_type": "execute_result"
    }
   ],
   "source": [
    "b"
   ]
  },
  {
   "cell_type": "markdown",
   "metadata": {},
   "source": [
    "## Triangulaire supérieure"
   ]
  },
  {
   "cell_type": "code",
   "execution_count": 86,
   "metadata": {},
   "outputs": [],
   "source": [
    "def triang_sup(T,b):\n",
    "    \"\"\"calcule x selon l'équation Tx=b avec T une matrice triangulaire supérieure et b un vecteur connu\n",
    "    Return:\n",
    "        x: vecteur solution de l'équation\n",
    "    \"\"\"\n",
    "    n = T.shape[0]\n",
    "    x = np.zeros((n, 1))\n",
    "\n",
    "    for k in range(n - 1 , -1, -1):\n",
    "        x[k] = (b[k] - np.sum(np.multiply(T[k], np.transpose(x)))) / T[k,k]\n",
    "    \n",
    "    \n",
    "    return x\n",
    "    \n",
    "x = triang_sup(U,y)\n",
    "    "
   ]
  },
  {
   "cell_type": "code",
   "execution_count": 87,
   "metadata": {},
   "outputs": [
    {
     "data": {
      "text/plain": [
       "array([[4.],\n",
       "       [4.],\n",
       "       [1.],\n",
       "       [0.],\n",
       "       [2.]])"
      ]
     },
     "execution_count": 87,
     "metadata": {},
     "output_type": "execute_result"
    }
   ],
   "source": [
    "np.dot(np.transpose(p),np.dot(A,x))"
   ]
  },
  {
   "cell_type": "code",
   "execution_count": 88,
   "metadata": {},
   "outputs": [
    {
     "data": {
      "text/plain": [
       "array([[4., 4., 1., 0., 2.]])"
      ]
     },
     "execution_count": 88,
     "metadata": {},
     "output_type": "execute_result"
    }
   ],
   "source": [
    "np.dot(np.transpose(np.dot(A,x)), p)"
   ]
  },
  {
   "cell_type": "code",
   "execution_count": 89,
   "metadata": {},
   "outputs": [
    {
     "data": {
      "text/plain": [
       "array([[4],\n",
       "       [4],\n",
       "       [1],\n",
       "       [0],\n",
       "       [2]])"
      ]
     },
     "execution_count": 89,
     "metadata": {},
     "output_type": "execute_result"
    }
   ],
   "source": [
    "b"
   ]
  },
  {
   "cell_type": "markdown",
   "metadata": {},
   "source": [
    "## Pivot de Gauss"
   ]
  },
  {
   "cell_type": "code",
   "execution_count": 163,
   "metadata": {},
   "outputs": [
    {
     "data": {
      "text/plain": [
       "array([[ 1.85338346],\n",
       "       [-5.02819549],\n",
       "       [ 7.93233083],\n",
       "       [-1.7593985 ],\n",
       "       [ 0.10526316]])"
      ]
     },
     "execution_count": 163,
     "metadata": {},
     "output_type": "execute_result"
    }
   ],
   "source": [
    "def gauss(A, b):\n",
    "    n = A.shape[0]\n",
    "    M = A\n",
    "    x = np.zeros((n, 1))\n",
    "    \n",
    "    for k in range(n - 1):\n",
    "        for i in range(k + 1, n):\n",
    "            M[i, k] = A[i, k] / A[k, k]\n",
    "            A[i, k:] = A[i, k:] - M[i, k] * A[k, k:]\n",
    "            b[i] = b[i] - M[i, k] * b[k]\n",
    "    \n",
    "    for i in range(n - 1 , -1, -1):\n",
    "        x[i] = (b[i] - np.sum(np.multiply(A[i], np.transpose(x)))) / A[i, i]\n",
    "        \n",
    "    return x\n",
    "\n",
    "xg = gauss(A, b)\n",
    "xg"
   ]
  },
  {
   "cell_type": "code",
   "execution_count": 166,
   "metadata": {},
   "outputs": [
    {
     "data": {
      "text/plain": [
       "array([[ 4.        ],\n",
       "       [ 4.        ],\n",
       "       [ 1.        ],\n",
       "       [12.        ],\n",
       "       [16.07518797]])"
      ]
     },
     "execution_count": 166,
     "metadata": {},
     "output_type": "execute_result"
    }
   ],
   "source": [
    "np.dot(A,xg)"
   ]
  },
  {
   "cell_type": "markdown",
   "metadata": {},
   "source": [
    "# Problèmes avec l'inverse d'une matrice\n",
    "\n",
    "se baser sur trouver l'inverse de la matrice n'est pas pratique car la complexité croit exponentiellement lorsqu'on augmente la taille de la matrice. Il n'est pas du tout pratique d'utiliser cette méthode mais plutot d'autres techniques de decomposition nettement plus rapides qui auront un temp plus linéaire à la tâche à accomplir"
   ]
  },
  {
   "cell_type": "code",
   "execution_count": 92,
   "metadata": {},
   "outputs": [
    {
     "name": "stdout",
     "output_type": "stream",
     "text": [
      "taille de 10 inversion\n",
      "The slowest run took 4.84 times longer than the fastest. This could mean that an intermediate result is being cached.\n",
      "56.2 µs ± 40.4 µs per loop (mean ± std. dev. of 7 runs, 1 loop each)\n",
      "taille de 25 inversion\n",
      "141 µs ± 50.4 µs per loop (mean ± std. dev. of 7 runs, 1 loop each)\n",
      "taille de 50 inversion\n",
      "484 µs ± 66.5 µs per loop (mean ± std. dev. of 7 runs, 1 loop each)\n",
      "taille de 100 inversion\n",
      "2.44 ms ± 231 µs per loop (mean ± std. dev. of 7 runs, 1 loop each)\n",
      "taille de 200 inversion\n",
      "7.62 ms ± 415 µs per loop (mean ± std. dev. of 7 runs, 1 loop each)\n"
     ]
    }
   ],
   "source": [
    "sizes = [10,25,50,100,200] # avec 10000 ca prend trop longtemp, 42s cossomant 4gb de RAM et 100% du processeur\n",
    "#on teste les tailles différentes\n",
    "for size in sizes:\n",
    "    A1 = np.random.randint(3,size=(size, size))\n",
    "    print(\"taille de\",size ,\"inversion\")\n",
    "    %timeit -n 1 np.linalg.inv(A1)\n",
    "    "
   ]
  },
  {
   "cell_type": "markdown",
   "metadata": {},
   "source": [
    "lorsqu'on passe d'une matrice de taille 1000 à 10000, le temps d'inversion passe de 240 ms à 42s! tout cela en cossomant beaucoup de mémoire (presque 4Gb de RAM) et 100% du processeur\n",
    "\n",
    "# Test des autre méthodes\n",
    "voici un test des autres méthodes de résolution afin de comparer avec l'inversion d'une matrice vu ci dessus.\n",
    "\n",
    "1) decomp lu"
   ]
  },
  {
   "cell_type": "code",
   "execution_count": 93,
   "metadata": {},
   "outputs": [
    {
     "name": "stdout",
     "output_type": "stream",
     "text": [
      "taille de 10\n",
      "decomp\n",
      "The slowest run took 5.20 times longer than the fastest. This could mean that an intermediate result is being cached.\n",
      "49.2 µs ± 38.8 µs per loop (mean ± std. dev. of 7 runs, 1 loop each)\n",
      "taille de 25\n",
      "decomp\n",
      "61.8 µs ± 13.9 µs per loop (mean ± std. dev. of 7 runs, 1 loop each)\n",
      "taille de 50\n",
      "decomp\n",
      "530 µs ± 76.6 µs per loop (mean ± std. dev. of 7 runs, 1 loop each)\n",
      "taille de 100\n",
      "decomp\n",
      "2.2 ms ± 76.1 µs per loop (mean ± std. dev. of 7 runs, 1 loop each)\n",
      "taille de 200\n",
      "decomp\n",
      "6.79 ms ± 625 µs per loop (mean ± std. dev. of 7 runs, 1 loop each)\n"
     ]
    }
   ],
   "source": [
    "sizes = [10,25,50,100,200]\n",
    "#on teste les tailles différentes\n",
    "for size in sizes:\n",
    "    print(\"taille de\",size)\n",
    "    A1 = np.random.randint(3,size=(size, size))\n",
    "    print(\"decomp\")\n",
    "    %timeit -n 1 lg.lu(A1)\n",
    "    "
   ]
  },
  {
   "cell_type": "markdown",
   "metadata": {},
   "source": [
    "2) Pivot de gauss"
   ]
  },
  {
   "cell_type": "code",
   "execution_count": 94,
   "metadata": {},
   "outputs": [
    {
     "name": "stdout",
     "output_type": "stream",
     "text": [
      "taille de 10\n",
      "decomp\n",
      "The slowest run took 8.11 times longer than the fastest. This could mean that an intermediate result is being cached.\n",
      "797 µs ± 753 µs per loop (mean ± std. dev. of 7 runs, 1 loop each)\n",
      "taille de 25\n",
      "decomp\n"
     ]
    },
    {
     "name": "stderr",
     "output_type": "stream",
     "text": [
      "/home/antoine/.local/lib/python3.6/site-packages/ipykernel_launcher.py:13: RuntimeWarning: divide by zero encountered in double_scalars\n",
      "  del sys.path[0]\n",
      "/home/antoine/.local/lib/python3.6/site-packages/ipykernel_launcher.py:13: RuntimeWarning: invalid value encountered in multiply\n",
      "  del sys.path[0]\n",
      "/home/antoine/.local/lib/python3.6/site-packages/ipykernel_launcher.py:8: RuntimeWarning: divide by zero encountered in long_scalars\n",
      "  \n"
     ]
    },
    {
     "ename": "OverflowError",
     "evalue": "cannot convert float infinity to integer",
     "output_type": "error",
     "traceback": [
      "\u001b[0;31m---------------------------------------------------------------------------\u001b[0m",
      "\u001b[0;31mOverflowError\u001b[0m                             Traceback (most recent call last)",
      "\u001b[0;32m<ipython-input-94-babc84230ce1>\u001b[0m in \u001b[0;36m<module>\u001b[0;34m\u001b[0m\n\u001b[1;32m      6\u001b[0m     \u001b[0mb1\u001b[0m \u001b[0;34m=\u001b[0m \u001b[0mnp\u001b[0m\u001b[0;34m.\u001b[0m\u001b[0mrandom\u001b[0m\u001b[0;34m.\u001b[0m\u001b[0mrandint\u001b[0m\u001b[0;34m(\u001b[0m\u001b[0;36m3\u001b[0m\u001b[0;34m,\u001b[0m\u001b[0msize\u001b[0m\u001b[0;34m=\u001b[0m\u001b[0;34m(\u001b[0m\u001b[0msize\u001b[0m\u001b[0;34m)\u001b[0m\u001b[0;34m)\u001b[0m\u001b[0;34m\u001b[0m\u001b[0;34m\u001b[0m\u001b[0m\n\u001b[1;32m      7\u001b[0m     \u001b[0mprint\u001b[0m\u001b[0;34m(\u001b[0m\u001b[0;34m\"decomp\"\u001b[0m\u001b[0;34m)\u001b[0m\u001b[0;34m\u001b[0m\u001b[0;34m\u001b[0m\u001b[0m\n\u001b[0;32m----> 8\u001b[0;31m     \u001b[0mget_ipython\u001b[0m\u001b[0;34m(\u001b[0m\u001b[0;34m)\u001b[0m\u001b[0;34m.\u001b[0m\u001b[0mrun_line_magic\u001b[0m\u001b[0;34m(\u001b[0m\u001b[0;34m'timeit'\u001b[0m\u001b[0;34m,\u001b[0m \u001b[0;34m'-n 1 gauss(A1,b1)'\u001b[0m\u001b[0;34m)\u001b[0m\u001b[0;34m\u001b[0m\u001b[0;34m\u001b[0m\u001b[0m\n\u001b[0m",
      "\u001b[0;32m~/.local/lib/python3.6/site-packages/IPython/core/interactiveshell.py\u001b[0m in \u001b[0;36mrun_line_magic\u001b[0;34m(self, magic_name, line, _stack_depth)\u001b[0m\n\u001b[1;32m   2311\u001b[0m                 \u001b[0mkwargs\u001b[0m\u001b[0;34m[\u001b[0m\u001b[0;34m'local_ns'\u001b[0m\u001b[0;34m]\u001b[0m \u001b[0;34m=\u001b[0m \u001b[0msys\u001b[0m\u001b[0;34m.\u001b[0m\u001b[0m_getframe\u001b[0m\u001b[0;34m(\u001b[0m\u001b[0mstack_depth\u001b[0m\u001b[0;34m)\u001b[0m\u001b[0;34m.\u001b[0m\u001b[0mf_locals\u001b[0m\u001b[0;34m\u001b[0m\u001b[0;34m\u001b[0m\u001b[0m\n\u001b[1;32m   2312\u001b[0m             \u001b[0;32mwith\u001b[0m \u001b[0mself\u001b[0m\u001b[0;34m.\u001b[0m\u001b[0mbuiltin_trap\u001b[0m\u001b[0;34m:\u001b[0m\u001b[0;34m\u001b[0m\u001b[0;34m\u001b[0m\u001b[0m\n\u001b[0;32m-> 2313\u001b[0;31m                 \u001b[0mresult\u001b[0m \u001b[0;34m=\u001b[0m \u001b[0mfn\u001b[0m\u001b[0;34m(\u001b[0m\u001b[0;34m*\u001b[0m\u001b[0margs\u001b[0m\u001b[0;34m,\u001b[0m \u001b[0;34m**\u001b[0m\u001b[0mkwargs\u001b[0m\u001b[0;34m)\u001b[0m\u001b[0;34m\u001b[0m\u001b[0;34m\u001b[0m\u001b[0m\n\u001b[0m\u001b[1;32m   2314\u001b[0m             \u001b[0;32mreturn\u001b[0m \u001b[0mresult\u001b[0m\u001b[0;34m\u001b[0m\u001b[0;34m\u001b[0m\u001b[0m\n\u001b[1;32m   2315\u001b[0m \u001b[0;34m\u001b[0m\u001b[0m\n",
      "\u001b[0;32m</home/antoine/.local/lib/python3.6/site-packages/decorator.py:decorator-gen-60>\u001b[0m in \u001b[0;36mtimeit\u001b[0;34m(self, line, cell, local_ns)\u001b[0m\n",
      "\u001b[0;32m~/.local/lib/python3.6/site-packages/IPython/core/magic.py\u001b[0m in \u001b[0;36m<lambda>\u001b[0;34m(f, *a, **k)\u001b[0m\n\u001b[1;32m    185\u001b[0m     \u001b[0;31m# but it's overkill for just that one bit of state.\u001b[0m\u001b[0;34m\u001b[0m\u001b[0;34m\u001b[0m\u001b[0;34m\u001b[0m\u001b[0m\n\u001b[1;32m    186\u001b[0m     \u001b[0;32mdef\u001b[0m \u001b[0mmagic_deco\u001b[0m\u001b[0;34m(\u001b[0m\u001b[0marg\u001b[0m\u001b[0;34m)\u001b[0m\u001b[0;34m:\u001b[0m\u001b[0;34m\u001b[0m\u001b[0;34m\u001b[0m\u001b[0m\n\u001b[0;32m--> 187\u001b[0;31m         \u001b[0mcall\u001b[0m \u001b[0;34m=\u001b[0m \u001b[0;32mlambda\u001b[0m \u001b[0mf\u001b[0m\u001b[0;34m,\u001b[0m \u001b[0;34m*\u001b[0m\u001b[0ma\u001b[0m\u001b[0;34m,\u001b[0m \u001b[0;34m**\u001b[0m\u001b[0mk\u001b[0m\u001b[0;34m:\u001b[0m \u001b[0mf\u001b[0m\u001b[0;34m(\u001b[0m\u001b[0;34m*\u001b[0m\u001b[0ma\u001b[0m\u001b[0;34m,\u001b[0m \u001b[0;34m**\u001b[0m\u001b[0mk\u001b[0m\u001b[0;34m)\u001b[0m\u001b[0;34m\u001b[0m\u001b[0;34m\u001b[0m\u001b[0m\n\u001b[0m\u001b[1;32m    188\u001b[0m \u001b[0;34m\u001b[0m\u001b[0m\n\u001b[1;32m    189\u001b[0m         \u001b[0;32mif\u001b[0m \u001b[0mcallable\u001b[0m\u001b[0;34m(\u001b[0m\u001b[0marg\u001b[0m\u001b[0;34m)\u001b[0m\u001b[0;34m:\u001b[0m\u001b[0;34m\u001b[0m\u001b[0;34m\u001b[0m\u001b[0m\n",
      "\u001b[0;32m~/.local/lib/python3.6/site-packages/IPython/core/magics/execution.py\u001b[0m in \u001b[0;36mtimeit\u001b[0;34m(self, line, cell, local_ns)\u001b[0m\n\u001b[1;32m   1160\u001b[0m                     \u001b[0;32mbreak\u001b[0m\u001b[0;34m\u001b[0m\u001b[0;34m\u001b[0m\u001b[0m\n\u001b[1;32m   1161\u001b[0m \u001b[0;34m\u001b[0m\u001b[0m\n\u001b[0;32m-> 1162\u001b[0;31m         \u001b[0mall_runs\u001b[0m \u001b[0;34m=\u001b[0m \u001b[0mtimer\u001b[0m\u001b[0;34m.\u001b[0m\u001b[0mrepeat\u001b[0m\u001b[0;34m(\u001b[0m\u001b[0mrepeat\u001b[0m\u001b[0;34m,\u001b[0m \u001b[0mnumber\u001b[0m\u001b[0;34m)\u001b[0m\u001b[0;34m\u001b[0m\u001b[0;34m\u001b[0m\u001b[0m\n\u001b[0m\u001b[1;32m   1163\u001b[0m         \u001b[0mbest\u001b[0m \u001b[0;34m=\u001b[0m \u001b[0mmin\u001b[0m\u001b[0;34m(\u001b[0m\u001b[0mall_runs\u001b[0m\u001b[0;34m)\u001b[0m \u001b[0;34m/\u001b[0m \u001b[0mnumber\u001b[0m\u001b[0;34m\u001b[0m\u001b[0;34m\u001b[0m\u001b[0m\n\u001b[1;32m   1164\u001b[0m         \u001b[0mworst\u001b[0m \u001b[0;34m=\u001b[0m \u001b[0mmax\u001b[0m\u001b[0;34m(\u001b[0m\u001b[0mall_runs\u001b[0m\u001b[0;34m)\u001b[0m \u001b[0;34m/\u001b[0m \u001b[0mnumber\u001b[0m\u001b[0;34m\u001b[0m\u001b[0;34m\u001b[0m\u001b[0m\n",
      "\u001b[0;32m/usr/lib/python3.6/timeit.py\u001b[0m in \u001b[0;36mrepeat\u001b[0;34m(self, repeat, number)\u001b[0m\n\u001b[1;32m    204\u001b[0m         \u001b[0mr\u001b[0m \u001b[0;34m=\u001b[0m \u001b[0;34m[\u001b[0m\u001b[0;34m]\u001b[0m\u001b[0;34m\u001b[0m\u001b[0;34m\u001b[0m\u001b[0m\n\u001b[1;32m    205\u001b[0m         \u001b[0;32mfor\u001b[0m \u001b[0mi\u001b[0m \u001b[0;32min\u001b[0m \u001b[0mrange\u001b[0m\u001b[0;34m(\u001b[0m\u001b[0mrepeat\u001b[0m\u001b[0;34m)\u001b[0m\u001b[0;34m:\u001b[0m\u001b[0;34m\u001b[0m\u001b[0;34m\u001b[0m\u001b[0m\n\u001b[0;32m--> 206\u001b[0;31m             \u001b[0mt\u001b[0m \u001b[0;34m=\u001b[0m \u001b[0mself\u001b[0m\u001b[0;34m.\u001b[0m\u001b[0mtimeit\u001b[0m\u001b[0;34m(\u001b[0m\u001b[0mnumber\u001b[0m\u001b[0;34m)\u001b[0m\u001b[0;34m\u001b[0m\u001b[0;34m\u001b[0m\u001b[0m\n\u001b[0m\u001b[1;32m    207\u001b[0m             \u001b[0mr\u001b[0m\u001b[0;34m.\u001b[0m\u001b[0mappend\u001b[0m\u001b[0;34m(\u001b[0m\u001b[0mt\u001b[0m\u001b[0;34m)\u001b[0m\u001b[0;34m\u001b[0m\u001b[0;34m\u001b[0m\u001b[0m\n\u001b[1;32m    208\u001b[0m         \u001b[0;32mreturn\u001b[0m \u001b[0mr\u001b[0m\u001b[0;34m\u001b[0m\u001b[0;34m\u001b[0m\u001b[0m\n",
      "\u001b[0;32m~/.local/lib/python3.6/site-packages/IPython/core/magics/execution.py\u001b[0m in \u001b[0;36mtimeit\u001b[0;34m(self, number)\u001b[0m\n\u001b[1;32m    167\u001b[0m         \u001b[0mgc\u001b[0m\u001b[0;34m.\u001b[0m\u001b[0mdisable\u001b[0m\u001b[0;34m(\u001b[0m\u001b[0;34m)\u001b[0m\u001b[0;34m\u001b[0m\u001b[0;34m\u001b[0m\u001b[0m\n\u001b[1;32m    168\u001b[0m         \u001b[0;32mtry\u001b[0m\u001b[0;34m:\u001b[0m\u001b[0;34m\u001b[0m\u001b[0;34m\u001b[0m\u001b[0m\n\u001b[0;32m--> 169\u001b[0;31m             \u001b[0mtiming\u001b[0m \u001b[0;34m=\u001b[0m \u001b[0mself\u001b[0m\u001b[0;34m.\u001b[0m\u001b[0minner\u001b[0m\u001b[0;34m(\u001b[0m\u001b[0mit\u001b[0m\u001b[0;34m,\u001b[0m \u001b[0mself\u001b[0m\u001b[0;34m.\u001b[0m\u001b[0mtimer\u001b[0m\u001b[0;34m)\u001b[0m\u001b[0;34m\u001b[0m\u001b[0;34m\u001b[0m\u001b[0m\n\u001b[0m\u001b[1;32m    170\u001b[0m         \u001b[0;32mfinally\u001b[0m\u001b[0;34m:\u001b[0m\u001b[0;34m\u001b[0m\u001b[0;34m\u001b[0m\u001b[0m\n\u001b[1;32m    171\u001b[0m             \u001b[0;32mif\u001b[0m \u001b[0mgcold\u001b[0m\u001b[0;34m:\u001b[0m\u001b[0;34m\u001b[0m\u001b[0;34m\u001b[0m\u001b[0m\n",
      "\u001b[0;32m<magic-timeit>\u001b[0m in \u001b[0;36minner\u001b[0;34m(_it, _timer)\u001b[0m\n",
      "\u001b[0;32m<ipython-input-90-11b6c90985d7>\u001b[0m in \u001b[0;36mgauss\u001b[0;34m(A, b)\u001b[0m\n\u001b[1;32m      6\u001b[0m     \u001b[0;32mfor\u001b[0m \u001b[0mk\u001b[0m \u001b[0;32min\u001b[0m \u001b[0mrange\u001b[0m\u001b[0;34m(\u001b[0m\u001b[0mn\u001b[0m \u001b[0;34m-\u001b[0m \u001b[0;36m1\u001b[0m\u001b[0;34m)\u001b[0m\u001b[0;34m:\u001b[0m\u001b[0;34m\u001b[0m\u001b[0;34m\u001b[0m\u001b[0m\n\u001b[1;32m      7\u001b[0m         \u001b[0;32mfor\u001b[0m \u001b[0mi\u001b[0m \u001b[0;32min\u001b[0m \u001b[0mrange\u001b[0m\u001b[0;34m(\u001b[0m\u001b[0mk\u001b[0m \u001b[0;34m+\u001b[0m \u001b[0;36m1\u001b[0m\u001b[0;34m,\u001b[0m \u001b[0mn\u001b[0m\u001b[0;34m)\u001b[0m\u001b[0;34m:\u001b[0m\u001b[0;34m\u001b[0m\u001b[0;34m\u001b[0m\u001b[0m\n\u001b[0;32m----> 8\u001b[0;31m             \u001b[0mM\u001b[0m\u001b[0;34m[\u001b[0m\u001b[0mi\u001b[0m\u001b[0;34m,\u001b[0m \u001b[0mk\u001b[0m\u001b[0;34m]\u001b[0m \u001b[0;34m=\u001b[0m \u001b[0mA\u001b[0m\u001b[0;34m[\u001b[0m\u001b[0mi\u001b[0m\u001b[0;34m,\u001b[0m \u001b[0mk\u001b[0m\u001b[0;34m]\u001b[0m \u001b[0;34m/\u001b[0m \u001b[0mA\u001b[0m\u001b[0;34m[\u001b[0m\u001b[0mk\u001b[0m\u001b[0;34m,\u001b[0m \u001b[0mk\u001b[0m\u001b[0;34m]\u001b[0m\u001b[0;34m\u001b[0m\u001b[0;34m\u001b[0m\u001b[0m\n\u001b[0m\u001b[1;32m      9\u001b[0m             \u001b[0mA\u001b[0m\u001b[0;34m[\u001b[0m\u001b[0mi\u001b[0m\u001b[0;34m,\u001b[0m \u001b[0mk\u001b[0m\u001b[0;34m:\u001b[0m\u001b[0;34m]\u001b[0m \u001b[0;34m=\u001b[0m \u001b[0mA\u001b[0m\u001b[0;34m[\u001b[0m\u001b[0mi\u001b[0m\u001b[0;34m,\u001b[0m \u001b[0mk\u001b[0m\u001b[0;34m:\u001b[0m\u001b[0;34m]\u001b[0m \u001b[0;34m-\u001b[0m \u001b[0mM\u001b[0m\u001b[0;34m[\u001b[0m\u001b[0mi\u001b[0m\u001b[0;34m,\u001b[0m \u001b[0mk\u001b[0m\u001b[0;34m]\u001b[0m \u001b[0;34m*\u001b[0m \u001b[0mA\u001b[0m\u001b[0;34m[\u001b[0m\u001b[0mk\u001b[0m\u001b[0;34m,\u001b[0m \u001b[0mk\u001b[0m\u001b[0;34m:\u001b[0m\u001b[0;34m]\u001b[0m\u001b[0;34m\u001b[0m\u001b[0;34m\u001b[0m\u001b[0m\n\u001b[1;32m     10\u001b[0m             \u001b[0mb\u001b[0m\u001b[0;34m[\u001b[0m\u001b[0mi\u001b[0m\u001b[0;34m]\u001b[0m \u001b[0;34m=\u001b[0m \u001b[0mb\u001b[0m\u001b[0;34m[\u001b[0m\u001b[0mi\u001b[0m\u001b[0;34m]\u001b[0m \u001b[0;34m-\u001b[0m \u001b[0mM\u001b[0m\u001b[0;34m[\u001b[0m\u001b[0mi\u001b[0m\u001b[0;34m,\u001b[0m \u001b[0mk\u001b[0m\u001b[0;34m]\u001b[0m \u001b[0;34m*\u001b[0m \u001b[0mb\u001b[0m\u001b[0;34m[\u001b[0m\u001b[0mk\u001b[0m\u001b[0;34m]\u001b[0m\u001b[0;34m\u001b[0m\u001b[0;34m\u001b[0m\u001b[0m\n",
      "\u001b[0;31mOverflowError\u001b[0m: cannot convert float infinity to integer"
     ]
    }
   ],
   "source": [
    "sizes = [10,25,50,100,200]\n",
    "#on teste les tailles différentes\n",
    "for size in sizes:\n",
    "    print(\"taille de\",size)\n",
    "    A1 = np.random.randint(3,size=(size, size))\n",
    "    b1 = np.random.randint(3,size=(size))\n",
    "    print(\"decomp\")\n",
    "    %timeit -n 1 gauss(A1,b1)"
   ]
  },
  {
   "cell_type": "markdown",
   "metadata": {},
   "source": [
    "## 5 Aller plus loin\n",
    "\n",
    "### Décomposition de Cholesky \n",
    "\n",
    "La méthode de cholesky permet de factoriser une matric A __Symétrique définie positive__ sous la forme $ A=CC^T$ où C est une matrice triangulaire inférieure inversible\n",
    "\n"
   ]
  },
  {
   "cell_type": "code",
   "execution_count": 35,
   "metadata": {},
   "outputs": [],
   "source": [
    "A = np.array([[15.0,10.0,18.0,12.0],\n",
    "              [10.0,15.0,7.0 ,13.0],\n",
    "              [18.0,7.0 ,27.0,7.0 ],\n",
    "              [12.0,13.0,7.0 ,22.0]])\n",
    "\n"
   ]
  },
  {
   "cell_type": "markdown",
   "metadata": {},
   "source": [
    "#### Calculer la matrice C, est ce que A est définie positive\n",
    "\n",
    "$l_{kk} = \\sqrt{ a_{kk} - \\sum^{k-1}_{j=1} l^2_{kj}}$ \n",
    "\n",
    "$ l_{ik} = \\frac{1}{l_{kk}} \\left( a_{ik} - \\sum^{k-1}_{j=1} l_{ij} l_{kj} \\right) $"
   ]
  },
  {
   "cell_type": "code",
   "execution_count": 38,
   "metadata": {},
   "outputs": [
    {
     "data": {
      "text/plain": [
       "array([[ 3.87298335,  0.        ,  0.        ,  0.        ],\n",
       "       [ 2.5819889 ,  2.88675135,  0.        ,  0.        ],\n",
       "       [ 4.64758002, -1.73205081,  1.54919334,  0.        ],\n",
       "       [ 3.09838668,  1.73205081, -2.84018779,  1.15470054]])"
      ]
     },
     "execution_count": 38,
     "metadata": {},
     "output_type": "execute_result"
    }
   ],
   "source": [
    "from math import sqrt\n",
    "\n",
    "def cholesky(A):\n",
    "    \"\"\" calcule la matrice C correspondant à la \n",
    "        décomposition de cholesky d'une matrice A\n",
    "        A doit etre une matrice symétrique positive définie\n",
    "    \"\"\"\n",
    "    n = A.shape[0]\n",
    "    \n",
    "    C = np.zeros((n,n))\n",
    "    \n",
    "    C[0,0] = sqrt(A[0,0])\n",
    "    \n",
    "    C[1:,0] = A[1:,0] / C[0,0]\n",
    "    \n",
    "    \n",
    "    \n",
    "    for j in range(1,n):\n",
    "        for i in range(j+1):\n",
    "            \n",
    "            tmp_sum = np.sum(np.multiply(C[i,:i],C[j,:i]))\n",
    "            \n",
    "            \n",
    "            #diagonal coefs\n",
    "            if i == j:\n",
    "                C[j,i] = sqrt( (A[i,j] - tmp_sum ) ) # j > 1\n",
    "            else:\n",
    "            #other\n",
    "                C[j,i] = (A[i,j] - tmp_sum ) / (C[i,i])\n",
    "            \n",
    "            \n",
    "    return C\n",
    "            \n",
    "C = cholesky(A)\n",
    "\n",
    "C"
   ]
  },
  {
   "cell_type": "code",
   "execution_count": 39,
   "metadata": {},
   "outputs": [
    {
     "data": {
      "text/plain": [
       "array([[ 3.87298335,  0.        ,  0.        ,  0.        ],\n",
       "       [ 2.5819889 ,  2.88675135,  0.        ,  0.        ],\n",
       "       [ 4.64758002, -1.73205081,  1.54919334,  0.        ],\n",
       "       [ 3.09838668,  1.73205081, -2.84018779,  1.15470054]])"
      ]
     },
     "execution_count": 39,
     "metadata": {},
     "output_type": "execute_result"
    }
   ],
   "source": [
    "Cl = np.linalg.cholesky(A)\n",
    "Cl"
   ]
  },
  {
   "cell_type": "code",
   "execution_count": 26,
   "metadata": {},
   "outputs": [
    {
     "data": {
      "text/plain": [
       "array([[15., 10., 18., 12.],\n",
       "       [10., 15.,  7., 13.],\n",
       "       [18.,  7., 27.,  7.],\n",
       "       [12., 13.,  7., 22.]])"
      ]
     },
     "execution_count": 26,
     "metadata": {},
     "output_type": "execute_result"
    }
   ],
   "source": [
    "np.dot(C,np.transpose(C)) #this gives us A"
   ]
  },
  {
   "cell_type": "markdown",
   "metadata": {},
   "source": [
    "### Est ce que A est définie positive\n",
    "Par définition, A est dite définie positive si toutes ses valeurs propres sont strictement positives, puisque il n'est pas forcément facile de calculer les valeurs propres on peut utiliser la condition de Sylvester qui consiste à regarder les mienurs principaux de la matrice et de s'assurer que ces derniers sont tous strictement positifs.\n",
    "\n",
    "Les mineurs principaux correspondent aux déterminants de la matrice tronqué.\n",
    "\n",
    "\n",
    "par def la decomp cholesky nous donne une matrice C qui est définie par la relation $A= CC^T$\n",
    "\n",
    "On peut tenter de trouver la solution du système suivant : $Ax = b$"
   ]
  },
  {
   "cell_type": "code",
   "execution_count": 27,
   "metadata": {},
   "outputs": [],
   "source": [
    "b = np.array([53.0,72.0,26.0,97.0])\n",
    "\n",
    "y1 = triang_inf(C,b)"
   ]
  },
  {
   "cell_type": "code",
   "execution_count": 28,
   "metadata": {},
   "outputs": [
    {
     "data": {
      "text/plain": [
       "array([[ 13.68454116],\n",
       "       [ 12.70170592],\n",
       "       [-10.0697567 ],\n",
       "       [  3.46410162]])"
      ]
     },
     "execution_count": 28,
     "metadata": {},
     "output_type": "execute_result"
    }
   ],
   "source": [
    "y1"
   ]
  },
  {
   "cell_type": "code",
   "execution_count": 29,
   "metadata": {},
   "outputs": [
    {
     "data": {
      "text/plain": [
       "array([[53.],\n",
       "       [72.],\n",
       "       [26.],\n",
       "       [97.]])"
      ]
     },
     "execution_count": 29,
     "metadata": {},
     "output_type": "execute_result"
    }
   ],
   "source": [
    "np.dot(C,y1) #should give us b"
   ]
  },
  {
   "cell_type": "code",
   "execution_count": 30,
   "metadata": {},
   "outputs": [
    {
     "data": {
      "text/plain": [
       "array([[ 1.],\n",
       "       [ 2.],\n",
       "       [-1.],\n",
       "       [ 3.]])"
      ]
     },
     "execution_count": 30,
     "metadata": {},
     "output_type": "execute_result"
    }
   ],
   "source": [
    "x1 = triang_sup(np.transpose(C),y1)\n",
    "\n",
    "x1"
   ]
  },
  {
   "cell_type": "code",
   "execution_count": 31,
   "metadata": {},
   "outputs": [
    {
     "data": {
      "text/plain": [
       "array([ 1.,  2., -1.,  3.])"
      ]
     },
     "execution_count": 31,
     "metadata": {},
     "output_type": "execute_result"
    }
   ],
   "source": [
    "np.linalg.solve(A,b)"
   ]
  },
  {
   "cell_type": "code",
   "execution_count": 32,
   "metadata": {},
   "outputs": [
    {
     "data": {
      "text/plain": [
       "array([[53.],\n",
       "       [72.],\n",
       "       [26.],\n",
       "       [97.]])"
      ]
     },
     "execution_count": 32,
     "metadata": {},
     "output_type": "execute_result"
    }
   ],
   "source": [
    "np.dot(A,x1)"
   ]
  },
  {
   "cell_type": "markdown",
   "metadata": {},
   "source": [
    "## Decomposition de Ritchmayer"
   ]
  },
  {
   "cell_type": "code",
   "execution_count": 33,
   "metadata": {},
   "outputs": [
    {
     "name": "stdout",
     "output_type": "stream",
     "text": [
      "[[2 3 0 0 0]\n",
      " [1 3 1 0 0]\n",
      " [0 2 1 2 0]\n",
      " [0 0 1 1 1]\n",
      " [0 0 0 2 1]]\n",
      "[-1  0  0  3  1]\n"
     ]
    }
   ],
   "source": [
    "from scipy.sparse import diags\n",
    "\n",
    "# Générons une matrice tridiagonale\n",
    "a = [1, 2, 1, 2]\n",
    "b = [2, 3, 1, 1, 1]\n",
    "c = [3, 1, 2, 1]\n",
    "\n",
    "A = diags([a, b, c], [-1, 0, 1], shape=(5, 5), dtype=int).toarray() #genere la matrice trigiagonale\n",
    "print(A)\n",
    "\n",
    "# Générons un vecteur u\n",
    "u = np.array([-1, 0, 0, 3, 1])\n",
    "print(u)"
   ]
  },
  {
   "cell_type": "code",
   "execution_count": 169,
   "metadata": {},
   "outputs": [],
   "source": [
    "def rich(a, b, c, u):\n",
    "    \"\"\"\n",
    "        Exécute l'algorithme de Richtmayer et retourne le vecteur x, solution de l'équation Ax = u, avec A\n",
    "        une matrice tridiagonale.\n",
    "    \"\"\"\n",
    "    n = len(b)\n",
    "    e = [0, 0, 0, 0, 0]\n",
    "    f = [0, 0, 0, 0, 0]\n",
    "    x = [0, 0, 0, 0, 0]\n",
    "    \n",
    "    e[0] = -c[0] / b[0]\n",
    "    f[0] = u[0] / b[0]\n",
    "    \n",
    "    for i in range(1, n - 1):\n",
    "        e[i] = -c[i] / (a[i - 1] * e[i - 1] + b[i])\n",
    "        \n",
    "    for i in range(1, n):\n",
    "        f[i] = (u[i] - a[i - 1] * f[i - 1]) / (a[i - 1] * e[i - 1] + b[i])\n",
    "        \n",
    "    x[n - 1] = f[n - 1]\n",
    "    for i in range(n - 2, -1, -1):\n",
    "        x[i] = e[i] * x[i + 1] + f[i]\n",
    "        \n",
    "    return x\n",
    "\n",
    "# On exécute l'algo et on convertit les résultats en int\n",
    "xr = [int(i) for i in rich(a, b, c, u)]"
   ]
  },
  {
   "cell_type": "code",
   "execution_count": 171,
   "metadata": {},
   "outputs": [
    {
     "data": {
      "text/plain": [
       "array([-4, -5, -3,  0,  0])"
      ]
     },
     "execution_count": 171,
     "metadata": {},
     "output_type": "execute_result"
    }
   ],
   "source": [
    "np.dot(A,xr)"
   ]
  },
  {
   "cell_type": "code",
   "execution_count": 174,
   "metadata": {},
   "outputs": [],
   "source": [
    "x_sol = np.linalg.solve(A, u)"
   ]
  },
  {
   "cell_type": "code",
   "execution_count": 175,
   "metadata": {},
   "outputs": [
    {
     "data": {
      "text/plain": [
       "array([-1.00000000e+00, -3.33066907e-16, -2.77555756e-17,  3.00000000e+00,\n",
       "        1.00000000e+00])"
      ]
     },
     "execution_count": 175,
     "metadata": {},
     "output_type": "execute_result"
    }
   ],
   "source": [
    "np.dot(A,x_sol)"
   ]
  }
 ],
 "metadata": {
  "kernelspec": {
   "display_name": "Python 3",
   "language": "python",
   "name": "python3"
  },
  "language_info": {
   "codemirror_mode": {
    "name": "ipython",
    "version": 3
   },
   "file_extension": ".py",
   "mimetype": "text/x-python",
   "name": "python",
   "nbconvert_exporter": "python",
   "pygments_lexer": "ipython3",
   "version": "3.6.8"
  }
 },
 "nbformat": 4,
 "nbformat_minor": 2
}
