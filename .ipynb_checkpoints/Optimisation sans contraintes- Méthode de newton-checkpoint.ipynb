{
 "cells": [
  {
   "cell_type": "code",
   "execution_count": 1,
   "metadata": {},
   "outputs": [],
   "source": [
    "import matplotlib.pyplot as plt\n",
    "import numpy as np"
   ]
  },
  {
   "cell_type": "code",
   "execution_count": null,
   "metadata": {},
   "outputs": [],
   "source": []
  },
  {
   "cell_type": "markdown",
   "metadata": {},
   "source": [
    "notre fonction est $$ f(x) = (x-1)(x^2-1) $$"
   ]
  },
  {
   "cell_type": "code",
   "execution_count": 2,
   "metadata": {},
   "outputs": [],
   "source": [
    "def f(x):\n",
    "    return (x-1)*((x**2)+1)"
   ]
  },
  {
   "cell_type": "code",
   "execution_count": 3,
   "metadata": {},
   "outputs": [],
   "source": [
    "def df(x):\n",
    "    return 3*x**2 - 2*x + 1"
   ]
  },
  {
   "cell_type": "code",
   "execution_count": 7,
   "metadata": {},
   "outputs": [],
   "source": [
    "def newton(f,df, x_0, epsilon):\n",
    "    #trouve la valeur\n",
    "    x = x_0 - (f(x_0)/df(x_0))\n",
    "    max_iter = 1000\n",
    "    \n",
    "    for n in range(max_iter):\n",
    "        x_new = x - (f(x)/df(x))\n",
    "        \n",
    "        if abs(x_new - x) < epsilon:\n",
    "            print(\"found result in\",n,\"iterations\")\n",
    "            return x_new\n",
    "        x = x_new\n",
    "    \n",
    "    print(\"value not found, took too long\")\n",
    "    \n",
    "    return None        \n",
    "    "
   ]
  },
  {
   "cell_type": "code",
   "execution_count": 24,
   "metadata": {},
   "outputs": [
    {
     "name": "stdout",
     "output_type": "stream",
     "text": [
      "found result in 7 iterations\n",
      "1.0\n"
     ]
    }
   ],
   "source": [
    "print(newton(f,df,5,epsilon=0.000000001))"
   ]
  },
  {
   "cell_type": "code",
   "execution_count": 26,
   "metadata": {},
   "outputs": [
    {
     "name": "stdout",
     "output_type": "stream",
     "text": [
      "found result in 7 iterations\n",
      "(-1.2712085804320787e-22-1j)\n"
     ]
    }
   ],
   "source": [
    "print(newton(f,df,-1+-5j,epsilon=0.000000001))"
   ]
  },
  {
   "cell_type": "markdown",
   "metadata": {},
   "source": [
    "### Newton en 2D\n",
    "\n",
    "on cherche les solutions du système d'équations:\n",
    "\n",
    "$$ x^2 + y^2 = 2 $$\n",
    "\n",
    "$$ x^2 - y^2 = 1 $$\n",
    "\n",
    "on peut trouver les solutions qui sont:\n",
    "\n",
    "$$ x_* = \\sqrt{\\frac{3}{2}}, y_* = \\frac{\\sqrt{2}}{2} $$"
   ]
  },
  {
   "cell_type": "code",
   "execution_count": 27,
   "metadata": {},
   "outputs": [],
   "source": [
    "from math import sqrt\n",
    "\n",
    "def f2(x,y):\n",
    "    \n",
    "    phi1 = x**2 + y**2 - 2\n",
    "    phi2 = x**2 - y**2 - 1\n",
    "    \n",
    "    return np.array([phi1,phi2])"
   ]
  },
  {
   "cell_type": "code",
   "execution_count": 33,
   "metadata": {},
   "outputs": [],
   "source": [
    "def df2(x,y):\n",
    "    # returns 2d jacobian matrix\n",
    "    \n",
    "    phi1_x = 2*x \n",
    "    phi1_y = 2*y\n",
    "    \n",
    "    phi2_x = 2*x\n",
    "    phi2_y = -2*y\n",
    "    \n",
    "    return np.array([[phi1_x,phi1_y],[phi2_x,phi2_y]])"
   ]
  },
  {
   "cell_type": "code",
   "execution_count": 85,
   "metadata": {},
   "outputs": [],
   "source": [
    "def newton2(f,df,x_0,y_0,epsilon=1e-7):\n",
    "    \n",
    "    X = np.zeros((2,1))\n",
    "    \n",
    "    X = x_0 - np.dot(np.linalg.inv(df(x_0,y_0)) , f(x_0,y_0))\n",
    "    \n",
    "    max_iter = 1000\n",
    "    \n",
    "    for n in range(max_iter):\n",
    "        \n",
    "        X_new = X - np.dot( np.linalg.inv(df(X[0],X[1])) , f(X[0],X[1]))\n",
    "        \n",
    "        \n",
    "        \n",
    "        if np.linalg.norm(X-X_new) < epsilon:\n",
    "            print(\"found solution in\",n,\"iterations\")\n",
    "            return X\n",
    "        \n",
    "        X = X_new\n",
    "        \n",
    "    print(\"no sol found\")\n",
    "    return None\n",
    "    \n",
    "    \n",
    "    "
   ]
  },
  {
   "cell_type": "code",
   "execution_count": 87,
   "metadata": {},
   "outputs": [
    {
     "name": "stdout",
     "output_type": "stream",
     "text": [
      "found solution in 3 iterations\n"
     ]
    },
    {
     "data": {
      "text/plain": [
       "array([1.22474487, 0.70710678])"
      ]
     },
     "execution_count": 87,
     "metadata": {},
     "output_type": "execute_result"
    }
   ],
   "source": [
    "newton2(f2,df2,1,1)"
   ]
  },
  {
   "cell_type": "code",
   "execution_count": 88,
   "metadata": {},
   "outputs": [
    {
     "name": "stdout",
     "output_type": "stream",
     "text": [
      "found solution in 5 iterations\n"
     ]
    },
    {
     "data": {
      "text/plain": [
       "array([1.22474487, 0.7071068 ])"
      ]
     },
     "execution_count": 88,
     "metadata": {},
     "output_type": "execute_result"
    }
   ],
   "source": [
    "newton2(f2,df2,5,5)"
   ]
  },
  {
   "cell_type": "code",
   "execution_count": null,
   "metadata": {},
   "outputs": [],
   "source": []
  }
 ],
 "metadata": {
  "kernelspec": {
   "display_name": "Python 3",
   "language": "python",
   "name": "python3"
  },
  "language_info": {
   "codemirror_mode": {
    "name": "ipython",
    "version": 3
   },
   "file_extension": ".py",
   "mimetype": "text/x-python",
   "name": "python",
   "nbconvert_exporter": "python",
   "pygments_lexer": "ipython3",
   "version": "3.6.8"
  }
 },
 "nbformat": 4,
 "nbformat_minor": 2
}
