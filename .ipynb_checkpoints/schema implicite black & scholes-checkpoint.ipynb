{
 "cells": [
  {
   "cell_type": "markdown",
   "metadata": {},
   "source": [
    "https://www.wikiwand.com/en/Finite_difference_method#/Implicit_method"
   ]
  },
  {
   "cell_type": "code",
   "execution_count": 10,
   "metadata": {},
   "outputs": [],
   "source": [
    "import numpy as np\n",
    "import matplotlib.pyplot as plt"
   ]
  },
  {
   "cell_type": "code",
   "execution_count": 11,
   "metadata": {},
   "outputs": [],
   "source": [
    "#financial parameters\n",
    "\n",
    "S = 50 #underlying value\n",
    "K = 50 #strike\n",
    "r = 0.05 # interest rate without risk\n",
    "sigma = 0.2 # volatility\n",
    "T = 3 # maturity"
   ]
  },
  {
   "cell_type": "code",
   "execution_count": 25,
   "metadata": {},
   "outputs": [],
   "source": [
    "# Numerical parameters\n",
    "M = 80 # nb of points in asset mesh\n",
    "N = 200 #nb of points in time mesh\n",
    "Szero = 0 # min val\n",
    "Smax = 150 # max val"
   ]
  },
  {
   "cell_type": "code",
   "execution_count": 37,
   "metadata": {},
   "outputs": [],
   "source": [
    "sol_mesh = np.zeros((N+1, M+1))\n",
    "S_mesh = np.arange(0,Smax,(Smax/(M+1)))\n",
    "\n",
    "T_mesh = np.arange(T,0, -(T/(N+1)))\n",
    "\n",
    "dt = T/N\n",
    "\n",
    "#payoff, put\n",
    "sol_mesh[0,:] = np.array([np.maximum(K-S_mesh[t], 0) for t in range(S_mesh.shape[0]) ])\n",
    "\n",
    "#limit condition for S = 0\n",
    "sol_mesh[:,0] = K * np.exp(-r*(T- T_mesh)) \n",
    "# limit condition for S=M\n",
    "sol_mesh[:,M] = 0 \n",
    "\n",
    "\n",
    "i = np.arange(1,M+1)\n",
    "\n",
    "A = 0.5 * dt * (r*i-sigma**2 * i**2)\n",
    "B = 1 + (sigma**2 * i**2 + r) * dt\n",
    "C = -0.5 * dt *(sigma**2 * i**2 + r*i)\n"
   ]
  },
  {
   "cell_type": "code",
   "execution_count": 48,
   "metadata": {},
   "outputs": [],
   "source": [
    "from scipy.sparse import diags\n",
    "\n",
    "Acoeffs = np.zeros((M))\n",
    "Bcoeffs = np.zeros((M))\n",
    "Ccoeffs = np.zeros((M))\n",
    "\n",
    "for i in range(M):\n",
    "    Acoeffs[i] = A[i-1]\n",
    "    Bcoeffs[i] = B[i-1]\n",
    "    Ccoeffs[i] = C[i-1]\n",
    "    \n",
    "Tri = diags([Acoeffs[1:],Bcoeffs,Ccoeffs[:-1]], [-1, 0, 1], shape=(M, M), dtype=float).toarray()\n",
    "\n",
    "Tri_inv =  np.linalg.inv(Tri)"
   ]
  },
  {
   "cell_type": "code",
   "execution_count": 14,
   "metadata": {},
   "outputs": [
    {
     "data": {
      "text/plain": [
       "2"
      ]
     },
     "execution_count": 14,
     "metadata": {},
     "output_type": "execute_result"
    }
   ],
   "source": [
    "for j in range(N):\n",
    "    temp = np.zeros((M,1))\n",
    "    temp[0] = "
   ]
  },
  {
   "cell_type": "code",
   "execution_count": null,
   "metadata": {},
   "outputs": [],
   "source": []
  }
 ],
 "metadata": {
  "kernelspec": {
   "display_name": "Python 3",
   "language": "python",
   "name": "python3"
  },
  "language_info": {
   "codemirror_mode": {
    "name": "ipython",
    "version": 3
   },
   "file_extension": ".py",
   "mimetype": "text/x-python",
   "name": "python",
   "nbconvert_exporter": "python",
   "pygments_lexer": "ipython3",
   "version": "3.6.8"
  }
 },
 "nbformat": 4,
 "nbformat_minor": 2
}
