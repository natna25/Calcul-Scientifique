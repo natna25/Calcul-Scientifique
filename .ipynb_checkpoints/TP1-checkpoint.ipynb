{
 "cells": [
  {
   "cell_type": "markdown",
   "metadata": {},
   "source": [
    "# TP1: Methodes directes pour la résolution des systèmes linéaires\n",
    "\n",
    "On souhaite résoudre l'équation de la forme: \n",
    "\n",
    "## $$ Ax = b $$\n",
    "\n",
    "Avec, A une matrice carrée de dimension (n,n), x de dimension (n,1) et b de dimension (n,1). la matrice A et le vecteur b sont connues et on cherche à trouver x. d'ordinaire on aurait trouvé l'inverse de la matrics A afin d'en déduire x avec l'équation $$ x = A^{-1}b $$  \n",
    "\n",
    "Trouver l'inverse d'une matrice devient vite compliqué à calculer lorsque la taille de la matrice augmente, ceci n'étant pas scalable, il faut utiliser une autre méthode pour résoudre cette équation plus rapidement."
   ]
  },
  {
   "cell_type": "code",
   "execution_count": 1,
   "metadata": {},
   "outputs": [],
   "source": [
    "import numpy as np\n",
    "import scipy as sc"
   ]
  },
  {
   "cell_type": "code",
   "execution_count": 2,
   "metadata": {},
   "outputs": [],
   "source": [
    "n = 5\n",
    "\n",
    "A = np.random.randint(5,size=(n, n))\n",
    "b = np.random.randint(5,size=(n, 1))"
   ]
  },
  {
   "cell_type": "code",
   "execution_count": 3,
   "metadata": {},
   "outputs": [
    {
     "data": {
      "text/plain": [
       "array([[2, 0, 1, 4, 0],\n",
       "       [1, 2, 3, 3, 1],\n",
       "       [4, 2, 3, 1, 4],\n",
       "       [0, 2, 2, 3, 0],\n",
       "       [3, 2, 0, 0, 2]])"
      ]
     },
     "execution_count": 3,
     "metadata": {},
     "output_type": "execute_result"
    }
   ],
   "source": [
    "A"
   ]
  },
  {
   "cell_type": "code",
   "execution_count": 4,
   "metadata": {},
   "outputs": [
    {
     "data": {
      "text/plain": [
       "array([[1],\n",
       "       [2],\n",
       "       [1],\n",
       "       [0],\n",
       "       [2]])"
      ]
     },
     "execution_count": 4,
     "metadata": {},
     "output_type": "execute_result"
    }
   ],
   "source": [
    "b"
   ]
  },
  {
   "cell_type": "markdown",
   "metadata": {},
   "source": [
    "on regarde si la matrice est inversible, elle ne l'est pas si il y a des 0\n",
    "https://docs.scipy.org/doc/numpy/reference/generated/numpy.linalg.inv.html"
   ]
  },
  {
   "cell_type": "code",
   "execution_count": 5,
   "metadata": {},
   "outputs": [
    {
     "data": {
      "text/plain": [
       "array([[ 0.08333333,  2.66666667, -1.08333333, -2.41666667,  0.83333333],\n",
       "       [-0.20833333,  0.33333333, -0.29166667,  0.04166667,  0.41666667],\n",
       "       [-0.16666667,  2.66666667, -0.83333333, -2.16666667,  0.33333333],\n",
       "       [ 0.25      , -2.        ,  0.75      ,  1.75      , -0.5       ],\n",
       "       [ 0.08333333, -4.33333333,  1.91666667,  3.58333333, -1.16666667]])"
      ]
     },
     "execution_count": 5,
     "metadata": {},
     "output_type": "execute_result"
    }
   ],
   "source": [
    "toto = np.linalg.inv(A)\n",
    "\n",
    "toto"
   ]
  },
  {
   "cell_type": "markdown",
   "metadata": {},
   "source": [
    "## Decomposition LU"
   ]
  },
  {
   "cell_type": "code",
   "execution_count": 6,
   "metadata": {},
   "outputs": [],
   "source": [
    "from scipy import linalg as lg\n",
    "\n",
    "p,L, U = lg.lu(A, )\n",
    "\n"
   ]
  },
  {
   "cell_type": "markdown",
   "metadata": {},
   "source": [
    "P est une matrice de permutation\n",
    "\n",
    "https://www.wikiwand.com/en/Permutation_matrix"
   ]
  },
  {
   "cell_type": "code",
   "execution_count": 7,
   "metadata": {},
   "outputs": [
    {
     "data": {
      "text/plain": [
       "array([[0., 0., 0., 1., 0.],\n",
       "       [0., 0., 0., 0., 1.],\n",
       "       [1., 0., 0., 0., 0.],\n",
       "       [0., 1., 0., 0., 0.],\n",
       "       [0., 0., 1., 0., 0.]])"
      ]
     },
     "execution_count": 7,
     "metadata": {},
     "output_type": "execute_result"
    }
   ],
   "source": [
    "p"
   ]
  },
  {
   "cell_type": "code",
   "execution_count": 8,
   "metadata": {},
   "outputs": [
    {
     "data": {
      "text/plain": [
       "array([[ 1.        ,  0.        ,  0.        ,  0.        ,  0.        ],\n",
       "       [ 0.        ,  1.        ,  0.        ,  0.        ,  0.        ],\n",
       "       [ 0.75      ,  0.25      ,  1.        ,  0.        ,  0.        ],\n",
       "       [ 0.5       , -0.5       , -0.18181818,  1.        ,  0.        ],\n",
       "       [ 0.25      ,  0.75      , -0.27272727,  0.01923077,  1.        ]])"
      ]
     },
     "execution_count": 8,
     "metadata": {},
     "output_type": "execute_result"
    }
   ],
   "source": [
    "L"
   ]
  },
  {
   "cell_type": "code",
   "execution_count": 9,
   "metadata": {},
   "outputs": [
    {
     "data": {
      "text/plain": [
       "array([[ 4.        ,  2.        ,  3.        ,  1.        ,  4.        ],\n",
       "       [ 0.        ,  2.        ,  2.        ,  3.        ,  0.        ],\n",
       "       [ 0.        ,  0.        , -2.75      , -1.5       , -1.        ],\n",
       "       [ 0.        ,  0.        ,  0.        ,  4.72727273, -2.18181818],\n",
       "       [ 0.        ,  0.        ,  0.        ,  0.        , -0.23076923]])"
      ]
     },
     "execution_count": 9,
     "metadata": {},
     "output_type": "execute_result"
    }
   ],
   "source": [
    "U"
   ]
  },
  {
   "cell_type": "markdown",
   "metadata": {},
   "source": [
    "### Decomp LU sans librairie"
   ]
  },
  {
   "cell_type": "code",
   "execution_count": 10,
   "metadata": {},
   "outputs": [
    {
     "name": "stderr",
     "output_type": "stream",
     "text": [
      "/home/antoine/.local/lib/python3.6/site-packages/ipykernel_launcher.py:26: RuntimeWarning: divide by zero encountered in double_scalars\n"
     ]
    }
   ],
   "source": [
    "def decomp_lu(A):\n",
    "    \"\"\" Calcule la décomposition LU d'une matrice carré inversible A\n",
    "    \"\"\"\n",
    "    n = A.shape[0]\n",
    "    \n",
    "    L = np.zeros((n,n))\n",
    "    U = np.zeros((n,n))\n",
    "    \n",
    "    #premiere ligne de U\n",
    "    for j in range(n):\n",
    "        U[0,j] = A[0,j]\n",
    "        \n",
    "    #premiere colonne de L\n",
    "    for i in range(n):\n",
    "        L[i,0] = A[i,0] / U[0, 0]\n",
    "    \n",
    "    for i in range(1, n):\n",
    "        L[i,i] = 1\n",
    "        \n",
    "        U[i,i] = A[i,i] - np.sum(np.multiply(L[i,:i-1],U[:i-1,i]))\n",
    "        \n",
    "        for j in range(i+1, n):\n",
    "            \n",
    "            U[i,j] = A[i,j] - np.sum(np.multiply(L[i,:i-1],U[:i-1,j]))\n",
    "            \n",
    "            L[j,i] = (A[j,i] - np.sum(np.multiply(L[j,:i-1], U[:i-1,j]))) / U[i,i]\n",
    "        \n",
    "    return L,U\n",
    "    \n",
    "Lm,Um = decomp_lu(A)    \n",
    "    "
   ]
  },
  {
   "cell_type": "code",
   "execution_count": 11,
   "metadata": {},
   "outputs": [
    {
     "data": {
      "text/plain": [
       "array([[ 1. ,  0. ,  0. ,  0. ,  0. ],\n",
       "       [ 0.5,  1. ,  0. ,  0. ,  0. ],\n",
       "       [ 2. ,  1. ,  1. ,  0. ,  0. ],\n",
       "       [ 0. ,  1. ,  2. ,  1. ,  0. ],\n",
       "       [ 1.5,  1. ,  0. , -inf,  1. ]])"
      ]
     },
     "execution_count": 11,
     "metadata": {},
     "output_type": "execute_result"
    }
   ],
   "source": [
    "Lm\n"
   ]
  },
  {
   "cell_type": "code",
   "execution_count": 12,
   "metadata": {},
   "outputs": [
    {
     "data": {
      "text/plain": [
       "array([[ 1.        ,  0.        ,  0.        ,  0.        ,  0.        ],\n",
       "       [ 0.        ,  1.        ,  0.        ,  0.        ,  0.        ],\n",
       "       [ 0.75      ,  0.25      ,  1.        ,  0.        ,  0.        ],\n",
       "       [ 0.5       , -0.5       , -0.18181818,  1.        ,  0.        ],\n",
       "       [ 0.25      ,  0.75      , -0.27272727,  0.01923077,  1.        ]])"
      ]
     },
     "execution_count": 12,
     "metadata": {},
     "output_type": "execute_result"
    }
   ],
   "source": [
    "L"
   ]
  },
  {
   "cell_type": "code",
   "execution_count": 13,
   "metadata": {},
   "outputs": [
    {
     "data": {
      "text/plain": [
       "array([[ 2.,  0.,  1.,  4.,  0.],\n",
       "       [ 0.,  2.,  3.,  3.,  1.],\n",
       "       [ 0.,  0.,  1., -7.,  4.],\n",
       "       [ 0.,  0.,  0.,  0., -1.],\n",
       "       [ 0.,  0.,  0.,  0.,  1.]])"
      ]
     },
     "execution_count": 13,
     "metadata": {},
     "output_type": "execute_result"
    }
   ],
   "source": [
    "Um"
   ]
  },
  {
   "cell_type": "code",
   "execution_count": 14,
   "metadata": {},
   "outputs": [
    {
     "data": {
      "text/plain": [
       "array([[ 4.        ,  2.        ,  3.        ,  1.        ,  4.        ],\n",
       "       [ 0.        ,  2.        ,  2.        ,  3.        ,  0.        ],\n",
       "       [ 0.        ,  0.        , -2.75      , -1.5       , -1.        ],\n",
       "       [ 0.        ,  0.        ,  0.        ,  4.72727273, -2.18181818],\n",
       "       [ 0.        ,  0.        ,  0.        ,  0.        , -0.23076923]])"
      ]
     },
     "execution_count": 14,
     "metadata": {},
     "output_type": "execute_result"
    }
   ],
   "source": [
    "U"
   ]
  },
  {
   "cell_type": "markdown",
   "metadata": {},
   "source": [
    "## Triangulaire inférieure"
   ]
  },
  {
   "cell_type": "code",
   "execution_count": 15,
   "metadata": {},
   "outputs": [
    {
     "data": {
      "text/plain": [
       "array([[ 1.        ],\n",
       "       [ 2.        ],\n",
       "       [-0.25      ],\n",
       "       [ 0.45454545],\n",
       "       [ 0.17307692]])"
      ]
     },
     "execution_count": 15,
     "metadata": {},
     "output_type": "execute_result"
    }
   ],
   "source": [
    "y = np.zeros((n, 1))\n",
    "\n",
    "for k in range(n):\n",
    "    y[k] = (b[k] - np.sum(np.multiply(L[k], np.transpose(y))))\n",
    "    \n",
    "y"
   ]
  },
  {
   "cell_type": "code",
   "execution_count": 16,
   "metadata": {},
   "outputs": [],
   "source": [
    "def triang_inf(T,b):\n",
    "    \"\"\"calcule x selon l'équation Tx=b avec T une matrice triangulaire inférieure et b un vecteur connu\n",
    "    Return:\n",
    "        x: vecteur solution de l'équation\n",
    "    \"\"\"\n",
    "    n = T.shape[0]\n",
    "    x = np.zeros((n, 1))\n",
    "\n",
    "    for k in range(n):\n",
    "        x[k] = (b[k] - np.sum(np.multiply(T[k], np.transpose(x))))\n",
    "    \n",
    "    return x\n",
    "    \n",
    "y = triang_inf(L,b)"
   ]
  },
  {
   "cell_type": "code",
   "execution_count": 17,
   "metadata": {},
   "outputs": [
    {
     "data": {
      "text/plain": [
       "array([[1.],\n",
       "       [2.],\n",
       "       [1.],\n",
       "       [0.],\n",
       "       [2.]])"
      ]
     },
     "execution_count": 17,
     "metadata": {},
     "output_type": "execute_result"
    }
   ],
   "source": [
    "np.dot(L,y)"
   ]
  },
  {
   "cell_type": "code",
   "execution_count": 18,
   "metadata": {},
   "outputs": [
    {
     "data": {
      "text/plain": [
       "array([[1],\n",
       "       [2],\n",
       "       [1],\n",
       "       [0],\n",
       "       [2]])"
      ]
     },
     "execution_count": 18,
     "metadata": {},
     "output_type": "execute_result"
    }
   ],
   "source": [
    "b"
   ]
  },
  {
   "cell_type": "markdown",
   "metadata": {},
   "source": [
    "## Triangulaire supérieure"
   ]
  },
  {
   "cell_type": "code",
   "execution_count": 19,
   "metadata": {},
   "outputs": [
    {
     "name": "stdout",
     "output_type": "stream",
     "text": [
      "4\n",
      "3\n",
      "2\n",
      "1\n",
      "0\n"
     ]
    }
   ],
   "source": [
    "for k in range(n -1 , -1, -1):\n",
    "    print(k)"
   ]
  },
  {
   "cell_type": "code",
   "execution_count": 20,
   "metadata": {},
   "outputs": [
    {
     "data": {
      "text/plain": [
       "array([[ 0.25 ],\n",
       "       [ 0.875],\n",
       "       [ 0.5  ],\n",
       "       [-0.25 ],\n",
       "       [-0.75 ]])"
      ]
     },
     "execution_count": 20,
     "metadata": {},
     "output_type": "execute_result"
    }
   ],
   "source": [
    "x = np.zeros((n,1))\n",
    "\n",
    "for k in range(n - 1 , -1, -1):\n",
    "    x[k] = (y[k] - np.sum(np.multiply(U[k], np.transpose(x) ))) / U[k,k]\n",
    "    \n",
    "        \n",
    "x "
   ]
  },
  {
   "cell_type": "code",
   "execution_count": 21,
   "metadata": {},
   "outputs": [],
   "source": [
    "def triang_sup(T,b):\n",
    "    \"\"\"calcule x selon l'équation Tx=b avec T une matrice triangulaire supérieure et b un vecteur connu\n",
    "    Return:\n",
    "        x: vecteur solution de l'équation\n",
    "    \"\"\"\n",
    "    n = T.shape[0]\n",
    "    x = np.zeros((n, 1))\n",
    "\n",
    "    for k in range(n - 1 , -1, -1):\n",
    "        x[k] = (b[k] - np.sum(np.multiply(T[k], np.transpose(x)))) / T[k,k]\n",
    "    \n",
    "    \n",
    "    return x\n",
    "    \n",
    "x = triang_sup(U,y)\n",
    "    "
   ]
  },
  {
   "cell_type": "code",
   "execution_count": 22,
   "metadata": {},
   "outputs": [
    {
     "data": {
      "text/plain": [
       "array([[1.00000000e+00],\n",
       "       [2.00000000e+00],\n",
       "       [1.00000000e+00],\n",
       "       [2.22044605e-16],\n",
       "       [2.00000000e+00]])"
      ]
     },
     "execution_count": 22,
     "metadata": {},
     "output_type": "execute_result"
    }
   ],
   "source": [
    "np.dot(np.transpose(p),np.dot(A,x))"
   ]
  },
  {
   "cell_type": "code",
   "execution_count": 23,
   "metadata": {},
   "outputs": [
    {
     "data": {
      "text/plain": [
       "array([[1.00000000e+00, 2.00000000e+00, 1.00000000e+00, 2.22044605e-16,\n",
       "        2.00000000e+00]])"
      ]
     },
     "execution_count": 23,
     "metadata": {},
     "output_type": "execute_result"
    }
   ],
   "source": [
    "np.dot(np.transpose(np.dot(A,x)), p)"
   ]
  },
  {
   "cell_type": "code",
   "execution_count": 24,
   "metadata": {},
   "outputs": [
    {
     "data": {
      "text/plain": [
       "array([[1],\n",
       "       [2],\n",
       "       [1],\n",
       "       [0],\n",
       "       [2]])"
      ]
     },
     "execution_count": 24,
     "metadata": {},
     "output_type": "execute_result"
    }
   ],
   "source": [
    "b"
   ]
  },
  {
   "cell_type": "markdown",
   "metadata": {},
   "source": [
    "## Pivot de Gauss"
   ]
  },
  {
   "cell_type": "markdown",
   "metadata": {},
   "source": [
    "## 5 Aller plus loin\n",
    "\n",
    "### Décomposition de Cholesky \n",
    "\n",
    "La méthode de cholesky permet de factoriser une matric A __Symétrique définie positive__ sous la forme $ A=CC^T$ où C est une matrice triangulaire inférieure inversible\n",
    "\n"
   ]
  },
  {
   "cell_type": "code",
   "execution_count": 90,
   "metadata": {},
   "outputs": [],
   "source": [
    "A = np.array([[15,10,18,12],\n",
    "              [10,15,7 ,13],\n",
    "              [18,7 ,27,7 ],\n",
    "              [12,13,7 ,22]])\n",
    "\n"
   ]
  },
  {
   "cell_type": "markdown",
   "metadata": {},
   "source": [
    "#### Calculer la matrice C, est ce que A est définie positive\n",
    "\n",
    "$l_{kk} = \\sqrt{ a_{kk} - \\sum^{k-1}_{j=1} l^2_{kj}}$ \n",
    "\n",
    "$ l_{ik} = \\frac{1}{l_{kk}} \\left( a_{ik} - \\sum^{k-1}_{j=1} l_{ij} l_{kj} \\right) $"
   ]
  },
  {
   "cell_type": "code",
   "execution_count": 91,
   "metadata": {},
   "outputs": [
    {
     "data": {
      "text/plain": [
       "array([[ 3.87298335,  0.        ,  0.        ,  0.        ],\n",
       "       [ 2.5819889 ,  2.88675135,  0.        ,  0.        ],\n",
       "       [ 4.64758002, -1.73205081,  1.54919334,  0.        ],\n",
       "       [ 3.09838668,  1.73205081, -2.84018779,  1.15470054]])"
      ]
     },
     "execution_count": 91,
     "metadata": {},
     "output_type": "execute_result"
    }
   ],
   "source": [
    "from math import sqrt\n",
    "\n",
    "def cholesky(A):\n",
    "    \"\"\" calcule la matrice C correspondant à la \n",
    "        décomposition de cholesky d'une matrice A\n",
    "        A doit etre une matrice symétrique positive définie\n",
    "    \"\"\"\n",
    "    n = A.shape[0]\n",
    "    \n",
    "    C = np.zeros((n,n))\n",
    "    \n",
    "    C[0,0] = sqrt(A[0,0])\n",
    "    \n",
    "    C[1:,0] = A[1:,0] / C[0,0]\n",
    "    \n",
    "    \n",
    "    \n",
    "    for j in range(1,n):\n",
    "        for i in range(j+1):\n",
    "            \n",
    "            tmp_sum = sum(C[i,k]*C[j,k] for k in range(i))\n",
    "            \n",
    "            #diagonal coefs\n",
    "            if i == j:\n",
    "                C[j,i] = sqrt( (A[i,j] - tmp_sum ) ) # j > 1\n",
    "            else:\n",
    "            #other\n",
    "                C[j,i] = (A[i,j] - tmp_sum ) / (C[i,i])\n",
    "            \n",
    "            \n",
    "    return C\n",
    "            \n",
    "C = cholesky(A)\n",
    "\n",
    "C"
   ]
  },
  {
   "cell_type": "code",
   "execution_count": 92,
   "metadata": {},
   "outputs": [
    {
     "data": {
      "text/plain": [
       "array([[ 3.87298335,  0.        ,  0.        ,  0.        ],\n",
       "       [ 2.5819889 ,  2.88675135,  0.        ,  0.        ],\n",
       "       [ 4.64758002, -1.73205081,  1.54919334,  0.        ],\n",
       "       [ 3.09838668,  1.73205081, -2.84018779,  1.15470054]])"
      ]
     },
     "execution_count": 92,
     "metadata": {},
     "output_type": "execute_result"
    }
   ],
   "source": [
    "Cl = np.linalg.cholesky(A)\n",
    "Cl"
   ]
  },
  {
   "cell_type": "code",
   "execution_count": 93,
   "metadata": {},
   "outputs": [
    {
     "data": {
      "text/plain": [
       "array([[15., 10., 18., 12.],\n",
       "       [10., 15.,  7., 13.],\n",
       "       [18.,  7., 27.,  7.],\n",
       "       [12., 13.,  7., 22.]])"
      ]
     },
     "execution_count": 93,
     "metadata": {},
     "output_type": "execute_result"
    }
   ],
   "source": [
    "np.dot(C,np.transpose(C)) #this gives us A"
   ]
  },
  {
   "cell_type": "markdown",
   "metadata": {},
   "source": [
    "### Est ce que A est définie positive\n",
    "Par définition, A est dite définie positive si\n",
    "\n",
    "\n",
    "par def la decomp cholesky nous donne une matrice C qui est définie par la relation $A= CC^T$\n",
    "\n",
    "On peut tenter de trouver la solution du système suivant : $Ax = b$"
   ]
  },
  {
   "cell_type": "code",
   "execution_count": 94,
   "metadata": {},
   "outputs": [],
   "source": [
    "b = np.array([53,72,26,97])\n",
    "\n",
    "y1 = triang_sup(np.transpose(C),b)"
   ]
  },
  {
   "cell_type": "code",
   "execution_count": 95,
   "metadata": {},
   "outputs": [
    {
     "data": {
      "text/plain": [
       "array([[-309.81071169],\n",
       "       [  77.01352041],\n",
       "       [ 170.79111214],\n",
       "       [  84.00446417]])"
      ]
     },
     "execution_count": 95,
     "metadata": {},
     "output_type": "execute_result"
    }
   ],
   "source": [
    "y1"
   ]
  },
  {
   "cell_type": "code",
   "execution_count": 102,
   "metadata": {},
   "outputs": [
    {
     "data": {
      "text/plain": [
       "array([[53.],\n",
       "       [72.],\n",
       "       [26.],\n",
       "       [97.]])"
      ]
     },
     "execution_count": 102,
     "metadata": {},
     "output_type": "execute_result"
    }
   ],
   "source": [
    "np.dot(np.transpose(C),y1) #should give us b"
   ]
  },
  {
   "cell_type": "code",
   "execution_count": 105,
   "metadata": {},
   "outputs": [
    {
     "data": {
      "text/plain": [
       "array([[-309.81071169],\n",
       "       [ 876.94133831],\n",
       "       [3129.56813755],\n",
       "       [8413.57209597]])"
      ]
     },
     "execution_count": 105,
     "metadata": {},
     "output_type": "execute_result"
    }
   ],
   "source": [
    "x1 = triang_inf(C,y1)\n",
    "\n",
    "x1"
   ]
  },
  {
   "cell_type": "code",
   "execution_count": 106,
   "metadata": {},
   "outputs": [
    {
     "data": {
      "text/plain": [
       "array([ 1.,  2., -1.,  3.])"
      ]
     },
     "execution_count": 106,
     "metadata": {},
     "output_type": "execute_result"
    }
   ],
   "source": [
    "np.linalg.solve(A,b)"
   ]
  },
  {
   "cell_type": "code",
   "execution_count": 99,
   "metadata": {},
   "outputs": [
    {
     "data": {
      "text/plain": [
       "array([[-1199.89172684],\n",
       "       [ -577.60893419],\n",
       "       [-1308.67294923],\n",
       "       [-1214.60088211]])"
      ]
     },
     "execution_count": 99,
     "metadata": {},
     "output_type": "execute_result"
    }
   ],
   "source": [
    "np.dot(A,x1)"
   ]
  },
  {
   "cell_type": "code",
   "execution_count": null,
   "metadata": {},
   "outputs": [],
   "source": []
  }
 ],
 "metadata": {
  "kernelspec": {
   "display_name": "Python 3",
   "language": "python",
   "name": "python3"
  },
  "language_info": {
   "codemirror_mode": {
    "name": "ipython",
    "version": 3
   },
   "file_extension": ".py",
   "mimetype": "text/x-python",
   "name": "python",
   "nbconvert_exporter": "python",
   "pygments_lexer": "ipython3",
   "version": "3.6.8"
  }
 },
 "nbformat": 4,
 "nbformat_minor": 2
}
