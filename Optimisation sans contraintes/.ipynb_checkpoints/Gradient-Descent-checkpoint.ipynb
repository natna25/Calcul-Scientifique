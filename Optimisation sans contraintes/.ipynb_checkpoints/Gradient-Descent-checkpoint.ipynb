{
 "cells": [
  {
   "cell_type": "markdown",
   "metadata": {},
   "source": [
    "## Imports"
   ]
  },
  {
   "cell_type": "code",
   "execution_count": 1,
   "metadata": {},
   "outputs": [],
   "source": [
    "import numpy as np"
   ]
  },
  {
   "cell_type": "markdown",
   "metadata": {},
   "source": [
    "## Fonction de Rosenbrock\n",
    "\n",
    "$R(x, y) = (1 - x)^2 + 100(y - x^2)^2$"
   ]
  },
  {
   "cell_type": "code",
   "execution_count": 5,
   "metadata": {},
   "outputs": [
    {
     "data": {
      "text/plain": [
       "0"
      ]
     },
     "execution_count": 5,
     "metadata": {},
     "output_type": "execute_result"
    }
   ],
   "source": [
    "def rosenbrock(x):\n",
    "    return (1 - x[0])**2 + 100 * (x[1] - x[0]**2)**2\n",
    "\n",
    "rosenbrock(np.array([1, 1]))"
   ]
  },
  {
   "cell_type": "markdown",
   "metadata": {},
   "source": [
    "## Gradients de Rosenbrock\n",
    "\n",
    "$\\large\\frac{\\partial R}{\\partial x} = 400x^3 - 400xy + 2x - 2$\n",
    "\n",
    "$\\large\\frac{\\partial R}{\\partial y} = 200(y - x^2)$"
   ]
  },
  {
   "cell_type": "code",
   "execution_count": 6,
   "metadata": {},
   "outputs": [],
   "source": [
    "def grad_rosenbrock(x):\n",
    "    dx1 = 400 * x[0]**3 - 400 * x[0] * x[1] + 2 * x[0] - 2\n",
    "    dx2 = 200 * (x[1] - x[0]**2)\n",
    "    return np.array([dx1, dx2])"
   ]
  },
  {
   "cell_type": "markdown",
   "metadata": {},
   "source": [
    "## Gradient Descent"
   ]
  },
  {
   "cell_type": "code",
   "execution_count": null,
   "metadata": {},
   "outputs": [],
   "source": [
    "def gdescent_fixe(f, df, x0, eps=0.0000001, max_iter=1000):\n",
    "    # Learning rate\n",
    "    alpha = 0.1\n",
    "    \n",
    "    x = x0\n",
    "    for i in range(max_iter):\n",
    "        # Compute x(n+1)\n",
    "        new_x = x - alpha * grad_rosenbrock(x)\n",
    "        \n",
    "        # "
   ]
  }
 ],
 "metadata": {
  "kernelspec": {
   "display_name": "Python 3",
   "language": "python",
   "name": "python3"
  },
  "language_info": {
   "codemirror_mode": {
    "name": "ipython",
    "version": 3
   },
   "file_extension": ".py",
   "mimetype": "text/x-python",
   "name": "python",
   "nbconvert_exporter": "python",
   "pygments_lexer": "ipython3",
   "version": "3.6.8"
  }
 },
 "nbformat": 4,
 "nbformat_minor": 2
}
