{
 "cells": [
  {
   "cell_type": "markdown",
   "metadata": {},
   "source": [
    "## Imports"
   ]
  },
  {
   "cell_type": "code",
   "execution_count": 6,
   "metadata": {},
   "outputs": [],
   "source": [
    "import numpy as np\n",
    "import matplotlib.pyplot as plt\n",
    "import random as rd\n",
    "%matplotlib inline"
   ]
  },
  {
   "cell_type": "markdown",
   "metadata": {},
   "source": [
    "## Fonction de Rosenbrock\n",
    "\n",
    "$R(x, y) = (1 - x)^2 + 100(y - x^2)^2$"
   ]
  },
  {
   "cell_type": "code",
   "execution_count": 7,
   "metadata": {},
   "outputs": [
    {
     "data": {
      "text/plain": [
       "0"
      ]
     },
     "execution_count": 7,
     "metadata": {},
     "output_type": "execute_result"
    }
   ],
   "source": [
    "def rosenbrock(x):\n",
    "    return (1 - x[0])**2 + 100 * (x[1] - x[0]**2)**2\n",
    "\n",
    "rosenbrock(np.array([1, 1]))"
   ]
  },
  {
   "cell_type": "markdown",
   "metadata": {},
   "source": [
    "## Gradients de Rosenbrock\n",
    "\n",
    "$\\large\\frac{\\partial R}{\\partial x} = 400x^3 - 400xy + 2x - 2$\n",
    "\n",
    "$\\large\\frac{\\partial R}{\\partial y} = 200(y - x^2)$"
   ]
  },
  {
   "cell_type": "code",
   "execution_count": 8,
   "metadata": {},
   "outputs": [],
   "source": [
    "def grad_rosenbrock(x):\n",
    "    dx1 = 400 * x[0]**3 - 400 * x[0] * x[1] + 2 * x[0] - 2\n",
    "    dx2 = 200 * (x[1] - x[0]**2)\n",
    "    return np.array([dx1, dx2])"
   ]
  },
  {
   "cell_type": "markdown",
   "metadata": {},
   "source": [
    "## Gradient Descent: fixed step"
   ]
  },
  {
   "cell_type": "code",
   "execution_count": 9,
   "metadata": {},
   "outputs": [],
   "source": [
    "def plot_grad_x(grads, xs):\n",
    "    grads = np.array(grads)\n",
    "    plt.plot(np.arange(len(grads[:, 0])), grads[:, 0], label='dx1')\n",
    "    plt.plot(np.arange(len(grads[:, 1])), grads[:, 1], label='dx2')\n",
    "    plt.legend()\n",
    "    plt.title('Gradients')\n",
    "    plt.show()\n",
    "    xs = np.array(xs)\n",
    "    plt.plot(np.arange(len(xs[:, 0])), xs[:, 0], label='x1')\n",
    "    plt.plot(np.arange(len(xs[:, 1])), xs[:, 1], label='x2')\n",
    "    plt.legend()\n",
    "    plt.title('Gradients')\n",
    "    plt.show()\n",
    "\n",
    "def gdescent_fixe(f, df, x0, alpha=0.01, eps=0.0000001, max_iter=1000, plot=False, no_print=False):\n",
    "    x = x0\n",
    "    grads = []\n",
    "    xs = [x]\n",
    "    for i in range(max_iter):\n",
    "        # Compute x(n+1)\n",
    "        grads.append(grad_rosenbrock(x))\n",
    "        new_x = x - alpha * grads[-1]\n",
    "        \n",
    "        # Compute residual\n",
    "        res = np.linalg.norm(new_x - x)\n",
    "        if res < eps:\n",
    "            if not no_print:\n",
    "                print(f'Solution found in {i} iterations.')\n",
    "            if plot:\n",
    "                plot_grad_x(grads, xs)\n",
    "            return new_x\n",
    "        \n",
    "        x = new_x\n",
    "        xs.append(x)\n",
    "        \n",
    "    if not no_print:\n",
    "        print(f'No solutions was found after {max_iter} iterations.')\n",
    "    if plot:\n",
    "        plot_grad_x(grads, xs)\n",
    "    return None"
   ]
  },
  {
   "cell_type": "code",
   "execution_count": 10,
   "metadata": {},
   "outputs": [
    {
     "name": "stdout",
     "output_type": "stream",
     "text": [
      "Solution found in 38963 iterations.\n"
     ]
    },
    {
     "data": {
      "text/plain": [
       "array([0.99977652, 0.99955219])"
      ]
     },
     "execution_count": 10,
     "metadata": {},
     "output_type": "execute_result"
    }
   ],
   "source": [
    "gdescent_fixe(rosenbrock, grad_rosenbrock, np.array([-1.9, 2.0]), alpha=0.0005, max_iter=50000)"
   ]
  },
  {
   "cell_type": "code",
   "execution_count": 11,
   "metadata": {},
   "outputs": [
    {
     "name": "stdout",
     "output_type": "stream",
     "text": [
      "Solution found in 23162 iterations.\n"
     ]
    },
    {
     "data": {
      "text/plain": [
       "array([0.99987586, 0.99975124])"
      ]
     },
     "execution_count": 11,
     "metadata": {},
     "output_type": "execute_result"
    }
   ],
   "source": [
    "gdescent_fixe(rosenbrock, grad_rosenbrock, np.array([-1.9, 2.0]), alpha=0.0009, max_iter=50000)"
   ]
  },
  {
   "cell_type": "code",
   "execution_count": 12,
   "metadata": {},
   "outputs": [
    {
     "name": "stdout",
     "output_type": "stream",
     "text": [
      "Solution found in 19293 iterations.\n"
     ]
    },
    {
     "data": {
      "text/plain": [
       "array([0.99989842, 0.99979644])"
      ]
     },
     "execution_count": 12,
     "metadata": {},
     "output_type": "execute_result"
    }
   ],
   "source": [
    "gdescent_fixe(rosenbrock, grad_rosenbrock, np.array([-1.9, 2.0]), alpha=0.0011, max_iter=50000)"
   ]
  },
  {
   "cell_type": "code",
   "execution_count": 13,
   "metadata": {},
   "outputs": [
    {
     "name": "stderr",
     "output_type": "stream",
     "text": [
      "/home/antoine/.local/lib/python3.6/site-packages/ipykernel_launcher.py:2: RuntimeWarning: overflow encountered in double_scalars\n",
      "  \n",
      "/home/antoine/.local/lib/python3.6/site-packages/ipykernel_launcher.py:2: RuntimeWarning: invalid value encountered in double_scalars\n",
      "  \n"
     ]
    },
    {
     "name": "stdout",
     "output_type": "stream",
     "text": [
      "No solutions was found after 50000 iterations.\n"
     ]
    },
    {
     "data": {
      "image/png": "[encoded data removed]",
      "text/plain": [
       "<Figure size 432x288 with 1 Axes>"
      ]
     },
     "metadata": {
      "needs_background": "light"
     },
     "output_type": "display_data"
    },
    {
     "data": {
      "image/png": "[encoded data removed]",
      "text/plain": [
       "<Figure size 432x288 with 1 Axes>"
      ]
     },
     "metadata": {
      "needs_background": "light"
     },
     "output_type": "display_data"
    }
   ],
   "source": [
    "gdescent_fixe(rosenbrock, grad_rosenbrock, np.array([-1.9, 2.0]), alpha=0.0022, max_iter=50000, plot=True)"
   ]
  },
  {
   "cell_type": "code",
   "execution_count": 14,
   "metadata": {},
   "outputs": [
    {
     "name": "stdout",
     "output_type": "stream",
     "text": [
      "No solutions was found after 50000 iterations.\n"
     ]
    },
    {
     "data": {
      "image/png": "[encoded data removed]",
      "text/plain": [
       "<Figure size 432x288 with 1 Axes>"
      ]
     },
     "metadata": {
      "needs_background": "light"
     },
     "output_type": "display_data"
    },
    {
     "data": {
      "image/png": "[encoded data removed]",
      "text/plain": [
       "<Figure size 432x288 with 1 Axes>"
      ]
     },
     "metadata": {
      "needs_background": "light"
     },
     "output_type": "display_data"
    }
   ],
   "source": [
    "gdescent_fixe(rosenbrock, grad_rosenbrock, np.array([-1.9, 2.0]), alpha=0.0021, max_iter=50000, plot=True)"
   ]
  },
  {
   "cell_type": "code",
   "execution_count": 15,
   "metadata": {},
   "outputs": [
    {
     "name": "stdout",
     "output_type": "stream",
     "text": [
      "Solution found in 8058 iterations.\n"
     ]
    },
    {
     "data": {
      "image/png": "[encoded data removed]",
      "text/plain": [
       "<Figure size 432x288 with 1 Axes>"
      ]
     },
     "metadata": {
      "needs_background": "light"
     },
     "output_type": "display_data"
    },
    {
     "data": {
      "image/png": "[encoded data removed]",
      "text/plain": [
       "<Figure size 432x288 with 1 Axes>"
      ]
     },
     "metadata": {
      "needs_background": "light"
     },
     "output_type": "display_data"
    },
    {
     "data": {
      "text/plain": [
       "array([0.99994415, 0.99988808])"
      ]
     },
     "execution_count": 15,
     "metadata": {},
     "output_type": "execute_result"
    }
   ],
   "source": [
    "gdescent_fixe(rosenbrock, grad_rosenbrock, np.array([-1.9, 2.0]), alpha=0.002, max_iter=50000, plot=True)"
   ]
  },
  {
   "cell_type": "markdown",
   "metadata": {},
   "source": [
    "On voit que le choix du **learning rate** alpha est déterminant dans la convergence de l'algorithme. Ici, on voit qu'il y a un très mince intervalle de valeurs qui permettent de converger en moins de 10000 itérations.\n",
    "\n",
    "**0.002** est la valeur qui nous fait converger le plus vite. Quand on dépasse celle-ci ne serait-ce que d'un dix-millième, l'algorithme ne converge plus en moins de 50000 itérations. Si on dépasse encore un peu plus, on voit même les gradients exploser très rapidement, emmenant les valeurs de x avec eux. "
   ]
  },
  {
   "cell_type": "markdown",
   "metadata": {},
   "source": [
    "**Timing de l'algorithme:**"
   ]
  },
  {
   "cell_type": "code",
   "execution_count": 16,
   "metadata": {},
   "outputs": [
    {
     "name": "stdout",
     "output_type": "stream",
     "text": [
      "218 ms ± 3.75 ms per loop (mean ± std. dev. of 7 runs, 1 loop each)\n"
     ]
    }
   ],
   "source": [
    "%timeit gdescent_fixe(rosenbrock, grad_rosenbrock, np.array([-1.9, 2.0]), alpha=0.002, max_iter=50000, no_print=True)"
   ]
  },
  {
   "cell_type": "markdown",
   "metadata": {},
   "source": [
    "## Gold Section Search"
   ]
  },
  {
   "cell_type": "code",
   "execution_count": 17,
   "metadata": {},
   "outputs": [],
   "source": [
    "def f(x):\n",
    "    return np.exp(x) - 2 * x\n",
    "\n",
    "def df(x):\n",
    "    return np.exp(x) - 2"
   ]
  },
  {
   "cell_type": "code",
   "execution_count": 18,
   "metadata": {},
   "outputs": [],
   "source": [
    "def gold_section(f, inter=[0, 2], eps=0.0000001, max_iter=1000,print_results=True):\n",
    "    ro = (np.sqrt(5) - 1) / 2\n",
    "    a, b = inter[0], inter[1]\n",
    "    \n",
    "    xm = ro * a + (1 - ro) * b\n",
    "    xp = a + b - xm\n",
    "    \n",
    "    vm = f(xm)\n",
    "    vp = f(xp)\n",
    "    \n",
    "    for i in range(max_iter):\n",
    "        if print_results:\n",
    "            print(f'[{a}, {b}]')\n",
    "        if vm <= vp:\n",
    "            b = xp\n",
    "            xp = xm\n",
    "            xm = a + b - xp\n",
    "            \n",
    "            vp = vm\n",
    "            vm = f(xm)\n",
    "        else:\n",
    "            a = xm\n",
    "            xm = xp\n",
    "            xp = a + b - xm\n",
    "            \n",
    "            vm = vp\n",
    "            vp = f(xp)\n",
    "        \n",
    "        # Test convergence\n",
    "        if b - a < eps:\n",
    "            x = (a + b) / 2\n",
    "            if print_results:\n",
    "                print(f'Found solution {x} in {i + 1} iterations.')\n",
    "            return (a + b) / 2\n",
    "    \n",
    "    print(f'Did not find any solution in {max_iter} iterations.')\n",
    "    return None"
   ]
  },
  {
   "cell_type": "code",
   "execution_count": 19,
   "metadata": {},
   "outputs": [
    {
     "name": "stdout",
     "output_type": "stream",
     "text": [
      "[0, 2]\n",
      "[0, 1.2360679774997898]\n",
      "[0.4721359549995796, 1.2360679774997898]\n",
      "[0.4721359549995796, 0.9442719099991592]\n",
      "[0.4721359549995796, 0.7639320225002102]\n",
      "[0.5835921350012612, 0.7639320225002102]\n",
      "[0.6524758424985286, 0.7639320225002102]\n",
      "[0.6524758424985286, 0.7213595499957961]\n",
      "[0.678787077491382, 0.7213595499957961]\n",
      "[0.678787077491382, 0.7050983124842354]\n",
      "[0.6888370749726747, 0.7050983124842354]\n",
      "[0.6888370749726747, 0.6988870724539673]\n",
      "[0.6888370749726747, 0.6950483150029427]\n",
      "[0.6912095575519182, 0.6950483150029427]\n",
      "[0.6926758324236992, 0.6950483150029427]\n",
      "[0.6926758324236992, 0.6941421072954803]\n",
      "[0.6926758324236992, 0.6935820401311616]\n",
      "[0.693021972966843, 0.6935820401311616]\n",
      "[0.693021972966843, 0.6933681135099867]\n",
      "[0.693021972966843, 0.6932358995880179]\n",
      "[0.6931036856660491, 0.6932358995880179]\n",
      "[0.6931036856660491, 0.6931853983652552]\n",
      "[0.6931348971424924, 0.6931853983652552]\n",
      "[0.6931348971424924, 0.6931661086189358]\n",
      "[0.6931348971424924, 0.6931541868888118]\n",
      "[0.6931422651586878, 0.6931541868888118]\n",
      "[0.6931422651586878, 0.6931496331748832]\n",
      "[0.6931450794609546, 0.6931496331748832]\n",
      "[0.6931450794609546, 0.6931478937632214]\n",
      "[0.6931461543515596, 0.6931478937632214]\n",
      "[0.6931468188726164, 0.6931478937632214]\n",
      "[0.6931468188726164, 0.6931474833936733]\n",
      "[0.6931470730241251, 0.6931474833936733]\n",
      "[0.6931470730241251, 0.6931473271756339]\n",
      "[0.6931470730241251, 0.6931472292421645]\n",
      "Found solution 0.6931471802754299 in 35 iterations.\n"
     ]
    },
    {
     "data": {
      "text/plain": [
       "0.6931471802754299"
      ]
     },
     "execution_count": 19,
     "metadata": {},
     "output_type": "execute_result"
    }
   ],
   "source": [
    "gold_section(f)"
   ]
  },
  {
   "cell_type": "code",
   "execution_count": null,
   "metadata": {},
   "outputs": [],
   "source": []
  },
  {
   "cell_type": "code",
   "execution_count": 61,
   "metadata": {},
   "outputs": [],
   "source": [
    "def gold_section_learning_rate(f,df,Xn, inter=[0, 1], eps= 1e-4, max_iter=1000,print_results=True):\n",
    "    ro = (np.sqrt(5) - 1) / 2\n",
    "    a, b = inter[0], inter[1]\n",
    "    \n",
    "    xm = ro * a + (1 - ro) * b\n",
    "    xp = a + b - xm\n",
    "    \n",
    "    vm = f(Xn - (xm * df(Xn)) )\n",
    "    vp = f(Xn - (xp * df(Xn)) )\n",
    "    \n",
    "    for i in range(max_iter):\n",
    "        if print_results:\n",
    "            print(f'[{a}, {b}]')\n",
    "        if vm <= vp:\n",
    "            b = xp\n",
    "            xp = xm\n",
    "            xm = a + b - xp\n",
    "            \n",
    "            vp = vm\n",
    "            vm = f(Xn - (xm * df(Xn)) )\n",
    "        else:\n",
    "            a = xm\n",
    "            xm = xp\n",
    "            xp = a + b - xm\n",
    "            \n",
    "            vm = vp\n",
    "            vp = f(Xn - (xp * df(Xn)) )\n",
    "        \n",
    "        # Test convergence\n",
    "        if b - a < eps:\n",
    "            x = (a + b) / 2\n",
    "            if print_results:\n",
    "                print(f'Found solution {x} in {i + 1} iterations.')\n",
    "            return (a + b) / 2\n",
    "    \n",
    "    print(f'Did not find any solution in {max_iter} iterations.')\n",
    "    return None"
   ]
  },
  {
   "cell_type": "code",
   "execution_count": 82,
   "metadata": {},
   "outputs": [],
   "source": [
    "def gdescent_optimal(f,df,x0,alpha=0.01,epsilon=1e-6,max_iter=10000):\n",
    "    \n",
    "    grads = []\n",
    "    Xs = [x0]\n",
    "    alphas = [alpha]\n",
    "    \n",
    "    #check error\n",
    "    for n in range(max_iter):\n",
    "        #calculate gradient\n",
    "        grads.append(df(Xs[-1]))\n",
    "        \n",
    "        #calculate alpha n using golden section algo\n",
    "        alphas.append(gold_section_learning_rate(f,df,Xs[-1],print_results=False))\n",
    "        #print(\"new alpha at\",alphas[-1])\n",
    "        \n",
    "        #update our point X\n",
    "        Xs.append(Xs[-1] - (alphas[-1] * grads[-1]) )\n",
    "        #print(\"new point\",Xs[-1])\n",
    "        #calculate residual\n",
    "        if np.linalg.norm(Xs[-1] - Xs[-2]) < epsilon:\n",
    "            \n",
    "            plt.title\n",
    "            plt.plot(alphas)\n",
    "            plt.show()\n",
    "            plot_grad_x(grads, Xs)\n",
    "            return Xs[-1]\n",
    "        \n",
    "    print(\"could not find solution after\",max_iter,\"iterations\")\n",
    "    "
   ]
  },
  {
   "cell_type": "code",
   "execution_count": 83,
   "metadata": {},
   "outputs": [
    {
     "data": {
      "image/png": "[encoded data removed]",
      "text/plain": [
       "<Figure size 432x288 with 1 Axes>"
      ]
     },
     "metadata": {
      "needs_background": "light"
     },
     "output_type": "display_data"
    },
    {
     "data": {
      "image/png": "[encoded data removed]",
      "text/plain": [
       "<Figure size 432x288 with 1 Axes>"
      ]
     },
     "metadata": {
      "needs_background": "light"
     },
     "output_type": "display_data"
    },
    {
     "data": {
      "image/png": "[encoded data removed]",
      "text/plain": [
       "<Figure size 432x288 with 1 Axes>"
      ]
     },
     "metadata": {
      "needs_background": "light"
     },
     "output_type": "display_data"
    },
    {
     "data": {
      "text/plain": [
       "array([1.00008912, 1.00017859])"
      ]
     },
     "execution_count": 83,
     "metadata": {},
     "output_type": "execute_result"
    }
   ],
   "source": [
    "gdescent_optimal(rosenbrock,grad_rosenbrock,np.array([-1.9, 2.0]) )"
   ]
  },
  {
   "cell_type": "code",
   "execution_count": null,
   "metadata": {},
   "outputs": [],
   "source": []
  }
 ],
 "metadata": {
  "kernelspec": {
   "display_name": "Python 3",
   "language": "python",
   "name": "python3"
  },
  "language_info": {
   "codemirror_mode": {
    "name": "ipython",
    "version": 3
   },
   "file_extension": ".py",
   "mimetype": "text/x-python",
   "name": "python",
   "nbconvert_exporter": "python",
   "pygments_lexer": "ipython3",
   "version": "3.6.8"
  }
 },
 "nbformat": 4,
 "nbformat_minor": 2
}
