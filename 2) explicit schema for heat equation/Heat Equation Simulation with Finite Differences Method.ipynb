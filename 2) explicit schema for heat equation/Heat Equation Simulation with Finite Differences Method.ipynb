{
 "cells": [
  {
   "cell_type": "code",
   "execution_count": 2,
   "metadata": {},
   "outputs": [],
   "source": [
    "import numpy as np\n",
    "import matplotlib.pyplot as plt\n",
    "import seaborn as sns\n"
   ]
  },
  {
   "cell_type": "markdown",
   "metadata": {},
   "source": [
    "## Calculating heat diffusion in underground rocks\n",
    "\n"
   ]
  },
  {
   "cell_type": "code",
   "execution_count": 25,
   "metadata": {},
   "outputs": [],
   "source": [
    "#defining constants\n",
    "\n",
    "diffusion_rate = 1e-6\n",
    "K = diffusion_rate\n",
    "start_temp = 15\n",
    "Nz = 500\n",
    "dz = 1/4\n",
    "\n",
    "Nt = 5000\n",
    "dt = (365*24*60*60)/Nt \n",
    "\n",
    "\n",
    "u = start_temp * np.ones((Nz+1,Nt+1))"
   ]
  },
  {
   "cell_type": "code",
   "execution_count": 26,
   "metadata": {},
   "outputs": [
    {
     "name": "stdout",
     "output_type": "stream",
     "text": [
      "(501, 5001)\n"
     ]
    }
   ],
   "source": [
    "print(u.shape)"
   ]
  },
  {
   "cell_type": "code",
   "execution_count": 27,
   "metadata": {},
   "outputs": [
    {
     "name": "stdout",
     "output_type": "stream",
     "text": [
      "(5001,)\n",
      "[0.00000e+00 2.40000e-03 4.80000e-03 ... 1.19952e+01 1.19976e+01\n",
      " 1.20000e+01]\n"
     ]
    }
   ],
   "source": [
    "time = np.linspace(0,12, Nt+1)\n",
    "print(time.shape)\n",
    "print(time)"
   ]
  },
  {
   "cell_type": "code",
   "execution_count": 41,
   "metadata": {},
   "outputs": [],
   "source": [
    "def heat_equa(u,time,dz):\n",
    "\n",
    "    max_iter = 100\n",
    "    epsilon = 1e-6\n",
    "\n",
    "    err = []\n",
    "\n",
    "    #surface condition\n",
    "    u[0,:] = 15 - (10*np.sin(2*np.pi*time/12))\n",
    "\n",
    "    for itera in range(max_iter):\n",
    "\n",
    "\n",
    "        u_old = u\n",
    "        u[:,0] = u_old[:,-1]\n",
    "\n",
    "        for i in range(1,Nt+1):\n",
    "            depth = (u[0:-1-2,i-1] - 2* u[1:-1-1, i-1] + u[2:-1, i-1])/ (dz**2)\n",
    "            time_1d = K*depth\n",
    "\n",
    "            u[1:-1-1,i] = time_1d * dt + u[1:-1-1,i-1]\n",
    "            u[-1,i] = u[-1-1, i] #condition a la limite du fond\n",
    "\n",
    "\n",
    "        print(u - u_old)\n",
    "        err.append(np.max(abs(u - u_old)) )\n",
    "\n",
    "        if err[-1] < epsilon:\n",
    "            print(itera)\n",
    "            break\n",
    "    \n",
    "    return u \n",
    "\n"
   ]
  },
  {
   "cell_type": "code",
   "execution_count": 43,
   "metadata": {},
   "outputs": [
    {
     "name": "stdout",
     "output_type": "stream",
     "text": [
      "[[0. 0. 0. ... 0. 0. 0.]\n",
      " [0. 0. 0. ... 0. 0. 0.]\n",
      " [0. 0. 0. ... 0. 0. 0.]\n",
      " ...\n",
      " [0. 0. 0. ... 0. 0. 0.]\n",
      " [0. 0. 0. ... 0. 0. 0.]\n",
      " [0. 0. 0. ... 0. 0. 0.]]\n",
      "0\n"
     ]
    },
    {
     "data": {
      "text/plain": [
       "(501, 5001)"
      ]
     },
     "execution_count": 43,
     "metadata": {},
     "output_type": "execute_result"
    }
   ],
   "source": [
    "u = heat_equa(u,time,dz)\n",
    "u.shape"
   ]
  },
  {
   "cell_type": "code",
   "execution_count": 45,
   "metadata": {},
   "outputs": [
    {
     "data": {
      "text/plain": [
       "<matplotlib.image.AxesImage at 0x7f2bd68a6438>"
      ]
     },
     "execution_count": 45,
     "metadata": {},
     "output_type": "execute_result"
    },
    {
     "data": {
      "image/png": "[encoded data removed]",
      "text/plain": [
       "<Figure size 1440x1440 with 1 Axes>"
      ]
     },
     "metadata": {
      "needs_background": "light"
     },
     "output_type": "display_data"
    }
   ],
   "source": [
    "xmin = 0\n",
    "xmax = 12\n",
    "\n",
    "ymin = 0\n",
    "ymax = 100\n",
    "\n",
    "fig, ax = plt.subplots(figsize=(20, 20))\n",
    "ax.set(xlim=(xmin, xmax), ylim=(ymin, ymax))\n",
    "\n",
    "plt.imshow(u.T,cmap='viridis')"
   ]
  },
  {
   "cell_type": "code",
   "execution_count": 46,
   "metadata": {},
   "outputs": [
    {
     "data": {
      "text/plain": [
       "<matplotlib.axes._subplots.AxesSubplot at 0x7f2bd6686da0>"
      ]
     },
     "execution_count": 46,
     "metadata": {},
     "output_type": "execute_result"
    },
    {
     "data": {
      "image/png": "[encoded data removed]",
      "text/plain": [
       "<Figure size 432x288 with 2 Axes>"
      ]
     },
     "metadata": {
      "needs_background": "light"
     },
     "output_type": "display_data"
    }
   ],
   "source": [
    "xmin = 0\n",
    "xmax = 12\n",
    "\n",
    "ymin = 0\n",
    "ymax = 100\n",
    "\n",
    "\n",
    "sns.heatmap(u)"
   ]
  },
  {
   "cell_type": "code",
   "execution_count": null,
   "metadata": {},
   "outputs": [],
   "source": []
  }
 ],
 "metadata": {
  "kernelspec": {
   "display_name": "Python 3",
   "language": "python",
   "name": "python3"
  },
  "language_info": {
   "codemirror_mode": {
    "name": "ipython",
    "version": 3
   },
   "file_extension": ".py",
   "mimetype": "text/x-python",
   "name": "python",
   "nbconvert_exporter": "python",
   "pygments_lexer": "ipython3",
   "version": "3.6.8"
  }
 },
 "nbformat": 4,
 "nbformat_minor": 2
}
