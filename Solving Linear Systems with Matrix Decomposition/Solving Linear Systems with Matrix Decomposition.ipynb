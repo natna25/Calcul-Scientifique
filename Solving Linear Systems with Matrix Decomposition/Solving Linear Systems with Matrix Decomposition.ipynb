{
 "cells": [
  {
   "cell_type": "markdown",
   "metadata": {},
   "source": [
    "# TP1: Methodes directes pour la résolution des systèmes linéaires\n",
    "\n",
    "On souhaite résoudre l'équation de la forme: \n",
    "\n",
    "## $$ Ax = b $$\n",
    "\n",
    "Avec, A une matrice carrée de dimension (n,n), x de dimension (n,1) et b de dimension (n,1). la matrice A et le vecteur b sont connues et on cherche à trouver x. d'ordinaire on aurait trouvé l'inverse de la matrics A afin d'en déduire x avec l'équation $$ x = A^{-1}b $$  \n",
    "\n",
    "Trouver l'inverse d'une matrice devient vite compliqué à calculer lorsque la taille de la matrice augmente, ceci n'étant pas scalable, il faut utiliser une autre méthode pour résoudre cette équation plus rapidement."
   ]
  },
  {
   "cell_type": "code",
   "execution_count": 40,
   "metadata": {},
   "outputs": [],
   "source": [
    "import numpy as np\n",
    "import scipy as sc\n",
    "\n",
    "from scipy import linalg as lg"
   ]
  },
  {
   "cell_type": "code",
   "execution_count": 41,
   "metadata": {},
   "outputs": [
    {
     "data": {
      "text/plain": [
       "array([[4, 3, 2, 3, 1],\n",
       "       [4, 0, 2, 0, 0],\n",
       "       [2, 4, 0, 0, 0],\n",
       "       [4, 1, 2, 3, 2],\n",
       "       [1, 1, 0, 0, 3]])"
      ]
     },
     "execution_count": 41,
     "metadata": {},
     "output_type": "execute_result"
    }
   ],
   "source": [
    "def gen_a_b(n=5):\n",
    "    # On génère une matrice inversible (det(A) = 0) et qui n'aura pas de permutation dans la decomp LU\n",
    "    while True:  \n",
    "        A = np.random.randint(5,size=(n, n))\n",
    "        p,L, U = lg.lu(A)\n",
    "\n",
    "        if np.linalg.det(A) != 0 and np.trace(p) == n:\n",
    "            break\n",
    "\n",
    "    b = np.random.randint(5,size=(n, 1))\n",
    "    \n",
    "    return A,b\n",
    "\n",
    "A,b = gen_a_b(5)\n",
    "A"
   ]
  },
  {
   "cell_type": "code",
   "execution_count": 42,
   "metadata": {},
   "outputs": [
    {
     "data": {
      "text/plain": [
       "array([[1],\n",
       "       [0],\n",
       "       [3],\n",
       "       [3],\n",
       "       [3]])"
      ]
     },
     "execution_count": 42,
     "metadata": {},
     "output_type": "execute_result"
    }
   ],
   "source": [
    "b"
   ]
  },
  {
   "cell_type": "markdown",
   "metadata": {},
   "source": [
    "on regarde si la matrice est inversible, elle ne l'est pas si il y a des 0\n",
    "https://docs.scipy.org/doc/numpy/reference/generated/numpy.linalg.inv.html"
   ]
  },
  {
   "cell_type": "markdown",
   "metadata": {},
   "source": [
    "## Decomposition LU"
   ]
  },
  {
   "cell_type": "code",
   "execution_count": 43,
   "metadata": {},
   "outputs": [],
   "source": [
    "from scipy import linalg as lg\n",
    "\n",
    "p,L, U = lg.lu(A, )\n",
    "\n"
   ]
  },
  {
   "cell_type": "markdown",
   "metadata": {},
   "source": [
    "P est une matrice de permutation\n",
    "\n",
    "https://www.wikiwand.com/en/Permutation_matrix"
   ]
  },
  {
   "cell_type": "code",
   "execution_count": 44,
   "metadata": {},
   "outputs": [
    {
     "data": {
      "text/plain": [
       "array([[1., 0., 0., 0., 0.],\n",
       "       [0., 1., 0., 0., 0.],\n",
       "       [0., 0., 1., 0., 0.],\n",
       "       [0., 0., 0., 1., 0.],\n",
       "       [0., 0., 0., 0., 1.]])"
      ]
     },
     "execution_count": 44,
     "metadata": {},
     "output_type": "execute_result"
    }
   ],
   "source": [
    "p"
   ]
  },
  {
   "cell_type": "code",
   "execution_count": 45,
   "metadata": {},
   "outputs": [
    {
     "data": {
      "text/plain": [
       "array([[ 1.        ,  0.        ,  0.        ,  0.        ,  0.        ],\n",
       "       [ 1.        ,  1.        ,  0.        ,  0.        ,  0.        ],\n",
       "       [ 0.5       , -0.83333333,  1.        ,  0.        ,  0.        ],\n",
       "       [ 1.        ,  0.66666667, -0.        ,  1.        ,  0.        ],\n",
       "       [ 0.25      , -0.08333333,  0.5       ,  0.5       ,  1.        ]])"
      ]
     },
     "execution_count": 45,
     "metadata": {},
     "output_type": "execute_result"
    }
   ],
   "source": [
    "L"
   ]
  },
  {
   "cell_type": "code",
   "execution_count": 46,
   "metadata": {},
   "outputs": [
    {
     "data": {
      "text/plain": [
       "array([[ 4.        ,  3.        ,  2.        ,  3.        ,  1.        ],\n",
       "       [ 0.        , -3.        ,  0.        , -3.        , -1.        ],\n",
       "       [ 0.        ,  0.        , -1.        , -4.        , -1.33333333],\n",
       "       [ 0.        ,  0.        ,  0.        ,  2.        ,  1.66666667],\n",
       "       [ 0.        ,  0.        ,  0.        ,  0.        ,  2.5       ]])"
      ]
     },
     "execution_count": 46,
     "metadata": {},
     "output_type": "execute_result"
    }
   ],
   "source": [
    "U"
   ]
  },
  {
   "cell_type": "markdown",
   "metadata": {},
   "source": [
    "### Decomp LU sans librairie"
   ]
  },
  {
   "cell_type": "code",
   "execution_count": 47,
   "metadata": {},
   "outputs": [],
   "source": [
    "def decomp_lu(A):\n",
    "    \"\"\" Calcule la décomposition LU d'une matrice carré inversible A\n",
    "    \"\"\"\n",
    "    n = A.shape[0]\n",
    "    \n",
    "    L = np.zeros((n,n))\n",
    "    U = np.zeros((n,n))\n",
    "    \n",
    "    # 1ere ligne de U = 1ere ligne de A\n",
    "    U[0] = A[0]\n",
    "        \n",
    "    # 1ere colonne de L = 1ere colonne de A\n",
    "    L[:,0] = A[:,0] / U[0,0]\n",
    "    \n",
    "    for i in range(1, n):\n",
    "        L[i,i] = 1\n",
    "        U[i,i] = A[i,i] - np.sum(np.multiply(L[i,:i], U[:i,i]))\n",
    "        \n",
    "        for j in range(i + 1, n):\n",
    "            U[i,j] = A[i,j] - np.sum(np.multiply(L[i,:i], U[:i,j]))\n",
    "            L[j,i] = (A[j,i] - np.sum(np.multiply(L[j,:i], U[:i,i]))) / U[i,i]\n",
    "        \n",
    "    return L,U\n",
    "    \n",
    "Lm,Um = decomp_lu(A)"
   ]
  },
  {
   "cell_type": "code",
   "execution_count": 48,
   "metadata": {},
   "outputs": [
    {
     "data": {
      "text/plain": [
       "array([[ 1.        ,  0.        ,  0.        ,  0.        ,  0.        ],\n",
       "       [ 1.        ,  1.        ,  0.        ,  0.        ,  0.        ],\n",
       "       [ 0.5       , -0.83333333,  1.        ,  0.        ,  0.        ],\n",
       "       [ 1.        ,  0.66666667, -0.        ,  1.        ,  0.        ],\n",
       "       [ 0.25      , -0.08333333,  0.5       ,  0.5       ,  1.        ]])"
      ]
     },
     "execution_count": 48,
     "metadata": {},
     "output_type": "execute_result"
    }
   ],
   "source": [
    "Lm \n"
   ]
  },
  {
   "cell_type": "code",
   "execution_count": 49,
   "metadata": {},
   "outputs": [
    {
     "data": {
      "text/plain": [
       "array([[ 1.        ,  0.        ,  0.        ,  0.        ,  0.        ],\n",
       "       [ 1.        ,  1.        ,  0.        ,  0.        ,  0.        ],\n",
       "       [ 0.5       , -0.83333333,  1.        ,  0.        ,  0.        ],\n",
       "       [ 1.        ,  0.66666667, -0.        ,  1.        ,  0.        ],\n",
       "       [ 0.25      , -0.08333333,  0.5       ,  0.5       ,  1.        ]])"
      ]
     },
     "execution_count": 49,
     "metadata": {},
     "output_type": "execute_result"
    }
   ],
   "source": [
    "L"
   ]
  },
  {
   "cell_type": "code",
   "execution_count": 50,
   "metadata": {},
   "outputs": [
    {
     "data": {
      "text/plain": [
       "array([[ 4.        ,  3.        ,  2.        ,  3.        ,  1.        ],\n",
       "       [ 0.        , -3.        ,  0.        , -3.        , -1.        ],\n",
       "       [ 0.        ,  0.        , -1.        , -4.        , -1.33333333],\n",
       "       [ 0.        ,  0.        ,  0.        ,  2.        ,  1.66666667],\n",
       "       [ 0.        ,  0.        ,  0.        ,  0.        ,  2.5       ]])"
      ]
     },
     "execution_count": 50,
     "metadata": {},
     "output_type": "execute_result"
    }
   ],
   "source": [
    "Um"
   ]
  },
  {
   "cell_type": "code",
   "execution_count": 51,
   "metadata": {},
   "outputs": [
    {
     "data": {
      "text/plain": [
       "array([[ 4.        ,  3.        ,  2.        ,  3.        ,  1.        ],\n",
       "       [ 0.        , -3.        ,  0.        , -3.        , -1.        ],\n",
       "       [ 0.        ,  0.        , -1.        , -4.        , -1.33333333],\n",
       "       [ 0.        ,  0.        ,  0.        ,  2.        ,  1.66666667],\n",
       "       [ 0.        ,  0.        ,  0.        ,  0.        ,  2.5       ]])"
      ]
     },
     "execution_count": 51,
     "metadata": {},
     "output_type": "execute_result"
    }
   ],
   "source": [
    "U"
   ]
  },
  {
   "cell_type": "markdown",
   "metadata": {},
   "source": [
    "## Triangulaire inférieure"
   ]
  },
  {
   "cell_type": "code",
   "execution_count": 52,
   "metadata": {},
   "outputs": [],
   "source": [
    "def triang_inf(T,b):\n",
    "    \"\"\"calcule x selon l'équation Tx=b avec T une matrice triangulaire inférieure et b un vecteur connu\n",
    "    Return:\n",
    "        x: vecteur solution de l'équation\n",
    "    \"\"\"\n",
    "    n = T.shape[0]\n",
    "    x = np.zeros((n, 1))\n",
    "\n",
    "    for k in range(n):\n",
    "        x[k] = (b[k] - np.sum(np.multiply(T[k], np.transpose(x))))/ T[k,k]\n",
    "    \n",
    "    return x\n",
    "    \n",
    "y = triang_inf(L,b)"
   ]
  },
  {
   "cell_type": "code",
   "execution_count": 53,
   "metadata": {},
   "outputs": [
    {
     "data": {
      "text/plain": [
       "array([[1.],\n",
       "       [0.],\n",
       "       [3.],\n",
       "       [3.],\n",
       "       [3.]])"
      ]
     },
     "execution_count": 53,
     "metadata": {},
     "output_type": "execute_result"
    }
   ],
   "source": [
    "np.dot(L,y)"
   ]
  },
  {
   "cell_type": "code",
   "execution_count": 54,
   "metadata": {},
   "outputs": [
    {
     "data": {
      "text/plain": [
       "array([[1],\n",
       "       [0],\n",
       "       [3],\n",
       "       [3],\n",
       "       [3]])"
      ]
     },
     "execution_count": 54,
     "metadata": {},
     "output_type": "execute_result"
    }
   ],
   "source": [
    "b"
   ]
  },
  {
   "cell_type": "markdown",
   "metadata": {},
   "source": [
    "## Triangulaire supérieure"
   ]
  },
  {
   "cell_type": "code",
   "execution_count": 55,
   "metadata": {},
   "outputs": [],
   "source": [
    "def triang_sup(T,b):\n",
    "    \"\"\"calcule x selon l'équation Tx=b avec T une matrice triangulaire supérieure et b un vecteur connu\n",
    "    Return:\n",
    "        x: vecteur solution de l'équation\n",
    "    \"\"\"\n",
    "    n = T.shape[0]\n",
    "    x = np.zeros((n, 1))\n",
    "\n",
    "    for k in range(n - 1 , -1, -1):\n",
    "        x[k] = (b[k] - np.sum(np.multiply(T[k], np.transpose(x)))) / T[k,k]\n",
    "    \n",
    "    \n",
    "    return x\n",
    "    \n",
    "x = triang_sup(U,y)\n",
    "    "
   ]
  },
  {
   "cell_type": "code",
   "execution_count": 56,
   "metadata": {},
   "outputs": [
    {
     "data": {
      "text/plain": [
       "array([[1.],\n",
       "       [0.],\n",
       "       [3.],\n",
       "       [3.],\n",
       "       [3.]])"
      ]
     },
     "execution_count": 56,
     "metadata": {},
     "output_type": "execute_result"
    }
   ],
   "source": [
    "np.dot(np.transpose(p),np.dot(A,x))"
   ]
  },
  {
   "cell_type": "code",
   "execution_count": 57,
   "metadata": {},
   "outputs": [
    {
     "data": {
      "text/plain": [
       "array([[1., 0., 3., 3., 3.]])"
      ]
     },
     "execution_count": 57,
     "metadata": {},
     "output_type": "execute_result"
    }
   ],
   "source": [
    "np.dot(np.transpose(np.dot(A,x)), p)"
   ]
  },
  {
   "cell_type": "code",
   "execution_count": 58,
   "metadata": {},
   "outputs": [
    {
     "data": {
      "text/plain": [
       "array([[1],\n",
       "       [0],\n",
       "       [3],\n",
       "       [3],\n",
       "       [3]])"
      ]
     },
     "execution_count": 58,
     "metadata": {},
     "output_type": "execute_result"
    }
   ],
   "source": [
    "b"
   ]
  },
  {
   "cell_type": "markdown",
   "metadata": {},
   "source": [
    "## Pivot de Gauss"
   ]
  },
  {
   "cell_type": "code",
   "execution_count": 59,
   "metadata": {},
   "outputs": [
    {
     "name": "stderr",
     "output_type": "stream",
     "text": [
      "/home/antoine/.local/lib/python3.6/site-packages/ipykernel_launcher.py:8: RuntimeWarning: invalid value encountered in long_scalars\n",
      "  \n"
     ]
    },
    {
     "ename": "ValueError",
     "evalue": "cannot convert float NaN to integer",
     "output_type": "error",
     "traceback": [
      "\u001b[0;31m---------------------------------------------------------------------------\u001b[0m",
      "\u001b[0;31mValueError\u001b[0m                                Traceback (most recent call last)",
      "\u001b[0;32m<ipython-input-59-11b6c90985d7>\u001b[0m in \u001b[0;36m<module>\u001b[0;34m\u001b[0m\n\u001b[1;32m     15\u001b[0m     \u001b[0;32mreturn\u001b[0m \u001b[0mx\u001b[0m\u001b[0;34m\u001b[0m\u001b[0;34m\u001b[0m\u001b[0m\n\u001b[1;32m     16\u001b[0m \u001b[0;34m\u001b[0m\u001b[0m\n\u001b[0;32m---> 17\u001b[0;31m \u001b[0mxg\u001b[0m \u001b[0;34m=\u001b[0m \u001b[0mgauss\u001b[0m\u001b[0;34m(\u001b[0m\u001b[0mA\u001b[0m\u001b[0;34m,\u001b[0m \u001b[0mb\u001b[0m\u001b[0;34m)\u001b[0m\u001b[0;34m\u001b[0m\u001b[0;34m\u001b[0m\u001b[0m\n\u001b[0m\u001b[1;32m     18\u001b[0m \u001b[0mxg\u001b[0m\u001b[0;34m\u001b[0m\u001b[0;34m\u001b[0m\u001b[0m\n",
      "\u001b[0;32m<ipython-input-59-11b6c90985d7>\u001b[0m in \u001b[0;36mgauss\u001b[0;34m(A, b)\u001b[0m\n\u001b[1;32m      6\u001b[0m     \u001b[0;32mfor\u001b[0m \u001b[0mk\u001b[0m \u001b[0;32min\u001b[0m \u001b[0mrange\u001b[0m\u001b[0;34m(\u001b[0m\u001b[0mn\u001b[0m \u001b[0;34m-\u001b[0m \u001b[0;36m1\u001b[0m\u001b[0;34m)\u001b[0m\u001b[0;34m:\u001b[0m\u001b[0;34m\u001b[0m\u001b[0;34m\u001b[0m\u001b[0m\n\u001b[1;32m      7\u001b[0m         \u001b[0;32mfor\u001b[0m \u001b[0mi\u001b[0m \u001b[0;32min\u001b[0m \u001b[0mrange\u001b[0m\u001b[0;34m(\u001b[0m\u001b[0mk\u001b[0m \u001b[0;34m+\u001b[0m \u001b[0;36m1\u001b[0m\u001b[0;34m,\u001b[0m \u001b[0mn\u001b[0m\u001b[0;34m)\u001b[0m\u001b[0;34m:\u001b[0m\u001b[0;34m\u001b[0m\u001b[0;34m\u001b[0m\u001b[0m\n\u001b[0;32m----> 8\u001b[0;31m             \u001b[0mM\u001b[0m\u001b[0;34m[\u001b[0m\u001b[0mi\u001b[0m\u001b[0;34m,\u001b[0m \u001b[0mk\u001b[0m\u001b[0;34m]\u001b[0m \u001b[0;34m=\u001b[0m \u001b[0mA\u001b[0m\u001b[0;34m[\u001b[0m\u001b[0mi\u001b[0m\u001b[0;34m,\u001b[0m \u001b[0mk\u001b[0m\u001b[0;34m]\u001b[0m \u001b[0;34m/\u001b[0m \u001b[0mA\u001b[0m\u001b[0;34m[\u001b[0m\u001b[0mk\u001b[0m\u001b[0;34m,\u001b[0m \u001b[0mk\u001b[0m\u001b[0;34m]\u001b[0m\u001b[0;34m\u001b[0m\u001b[0;34m\u001b[0m\u001b[0m\n\u001b[0m\u001b[1;32m      9\u001b[0m             \u001b[0mA\u001b[0m\u001b[0;34m[\u001b[0m\u001b[0mi\u001b[0m\u001b[0;34m,\u001b[0m \u001b[0mk\u001b[0m\u001b[0;34m:\u001b[0m\u001b[0;34m]\u001b[0m \u001b[0;34m=\u001b[0m \u001b[0mA\u001b[0m\u001b[0;34m[\u001b[0m\u001b[0mi\u001b[0m\u001b[0;34m,\u001b[0m \u001b[0mk\u001b[0m\u001b[0;34m:\u001b[0m\u001b[0;34m]\u001b[0m \u001b[0;34m-\u001b[0m \u001b[0mM\u001b[0m\u001b[0;34m[\u001b[0m\u001b[0mi\u001b[0m\u001b[0;34m,\u001b[0m \u001b[0mk\u001b[0m\u001b[0;34m]\u001b[0m \u001b[0;34m*\u001b[0m \u001b[0mA\u001b[0m\u001b[0;34m[\u001b[0m\u001b[0mk\u001b[0m\u001b[0;34m,\u001b[0m \u001b[0mk\u001b[0m\u001b[0;34m:\u001b[0m\u001b[0;34m]\u001b[0m\u001b[0;34m\u001b[0m\u001b[0;34m\u001b[0m\u001b[0m\n\u001b[1;32m     10\u001b[0m             \u001b[0mb\u001b[0m\u001b[0;34m[\u001b[0m\u001b[0mi\u001b[0m\u001b[0;34m]\u001b[0m \u001b[0;34m=\u001b[0m \u001b[0mb\u001b[0m\u001b[0;34m[\u001b[0m\u001b[0mi\u001b[0m\u001b[0;34m]\u001b[0m \u001b[0;34m-\u001b[0m \u001b[0mM\u001b[0m\u001b[0;34m[\u001b[0m\u001b[0mi\u001b[0m\u001b[0;34m,\u001b[0m \u001b[0mk\u001b[0m\u001b[0;34m]\u001b[0m \u001b[0;34m*\u001b[0m \u001b[0mb\u001b[0m\u001b[0;34m[\u001b[0m\u001b[0mk\u001b[0m\u001b[0;34m]\u001b[0m\u001b[0;34m\u001b[0m\u001b[0;34m\u001b[0m\u001b[0m\n",
      "\u001b[0;31mValueError\u001b[0m: cannot convert float NaN to integer"
     ]
    }
   ],
   "source": [
    "def gauss(A, b):\n",
    "    n = A.shape[0]\n",
    "    M = A\n",
    "    x = np.zeros((n, 1))\n",
    "    \n",
    "    for k in range(n - 1):\n",
    "        for i in range(k + 1, n):\n",
    "            M[i, k] = A[i, k] / A[k, k]\n",
    "            A[i, k:] = A[i, k:] - M[i, k] * A[k, k:]\n",
    "            b[i] = b[i] - M[i, k] * b[k]\n",
    "    \n",
    "    for i in range(n - 1 , -1, -1):\n",
    "        x[i] = (b[i] - np.sum(np.multiply(A[i], np.transpose(x)))) / A[i, i]\n",
    "        \n",
    "    return x\n",
    "\n",
    "xg = gauss(A, b)\n",
    "xg"
   ]
  },
  {
   "cell_type": "code",
   "execution_count": null,
   "metadata": {},
   "outputs": [],
   "source": [
    "np.dot(A,xg)"
   ]
  },
  {
   "cell_type": "markdown",
   "metadata": {},
   "source": [
    "# Problèmes avec l'inverse d'une matrice\n",
    "\n",
    "se baser sur trouver l'inverse de la matrice n'est pas pratique car la complexité croit exponentiellement lorsqu'on augmente la taille de la matrice. Il n'est pas du tout pratique d'utiliser cette méthode mais plutot d'autres techniques de decomposition nettement plus rapides qui auront un temp plus linéaire à la tâche à accomplir"
   ]
  },
  {
   "cell_type": "code",
   "execution_count": null,
   "metadata": {},
   "outputs": [],
   "source": [
    "sizes = [10,25,50,100,200] # avec 10000 ca prend trop longtemp, 42s cossomant 4gb de RAM et 100% du processeur\n",
    "#on teste les tailles différentes\n",
    "for size in sizes:\n",
    "    A1 = np.random.randint(3,size=(size, size))\n",
    "    print(\"taille de\",size ,\"inversion\")\n",
    "    %timeit -n 1 np.linalg.inv(A1)\n",
    "    "
   ]
  },
  {
   "cell_type": "markdown",
   "metadata": {},
   "source": [
    "lorsqu'on passe d'une matrice de taille 1000 à 10000, le temps d'inversion passe de 240 ms à 42s! tout cela en cossomant beaucoup de mémoire (presque 4Gb de RAM) et 100% du processeur\n",
    "\n",
    "# Test des autre méthodes\n",
    "voici un test des autres méthodes de résolution afin de comparer avec l'inversion d'une matrice vu ci dessus.\n",
    "\n",
    "1) decomp lu"
   ]
  },
  {
   "cell_type": "code",
   "execution_count": null,
   "metadata": {},
   "outputs": [],
   "source": [
    "sizes = [10,25,50,100,200]\n",
    "#on teste les tailles différentes\n",
    "for size in sizes:\n",
    "    print(\"taille de\",size)\n",
    "    A1 = np.random.randint(3,size=(size, size))\n",
    "    print(\"decomp\")\n",
    "    %timeit -n 1 lg.lu(A1)\n",
    "    "
   ]
  },
  {
   "cell_type": "markdown",
   "metadata": {},
   "source": [
    "2) Pivot de gauss"
   ]
  },
  {
   "cell_type": "code",
   "execution_count": null,
   "metadata": {},
   "outputs": [],
   "source": [
    "sizes = [10,25,50,100,200]\n",
    "#on teste les tailles différentes\n",
    "for size in sizes:\n",
    "    print(\"taille de\",size)\n",
    "    A1 = np.random.randint(3,size=(size, size))\n",
    "    b1 = np.random.randint(3,size=(size))\n",
    "    print(\"decomp\")\n",
    "   # %timeit -n 1 gauss(A1,b1)"
   ]
  },
  {
   "cell_type": "markdown",
   "metadata": {},
   "source": [
    "## 5 Aller plus loin\n",
    "\n",
    "### Décomposition de Cholesky \n",
    "\n",
    "La méthode de cholesky permet de factoriser une matric A __Symétrique définie positive__ sous la forme $ A=CC^T$ où C est une matrice triangulaire inférieure inversible\n",
    "\n"
   ]
  },
  {
   "cell_type": "code",
   "execution_count": null,
   "metadata": {},
   "outputs": [],
   "source": [
    "A = np.array([[15.0,10.0,18.0,12.0],\n",
    "              [10.0,15.0,7.0 ,13.0],\n",
    "              [18.0,7.0 ,27.0,7.0 ],\n",
    "              [12.0,13.0,7.0 ,22.0]])\n",
    "\n"
   ]
  },
  {
   "cell_type": "markdown",
   "metadata": {},
   "source": [
    "#### Calculer la matrice C, est ce que A est définie positive\n",
    "\n",
    "$l_{kk} = \\sqrt{ a_{kk} - \\sum^{k-1}_{j=1} l^2_{kj}}$ \n",
    "\n",
    "$ l_{ik} = \\frac{1}{l_{kk}} \\left( a_{ik} - \\sum^{k-1}_{j=1} l_{ij} l_{kj} \\right) $"
   ]
  },
  {
   "cell_type": "code",
   "execution_count": null,
   "metadata": {},
   "outputs": [],
   "source": [
    "from math import sqrt\n",
    "\n",
    "def cholesky(A):\n",
    "    \"\"\" calcule la matrice C correspondant à la \n",
    "        décomposition de cholesky d'une matrice A\n",
    "        A doit etre une matrice symétrique positive définie\n",
    "    \"\"\"\n",
    "    n = A.shape[0]\n",
    "    \n",
    "    C = np.zeros((n,n))\n",
    "    \n",
    "    C[0,0] = sqrt(A[0,0])\n",
    "    \n",
    "    C[1:,0] = A[1:,0] / C[0,0]\n",
    "    \n",
    "    \n",
    "    \n",
    "    for j in range(1,n):\n",
    "        for i in range(j+1):\n",
    "            \n",
    "            tmp_sum = np.sum(np.multiply(C[i,:i],C[j,:i]))\n",
    "            \n",
    "            \n",
    "            #diagonal coefs\n",
    "            if i == j:\n",
    "                C[j,i] = sqrt( (A[i,j] - tmp_sum ) ) # j > 1\n",
    "            else:\n",
    "            #other\n",
    "                C[j,i] = (A[i,j] - tmp_sum ) / (C[i,i])\n",
    "            \n",
    "            \n",
    "    return C\n",
    "            \n",
    "C = cholesky(A)\n",
    "\n",
    "C"
   ]
  },
  {
   "cell_type": "code",
   "execution_count": null,
   "metadata": {},
   "outputs": [],
   "source": [
    "Cl = np.linalg.cholesky(A)\n",
    "Cl"
   ]
  },
  {
   "cell_type": "code",
   "execution_count": null,
   "metadata": {},
   "outputs": [],
   "source": [
    "np.dot(C,np.transpose(C)) #this gives us A"
   ]
  },
  {
   "cell_type": "markdown",
   "metadata": {},
   "source": [
    "### Est ce que A est définie positive\n",
    "Par définition, A est dite définie positive si toutes ses valeurs propres sont strictement positives, puisque il n'est pas forcément facile de calculer les valeurs propres on peut utiliser la condition de Sylvester qui consiste à regarder les mienurs principaux de la matrice et de s'assurer que ces derniers sont tous strictement positifs.\n",
    "\n",
    "Les mineurs principaux correspondent aux déterminants de la matrice tronqué.\n",
    "\n",
    "\n",
    "par def la decomp cholesky nous donne une matrice C qui est définie par la relation $A= CC^T$\n",
    "\n",
    "On peut tenter de trouver la solution du système suivant : $Ax = b$"
   ]
  },
  {
   "cell_type": "code",
   "execution_count": null,
   "metadata": {},
   "outputs": [],
   "source": [
    "b = np.array([53.0,72.0,26.0,97.0])\n",
    "\n",
    "y1 = triang_inf(C,b)"
   ]
  },
  {
   "cell_type": "code",
   "execution_count": null,
   "metadata": {},
   "outputs": [],
   "source": [
    "y1"
   ]
  },
  {
   "cell_type": "code",
   "execution_count": null,
   "metadata": {},
   "outputs": [],
   "source": [
    "np.dot(C,y1) #should give us b"
   ]
  },
  {
   "cell_type": "code",
   "execution_count": null,
   "metadata": {},
   "outputs": [],
   "source": [
    "x1 = triang_sup(np.transpose(C),y1)\n",
    "\n",
    "x1"
   ]
  },
  {
   "cell_type": "code",
   "execution_count": null,
   "metadata": {},
   "outputs": [],
   "source": [
    "np.linalg.solve(A,b)"
   ]
  },
  {
   "cell_type": "code",
   "execution_count": null,
   "metadata": {},
   "outputs": [],
   "source": [
    "np.dot(A,x1)"
   ]
  },
  {
   "cell_type": "markdown",
   "metadata": {},
   "source": [
    "## Decomposition de Ritchmayer"
   ]
  },
  {
   "cell_type": "code",
   "execution_count": null,
   "metadata": {},
   "outputs": [],
   "source": [
    "from scipy.sparse import diags\n",
    "\n",
    "# Générons une matrice tridiagonale\n",
    "a = [1, 2, 1, 2]\n",
    "b = [2, 3, 1, 1, 1]\n",
    "c = [3, 1, 2, 1]\n",
    "\n",
    "A = diags([a, b, c], [-1, 0, 1], shape=(5, 5), dtype=int).toarray() #genere la matrice trigiagonale\n",
    "print(A)\n",
    "\n",
    "# Générons un vecteur u\n",
    "u = np.array([-1, 0, 0, 3, 1])\n",
    "print(u)"
   ]
  },
  {
   "cell_type": "code",
   "execution_count": null,
   "metadata": {},
   "outputs": [],
   "source": [
    "def rich(a, b, c, u):\n",
    "    \"\"\"\n",
    "        Exécute l'algorithme de Richtmayer et retourne le vecteur x, solution de l'équation Ax = u, avec A\n",
    "        une matrice tridiagonale.\n",
    "    \"\"\"\n",
    "    n = len(b)\n",
    "    e = [0, 0, 0, 0, 0]\n",
    "    f = [0, 0, 0, 0, 0]\n",
    "    x = [0, 0, 0, 0, 0]\n",
    "    \n",
    "    e[0] = -c[0] / b[0]\n",
    "    f[0] = u[0] / b[0]\n",
    "    \n",
    "    for i in range(1, n - 1):\n",
    "        e[i] = -c[i] / (a[i - 1] * e[i - 1] + b[i])\n",
    "        \n",
    "    for i in range(1, n):\n",
    "        f[i] = (u[i] - a[i - 1] * f[i - 1]) / (a[i - 1] * e[i - 1] + b[i])\n",
    "        \n",
    "    x[n - 1] = f[n - 1]\n",
    "    for i in range(n - 2, -1, -1):\n",
    "        x[i] = e[i] * x[i + 1] + f[i]\n",
    "        \n",
    "    return x\n",
    "\n",
    "# On exécute l'algo et on convertit les résultats en int\n",
    "xr = [int(i) for i in rich(a, b, c, u)]"
   ]
  },
  {
   "cell_type": "code",
   "execution_count": null,
   "metadata": {},
   "outputs": [],
   "source": [
    "np.dot(A,xr)"
   ]
  },
  {
   "cell_type": "code",
   "execution_count": null,
   "metadata": {},
   "outputs": [],
   "source": [
    "x_sol = np.linalg.solve(A, u)"
   ]
  },
  {
   "cell_type": "code",
   "execution_count": null,
   "metadata": {},
   "outputs": [],
   "source": [
    "np.dot(A,x_sol)"
   ]
  }
 ],
 "metadata": {
  "kernelspec": {
   "display_name": "Python 3",
   "language": "python",
   "name": "python3"
  },
  "language_info": {
   "codemirror_mode": {
    "name": "ipython",
    "version": 3
   },
   "file_extension": ".py",
   "mimetype": "text/x-python",
   "name": "python",
   "nbconvert_exporter": "python",
   "pygments_lexer": "ipython3",
   "version": "3.6.8"
  }
 },
 "nbformat": 4,
 "nbformat_minor": 2
}
