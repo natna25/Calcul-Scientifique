{
 "cells": [
  {
   "cell_type": "markdown",
   "metadata": {},
   "source": [
    "## Imports"
   ]
  },
  {
   "cell_type": "code",
   "execution_count": 43,
   "metadata": {},
   "outputs": [],
   "source": [
    "import numpy as np\n",
    "from math import sqrt\n",
    "from scipy import linalg as lg"
   ]
  },
  {
   "cell_type": "markdown",
   "metadata": {},
   "source": [
    "## Gauss-Seidel\n",
    "a."
   ]
  },
  {
   "cell_type": "code",
   "execution_count": 25,
   "metadata": {},
   "outputs": [],
   "source": [
    "def gaussseidel(A, b, N, eps, x0):\n",
    "    \"\"\"\n",
    "        Compute the Gauss-Seidel algorithm to resolve the equation Ax = b.\n",
    "        \n",
    "        Parameters:\n",
    "            A: matrix A\n",
    "            b: vector b\n",
    "            N: maximum number if iterations\n",
    "            eps: precision used to stop the test\n",
    "            x0: initial vector to start the algorithm\n",
    "            \n",
    "        Returns:\n",
    "            If the algorithm converges:\n",
    "                x: found solution\n",
    "                i: number of iterations to converge\n",
    "            Else:\n",
    "                None\n",
    "    \"\"\"\n",
    "    n = A.shape[0]\n",
    "    \n",
    "    for i in range(N):\n",
    "        x = np.zeros(b.shape)\n",
    "        \n",
    "        for k in range(n):\n",
    "            x[k] = (b[k] - np.sum(np.multiply(A[k,:k], x0[:k])) - np.sum(np.multiply(A[k,k + 1:], x0[k + 1:]))) / A[k, k]\n",
    "        \n",
    "        if np.linalg.norm(x - x0) / np.linalg.norm(x) < eps:\n",
    "            return x, i + 1\n",
    "        \n",
    "        x0 = x\n",
    "    \n",
    "    print('Error: the Algorithm couldn\\'t converge.')\n",
    "    return None, None"
   ]
  },
  {
   "cell_type": "code",
   "execution_count": 9,
   "metadata": {},
   "outputs": [
    {
     "name": "stdout",
     "output_type": "stream",
     "text": [
      "[[3 1 0 0 0 0 0 0 0 0]\n",
      " [1 3 1 0 0 0 0 0 0 0]\n",
      " [0 1 3 1 0 0 0 0 0 0]\n",
      " [0 0 1 3 1 0 0 0 0 0]\n",
      " [0 0 0 1 3 1 0 0 0 0]\n",
      " [0 0 0 0 1 3 1 0 0 0]\n",
      " [0 0 0 0 0 1 3 1 0 0]\n",
      " [0 0 0 0 0 0 1 3 1 0]\n",
      " [0 0 0 0 0 0 0 1 3 1]\n",
      " [0 0 0 0 0 0 0 0 1 3]]\n"
     ]
    },
    {
     "data": {
      "text/plain": [
       "array([1, 1, 1, 1, 1, 1, 1, 1, 1, 1])"
      ]
     },
     "execution_count": 9,
     "metadata": {},
     "output_type": "execute_result"
    }
   ],
   "source": [
    "from scipy.sparse import diags\n",
    "\n",
    "# Generate A and b\n",
    "A = diags([1, 3, 1], [-1, 0, 1], shape=(10, 10), dtype=int).toarray()\n",
    "print(A)\n",
    "\n",
    "b = np.array([1, ] * 10)\n",
    "b"
   ]
  },
  {
   "cell_type": "markdown",
   "metadata": {},
   "source": [
    "b.(i): Pour que la méthode de Gauss-Seidel converge, il faut que A soit symétrique définie positive. \n",
    "\n",
    "A est symétrique, car tridiagonale.\n",
    "Pour qu'elle soit définie positive, il faut que toutes ses valeurs propres soient strictement positives. Vérifions cela avec la fonction `eig` de la libraire numpy."
   ]
  },
  {
   "cell_type": "code",
   "execution_count": 30,
   "metadata": {},
   "outputs": [
    {
     "data": {
      "text/plain": [
       "array([1.08101405, 1.31749293, 1.69027853, 2.16916997, 2.71537032,\n",
       "       3.28462968, 4.91898595, 4.68250707, 4.30972147, 3.83083003])"
      ]
     },
     "execution_count": 30,
     "metadata": {},
     "output_type": "execute_result"
    }
   ],
   "source": [
    "eig, _ = np.linalg.eig(A)\n",
    "eig"
   ]
  },
  {
   "cell_type": "markdown",
   "metadata": {},
   "source": [
    "Elles sont bien toutes strictement positives. On peut donc utiliser la méthode de Gauss-Seidel.\n",
    "\n",
    "b.(ii):"
   ]
  },
  {
   "cell_type": "code",
   "execution_count": 27,
   "metadata": {},
   "outputs": [
    {
     "name": "stdout",
     "output_type": "stream",
     "text": [
      "The solution is [0.27638191 0.17085427 0.21105528 0.1959799  0.20100503 0.20100503\n",
      " 0.1959799  0.21105528 0.17085427 0.27638191], number of iterations is 52\n"
     ]
    }
   ],
   "source": [
    "x, i = gaussseidel(A, b, 500, 1e-9, b)\n",
    "print(f'The solution is {x}, number of iterations is {i}')"
   ]
  },
  {
   "cell_type": "code",
   "execution_count": 28,
   "metadata": {},
   "outputs": [
    {
     "data": {
      "text/plain": [
       "array([1., 1., 1., 1., 1., 1., 1., 1., 1., 1.])"
      ]
     },
     "execution_count": 28,
     "metadata": {},
     "output_type": "execute_result"
    }
   ],
   "source": [
    "np.dot(A, x)"
   ]
  },
  {
   "cell_type": "markdown",
   "metadata": {},
   "source": [
    "On trouve la bonne solution. Essayons avec la méthode de Cholesky, avec les fonctions du TP1 :"
   ]
  },
  {
   "cell_type": "code",
   "execution_count": 41,
   "metadata": {},
   "outputs": [
    {
     "data": {
      "text/plain": [
       "array([[0.27638191],\n",
       "       [0.17085427],\n",
       "       [0.21105528],\n",
       "       [0.1959799 ],\n",
       "       [0.20100503],\n",
       "       [0.20100503],\n",
       "       [0.1959799 ],\n",
       "       [0.21105528],\n",
       "       [0.17085427],\n",
       "       [0.27638191]])"
      ]
     },
     "execution_count": 41,
     "metadata": {},
     "output_type": "execute_result"
    }
   ],
   "source": [
    "def triang_inf(T,b):\n",
    "    \"\"\"calcule x selon l'équation Tx=b avec T une matrice triangulaire inférieure et b un vecteur connu\n",
    "    Return:\n",
    "        x: vecteur solution de l'équation\n",
    "    \"\"\"\n",
    "    n = T.shape[0]\n",
    "    x = np.zeros((n, 1))\n",
    "\n",
    "    for k in range(n):\n",
    "        x[k] = (b[k] - np.sum(np.multiply(T[k], np.transpose(x)))) / T[k,k]\n",
    "    \n",
    "    return x\n",
    "\n",
    "def triang_sup(T,b):\n",
    "    \"\"\"calcule x selon l'équation Tx=b avec T une matrice triangulaire supérieure et b un vecteur connu\n",
    "    Return:\n",
    "        x: vecteur solution de l'équation\n",
    "    \"\"\"\n",
    "    n = T.shape[0]\n",
    "    x = np.zeros((n, 1))\n",
    "\n",
    "    for k in range(n - 1 , -1, -1):\n",
    "        x[k] = (b[k] - np.sum(np.multiply(T[k], np.transpose(x)))) / T[k,k]\n",
    "    \n",
    "    return x\n",
    "\n",
    "def cholesky(A):\n",
    "    \"\"\" calcule la matrice C correspondant à la \n",
    "        décomposition de cholesky d'une matrice A\n",
    "        A doit etre une matrice symétrique positive définie\n",
    "    \"\"\"\n",
    "    n = A.shape[0]\n",
    "    C = np.zeros((n,n))\n",
    "    \n",
    "    C[0,0] = sqrt(A[0,0])\n",
    "    C[1:,0] = A[1:,0] / C[0,0]\n",
    "    \n",
    "    for j in range(1,n):\n",
    "        for i in range(j+1):\n",
    "            tmp_sum = np.sum(np.multiply(C[i,:i],C[j,:i]))\n",
    "            \n",
    "            #diagonal coefs\n",
    "            if i == j:\n",
    "                C[j,i] = sqrt( (A[i,j] - tmp_sum ) ) # j > 1\n",
    "            else:\n",
    "            #other\n",
    "                C[j,i] = (A[i,j] - tmp_sum ) / (C[i,i])  \n",
    "    return C\n",
    "\n",
    "C = cholesky(A)\n",
    "\n",
    "y = triang_inf(C, b)\n",
    "\n",
    "x = triang_sup(np.transpose(C), y)\n",
    "x"
   ]
  },
  {
   "cell_type": "code",
   "execution_count": 42,
   "metadata": {},
   "outputs": [
    {
     "data": {
      "text/plain": [
       "array([[1.],\n",
       "       [1.],\n",
       "       [1.],\n",
       "       [1.],\n",
       "       [1.],\n",
       "       [1.],\n",
       "       [1.],\n",
       "       [1.],\n",
       "       [1.],\n",
       "       [1.]])"
      ]
     },
     "execution_count": 42,
     "metadata": {},
     "output_type": "execute_result"
    }
   ],
   "source": [
    "np.dot(A, x)"
   ]
  },
  {
   "cell_type": "markdown",
   "metadata": {},
   "source": [
    "On trouve la même solution.\n",
    "\n",
    "c. Essayons trois méthodes de résolution : avec la décomp LU, Cholesky et Gauss-Seidel. Regardons le temps pris par chaque méthode et comparons."
   ]
  },
  {
   "cell_type": "code",
   "execution_count": 61,
   "metadata": {},
   "outputs": [],
   "source": [
    "def decomp_lu(A):\n",
    "    \"\"\" Calcule la décomposition LU d'une matrice carré inversible A\n",
    "    \"\"\"\n",
    "    n = A.shape[0]\n",
    "    \n",
    "    L = np.zeros((n,n))\n",
    "    U = np.zeros((n,n))\n",
    "    \n",
    "    # 1ere ligne de U = 1ere ligne de A\n",
    "    U[0] = A[0]\n",
    "        \n",
    "    # 1ere colonne de L = 1ere colonne de A\n",
    "    L[:,0] = A[:,0] / U[0,0]\n",
    "    \n",
    "    for i in range(1, n):\n",
    "        L[i,i] = 1\n",
    "        U[i,i] = A[i,i] - np.sum(np.multiply(L[i,:i], U[:i,i]))\n",
    "        \n",
    "        for j in range(i + 1, n):\n",
    "            U[i,j] = A[i,j] - np.sum(np.multiply(L[i,:i], U[:i,j]))\n",
    "            L[j,i] = (A[j,i] - np.sum(np.multiply(L[j,:i], U[:i,i]))) / U[i,i]\n",
    "        \n",
    "    return L,U\n",
    "\n",
    "def res_LU(A, b):\n",
    "    \"\"\" Resolution of Ax = b with the decomp LU method. \"\"\"\n",
    "    L, U = decomp_lu(A)\n",
    "    \n",
    "    # Triang inf to resolve Ly = b\n",
    "    y = triang_inf(L, b)\n",
    "    \n",
    "    # Triang sup to resolve Ux = y\n",
    "    x = triang_sup(U, y)\n",
    "    \n",
    "    return x\n",
    "\n",
    "def res_Chol(A, b):\n",
    "    \"\"\" Resolution of Ax = b with Cholesky's method. \"\"\"\n",
    "    C = cholesky(A)\n",
    "\n",
    "    y = triang_inf(C, b)\n",
    "\n",
    "    x = triang_sup(np.transpose(C), y)\n",
    "    \n",
    "    return x"
   ]
  },
  {
   "cell_type": "code",
   "execution_count": 62,
   "metadata": {},
   "outputs": [
    {
     "name": "stdout",
     "output_type": "stream",
     "text": [
      "1.79 ms ± 8.63 µs per loop (mean ± std. dev. of 7 runs, 1000 loops each)\n"
     ]
    }
   ],
   "source": [
    "%timeit res_LU(A, b)"
   ]
  },
  {
   "cell_type": "code",
   "execution_count": 55,
   "metadata": {},
   "outputs": [
    {
     "name": "stdout",
     "output_type": "stream",
     "text": [
      "1.32 ms ± 21.6 µs per loop (mean ± std. dev. of 7 runs, 1000 loops each)\n"
     ]
    }
   ],
   "source": [
    "%timeit res_Chol(A, b)"
   ]
  },
  {
   "cell_type": "code",
   "execution_count": 58,
   "metadata": {},
   "outputs": [
    {
     "name": "stdout",
     "output_type": "stream",
     "text": [
      "6.28 ms ± 59.8 µs per loop (mean ± std. dev. of 7 runs, 100 loops each)\n"
     ]
    }
   ],
   "source": [
    "%timeit gaussseidel(A, b, 500, 1e-3, b)"
   ]
  },
  {
   "cell_type": "markdown",
   "metadata": {},
   "source": [
    "La magic function `%timeit` nous permet de mesurer le temps pris en moyenne par chaque fonction.\n",
    "\n",
    "On voit que la plus rapide est la méthode de Choleski. Cependant, si on augmente la taille de la matrice A, Gauss-Seidel devrait être plus rapide."
   ]
  },
  {
   "cell_type": "code",
   "execution_count": 67,
   "metadata": {},
   "outputs": [],
   "source": [
    "# Generate A and b\n",
    "n = 100\n",
    "A = diags([1, 3, 1], [-1, 0, 1], shape=(100, 100), dtype=int).toarray()\n",
    "\n",
    "b = np.array([1, ] * 100)"
   ]
  },
  {
   "cell_type": "code",
   "execution_count": 68,
   "metadata": {},
   "outputs": [
    {
     "name": "stdout",
     "output_type": "stream",
     "text": [
      "171 ms ± 905 µs per loop (mean ± std. dev. of 7 runs, 10 loops each)\n"
     ]
    }
   ],
   "source": [
    "%timeit res_LU(A, b)"
   ]
  },
  {
   "cell_type": "code",
   "execution_count": 69,
   "metadata": {},
   "outputs": [
    {
     "name": "stdout",
     "output_type": "stream",
     "text": [
      "86.8 ms ± 7.4 ms per loop (mean ± std. dev. of 7 runs, 10 loops each)\n"
     ]
    }
   ],
   "source": [
    "%timeit res_Chol(A, b)"
   ]
  },
  {
   "cell_type": "code",
   "execution_count": 70,
   "metadata": {},
   "outputs": [
    {
     "name": "stdout",
     "output_type": "stream",
     "text": [
      "64.8 ms ± 792 µs per loop (mean ± std. dev. of 7 runs, 10 loops each)\n"
     ]
    }
   ],
   "source": [
    "%timeit gaussseidel(A, b, 500, 1e-3, b)"
   ]
  },
  {
   "cell_type": "markdown",
   "metadata": {},
   "source": [
    "En augmentant la dimension de la matrice A à 100x100, on voit bien que la méthode indirecte est plus rapide."
   ]
  }
 ],
 "metadata": {
  "kernelspec": {
   "display_name": "Python 3",
   "language": "python",
   "name": "python3"
  },
  "language_info": {
   "codemirror_mode": {
    "name": "ipython",
    "version": 3
   },
   "file_extension": ".py",
   "mimetype": "text/x-python",
   "name": "python",
   "nbconvert_exporter": "python",
   "pygments_lexer": "ipython3",
   "version": "3.6.8"
  }
 },
 "nbformat": 4,
 "nbformat_minor": 2
}
