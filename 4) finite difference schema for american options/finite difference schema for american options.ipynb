{
 "cells": [
  {
   "cell_type": "markdown",
   "metadata": {},
   "source": [
    "Imports"
   ]
  },
  {
   "cell_type": "code",
   "execution_count": 24,
   "metadata": {},
   "outputs": [],
   "source": [
    "import numpy as np\n",
    "\n",
    "from scipy.sparse import diags"
   ]
  },
  {
   "cell_type": "markdown",
   "metadata": {},
   "source": [
    "Paramètres financiers"
   ]
  },
  {
   "cell_type": "code",
   "execution_count": 8,
   "metadata": {},
   "outputs": [],
   "source": [
    "S = 50 # Valeur du sous-jacent\n",
    "K = 50 # Strike\n",
    "r = 0.05 # Taux d'intérêt sans risque\n",
    "sigma = 0.2 # Volatilité\n",
    "T = 3 # Maturité"
   ]
  },
  {
   "cell_type": "markdown",
   "metadata": {},
   "source": [
    "Paramètres numériques"
   ]
  },
  {
   "cell_type": "code",
   "execution_count": 9,
   "metadata": {},
   "outputs": [],
   "source": [
    "M = 80 # Nombre  de points de maillage d'actifs\n",
    "N = 200 # Nombre de points de maillage en temps\n",
    "# Valuers extrêmes\n",
    "Szero = 0\n",
    "Smax = 150\n",
    "# Paramètres SOR\n",
    "omega = 1.2\n",
    "tol = 0.001"
   ]
  },
  {
   "cell_type": "markdown",
   "metadata": {},
   "source": [
    "Initialisation du maillage et de la matrice du système linéaire"
   ]
  },
  {
   "cell_type": "code",
   "execution_count": 23,
   "metadata": {},
   "outputs": [],
   "source": [
    "sol = np.zeros((N + 1, M + 1)) # Solution\n",
    "\n",
    "# Step\n",
    "dS = Smax / M\n",
    "dt = T / N\n",
    "\n",
    "# Mesh\n",
    "Smesh = np.arange(0, Smax + 1, dS)\n",
    "Tmesh = np.arange(T, -1e-10, -dt)\n",
    "\n",
    "# Payoff\n",
    "sol[0, :] = np.array([np.maximum(K - Smesh[t], 0) for t in range(Smesh.shape[0])])\n",
    "\n",
    "# Limit condition for S = 0\n",
    "sol[:, 0] = K * np.exp(-r * (T - Tmesh)) \n",
    "# Limit condition for S = M\n",
    "sol[:, M] = 0 \n",
    "\n",
    "i = np.arange(1,M+1)\n",
    "A = 0.5 * dt * (r * i - sigma**2 * i**2)\n",
    "B = 1 + (sigma**2 * i**2 + r) * dt\n",
    "C = -0.5 * dt *(sigma**2 * i**2 + r * i)"
   ]
  },
  {
   "cell_type": "markdown",
   "metadata": {},
   "source": [
    "Construction de la matrice tri-diagonale et son inverse"
   ]
  },
  {
   "cell_type": "code",
   "execution_count": 32,
   "metadata": {},
   "outputs": [],
   "source": [
    "Acoeffs = np.zeros((M))\n",
    "Bcoeffs = np.zeros((M))\n",
    "Ccoeffs = np.zeros((M))\n",
    "\n",
    "for i in range(M):\n",
    "    Acoeffs[i] = A[i-1]\n",
    "    Bcoeffs[i] = B[i-1]\n",
    "    Ccoeffs[i] = C[i-1]\n",
    "    \n",
    "Tri = diags([Acoeffs[2:], Bcoeffs[1:], Ccoeffs[1:-1]], [-1, 0, 1], shape=(M - 1, M - 1), dtype=float).toarray()\n",
    "\n",
    "Tri_inv =  np.linalg.inv(Tri)"
   ]
  },
  {
   "cell_type": "markdown",
   "metadata": {},
   "source": [
    "Boucle en temps et schéma implicite + itération SOR"
   ]
  },
  {
   "cell_type": "code",
   "execution_count": 35,
   "metadata": {},
   "outputs": [
    {
     "data": {
      "text/plain": [
       "array([[5.00000000e+01, 4.81250000e+01, 4.62500000e+01, ...,\n",
       "        3.44922946e-25, 0.00000000e+00, 0.00000000e+00],\n",
       "       [4.99625141e+01, 0.00000000e+00, 0.00000000e+00, ...,\n",
       "        0.00000000e+00, 0.00000000e+00, 0.00000000e+00],\n",
       "       [4.99250562e+01, 0.00000000e+00, 0.00000000e+00, ...,\n",
       "        0.00000000e+00, 0.00000000e+00, 0.00000000e+00],\n",
       "       ...,\n",
       "       [4.31000004e+01, 0.00000000e+00, 0.00000000e+00, ...,\n",
       "        0.00000000e+00, 0.00000000e+00, 0.00000000e+00],\n",
       "       [4.30676875e+01, 0.00000000e+00, 0.00000000e+00, ...,\n",
       "        0.00000000e+00, 0.00000000e+00, 0.00000000e+00],\n",
       "       [4.30353988e+01, 0.00000000e+00, 0.00000000e+00, ...,\n",
       "        0.00000000e+00, 0.00000000e+00, 0.00000000e+00]])"
      ]
     },
     "execution_count": 35,
     "metadata": {},
     "output_type": "execute_result"
    }
   ],
   "source": [
    "for p in range(N):\n",
    "    temp = np.zeros((M - 1))\n",
    "    temp[0] = A[0] * sol[p + 1, 0]\n",
    "    temp[-1] = C[M - 1] * sol[p + 1, -1]\n",
    "    \n",
    "    RHS = sol[p, 1:M].T - temp\n",
    "    \n",
    "    x = sol[p, 1:M - 1].T\n",
    "    xold = 10000 * x\n",
    "    n = len(x)\n",
    "    \n",
    "    while np.linalg.norm(xold - x) > tol:\n",
    "        xold = x\n",
    "        \n",
    "        for i in range(n):\n",
    "            if i == 0:\n",
    "                z = (RHS[i] - Tri[i, i + 1] * x[i + 1]) / Tri[i, i]\n",
    "            elif i == n - 1:\n",
    "                z = (RHS[i] - Tri[i, i - 1] * x[i - 1]) / Tri[i, i]\n",
    "            else:\n",
    "                z = (RHS[i] - Tri[i, i - 1] * x[i - 1] - Tri[i, i + 1] * x[i + 1]) / Tri[i, i]\n",
    "            x[i] = np.maximum(omega * z + (1 - omega) * xold[i], K - (i + 1) * dS)\n",
    "    \n",
    "    sol[p + 1, 1:-2]\n",
    "    \n",
    "sol"
   ]
  },
  {
   "cell_type": "code",
   "execution_count": null,
   "metadata": {},
   "outputs": [],
   "source": []
  }
 ],
 "metadata": {
  "kernelspec": {
   "display_name": "Python 3",
   "language": "python",
   "name": "python3"
  },
  "language_info": {
   "codemirror_mode": {
    "name": "ipython",
    "version": 3
   },
   "file_extension": ".py",
   "mimetype": "text/x-python",
   "name": "python",
   "nbconvert_exporter": "python",
   "pygments_lexer": "ipython3",
   "version": "3.7.4"
  }
 },
 "nbformat": 4,
 "nbformat_minor": 2
}
