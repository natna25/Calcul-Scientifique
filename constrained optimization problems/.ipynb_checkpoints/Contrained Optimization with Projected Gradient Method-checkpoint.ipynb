{
 "cells": [
  {
   "cell_type": "code",
   "execution_count": 55,
   "metadata": {},
   "outputs": [],
   "source": [
    "import numpy as np\n",
    "import matplotlib.pyplot as plt"
   ]
  },
  {
   "cell_type": "code",
   "execution_count": 90,
   "metadata": {},
   "outputs": [
    {
     "name": "stdout",
     "output_type": "stream",
     "text": [
      "[[ 20402. -10201.      0. ...      0.      0.      0.]\n",
      " [-10201.  20402. -10201. ...      0.      0.      0.]\n",
      " [     0. -10201.  20402. ...      0.      0.      0.]\n",
      " ...\n",
      " [     0.      0.      0. ...  20402. -10201.      0.]\n",
      " [     0.      0.      0. ... -10201.  20402. -10201.]\n",
      " [     0.      0.      0. ...      0. -10201.  20402.]]\n"
     ]
    },
    {
     "data": {
      "text/plain": [
       "array([-8, -8, -8, -8, -8, -8, -8, -8, -8, -8, -8, -8, -8, -8, -8, -8, -8,\n",
       "       -8, -8, -8, -8, -8, -8, -8, -8, -8, -8, -8, -8, -8, -8, -8, -8, -8,\n",
       "       -8, -8, -8, -8, -8, -8, -8, -8, -8, -8, -8, -8, -8, -8, -8, -8, -8,\n",
       "       -8, -8, -8, -8, -8, -8, -8, -8, -8, -8, -8, -8, -8, -8, -8, -8, -8,\n",
       "       -8, -8, -8, -8, -8, -8, -8, -8, -8, -8, -8, -8, -8, -8, -8, -8, -8,\n",
       "       -8, -8, -8, -8, -8, -8, -8, -8, -8, -8, -8, -8, -8, -8, -8])"
      ]
     },
     "execution_count": 90,
     "metadata": {},
     "output_type": "execute_result"
    }
   ],
   "source": [
    "from scipy.sparse import diags\n",
    "\n",
    "# Generate A and b\n",
    "N = 100\n",
    "h = 1/(N+1)\n",
    "\n",
    "A = (1/h**2) * diags([-1, 2, -1], [-1, 0, 1], shape=(N, N), dtype=int).toarray()\n",
    "print(A)\n",
    "\n",
    "b = np.array([-8, ] * N)\n",
    "b"
   ]
  },
  {
   "cell_type": "code",
   "execution_count": 91,
   "metadata": {},
   "outputs": [],
   "source": [
    "def j(A,b,x):\n",
    "    \n",
    "    return (  ( (1/2) * np.dot(x,np.dot(A,x)) ) - np.dot(b,x) )"
   ]
  },
  {
   "cell_type": "code",
   "execution_count": 92,
   "metadata": {},
   "outputs": [],
   "source": [
    "def grad_j(A,b,x):\n",
    "    return np.dot(A,x) - b"
   ]
  },
  {
   "cell_type": "code",
   "execution_count": 93,
   "metadata": {},
   "outputs": [],
   "source": [
    "def g_i(i,h):\n",
    "    \n",
    "    t_i = i*h\n",
    "    \n",
    "    val = -10*((t_i-0.4)**2) + 0.625\n",
    "    \n",
    "    return -1 + np.maximum(0,val)"
   ]
  },
  {
   "cell_type": "code",
   "execution_count": 94,
   "metadata": {},
   "outputs": [
    {
     "name": "stdout",
     "output_type": "stream",
     "text": [
      "11001.0\n"
     ]
    },
    {
     "data": {
      "text/plain": [
       "(100,)"
      ]
     },
     "execution_count": 94,
     "metadata": {},
     "output_type": "execute_result"
    }
   ],
   "source": [
    "x = np.ones((N,))\n",
    "\n",
    "print(j(A,b,x) )\n",
    "grad_j(A,b,x).shape"
   ]
  },
  {
   "cell_type": "code",
   "execution_count": 95,
   "metadata": {},
   "outputs": [
    {
     "data": {
      "text/plain": [
       "array([-1.        , -1.        , -1.        , -1.        , -1.        ,\n",
       "       -1.        , -1.        , -1.        , -1.        , -1.        ,\n",
       "       -1.        , -1.        , -1.        , -1.        , -1.        ,\n",
       "       -0.95862906, -0.9117709 , -0.86687335, -0.82393638, -0.78296   ,\n",
       "       -0.74394422, -0.70688903, -0.67179443, -0.63866043, -0.60748701,\n",
       "       -0.57827419, -0.55102196, -0.52573032, -0.50239927, -0.48102882,\n",
       "       -0.46161896, -0.44416969, -0.42868101, -0.41515293, -0.40358543,\n",
       "       -0.39397853, -0.38633222, -0.38064651, -0.37692138, -0.37515685,\n",
       "       -0.37535291, -0.37750956, -0.3816268 , -0.38770464, -0.39574306,\n",
       "       -0.40574208, -0.4177017 , -0.4316219 , -0.4475027 , -0.46534408,\n",
       "       -0.48514606, -0.50690864, -0.5306318 , -0.55631556, -0.58395991,\n",
       "       -0.61356485, -0.64513038, -0.6786565 , -0.71414322, -0.75159053,\n",
       "       -0.79099843, -0.83236692, -0.87569601, -0.92098569, -0.96823596,\n",
       "       -1.        , -1.        , -1.        , -1.        , -1.        ,\n",
       "       -1.        , -1.        , -1.        , -1.        , -1.        ,\n",
       "       -1.        , -1.        , -1.        , -1.        , -1.        ,\n",
       "       -1.        , -1.        , -1.        , -1.        , -1.        ,\n",
       "       -1.        , -1.        , -1.        , -1.        , -1.        ,\n",
       "       -1.        , -1.        , -1.        , -1.        , -1.        ,\n",
       "       -1.        , -1.        , -1.        , -1.        , -1.        ])"
      ]
     },
     "execution_count": 95,
     "metadata": {},
     "output_type": "execute_result"
    }
   ],
   "source": [
    "I = np.arange(1,N+1)\n",
    "\n",
    "G = np.array([g_i(i,h) for i in np.arange(1,N+1)])\n",
    "G"
   ]
  },
  {
   "cell_type": "code",
   "execution_count": 97,
   "metadata": {},
   "outputs": [
    {
     "name": "stdout",
     "output_type": "stream",
     "text": [
      "4.901480247034596e-05\n",
      "found solution in 4389 iterations\n",
      "[-0.02450568 -0.04822726 -0.07116487 -0.09331865 -0.1146887  -0.1352752\n",
      " -0.15507821 -0.1740979  -0.19233433 -0.20978766 -0.22645791 -0.24234526\n",
      " -0.25744969 -0.27177136 -0.28531025 -0.29806648 -0.31004001 -0.32123097\n",
      " -0.33163926 -0.34126499 -0.35010807 -0.35816856 -0.36544635 -0.3719415\n",
      " -0.37765385 -0.38258345 -0.38673013 -0.3900939  -0.3926746  -0.3944722\n",
      " -0.39548653 -0.39571754 -0.39516508 -0.39382905 -0.39170929 -0.38880571\n",
      " -0.38511816 -0.38064651 -0.37692138 -0.37515685 -0.37535291 -0.37750956\n",
      " -0.3816268  -0.38770464 -0.39574306 -0.40574208 -0.4177017  -0.43008932\n",
      " -0.44169498 -0.45252078 -0.46256916 -0.47184198 -0.48034182 -0.48807031\n",
      " -0.4950301  -0.50122255 -0.50665037 -0.51131465 -0.51521812 -0.51836153\n",
      " -0.52074763 -0.52237686 -0.52325188 -0.52337284 -0.52274232 -0.52136013\n",
      " -0.51922872 -0.5163476  -0.51271906 -0.50834228 -0.50321938 -0.49734925\n",
      " -0.49073376 -0.48337154 -0.47526422 -0.46641016 -0.45681072 -0.44646401\n",
      " -0.43537112 -0.42352995 -0.41094129 -0.39760284 -0.38351509 -0.36867558\n",
      " -0.35308449 -0.33673924 -0.31963969 -0.30178316 -0.2831692  -0.2637951\n",
      " -0.24366008 -0.22276142 -0.20109804 -0.17866725 -0.15546768 -0.13149668\n",
      " -0.10675265 -0.08123302 -0.05493593 -0.02785895]\n"
     ]
    },
    {
     "data": {
      "image/png": "[encoded data removed]",
      "text/plain": [
       "<Figure size 432x288 with 1 Axes>"
      ]
     },
     "metadata": {
      "needs_background": "light"
     },
     "output_type": "display_data"
    }
   ],
   "source": [
    "def projected_gradient(A,b,g,j,grad_j,N,h,epsilon=1e-4,max_iter=10000):\n",
    "    \n",
    "    #find optimal rho\n",
    "    eigenvals = np.linalg.eigvals(A)\n",
    "    lambda_1,lambda_n = min(eigenvals), max(eigenvals)\n",
    "    \n",
    "    rho = (2/(lambda_1 + lambda_n))\n",
    "    print(rho)\n",
    "    \n",
    "    residue = []\n",
    "    \n",
    "    G = np.array([g_i(i,h) for i in np.arange(1,N+1)])\n",
    "    \n",
    "    prev = np.zeros((N,)) \n",
    "    X = np.ones((N,))\n",
    "    \n",
    "    \n",
    "    for n in range(max_iter):\n",
    "        prev = X\n",
    "        X = X - rho*grad_j(A,b,X)\n",
    "        X = np.maximum(X,G)\n",
    "        \n",
    "        \n",
    "        residue.append(np.linalg.norm(X - prev))\n",
    "        \n",
    "        if residue[-1] < epsilon:\n",
    "            print(\"found solution in\",n,\"iterations\")\n",
    "            plt.plot(residue)    \n",
    "            return X\n",
    "                 \n",
    "    print(\"could not find solution after\",max_iter,\"iterations\")\n",
    "    \n",
    "    \n",
    "\n",
    "    \n",
    "print(projected_gradient(A,b,g_i,j,grad_j,N,h))"
   ]
  },
  {
   "cell_type": "code",
   "execution_count": null,
   "metadata": {},
   "outputs": [],
   "source": []
  },
  {
   "cell_type": "code",
   "execution_count": null,
   "metadata": {},
   "outputs": [],
   "source": []
  }
 ],
 "metadata": {
  "kernelspec": {
   "display_name": "Python 3",
   "language": "python",
   "name": "python3"
  },
  "language_info": {
   "codemirror_mode": {
    "name": "ipython",
    "version": 3
   },
   "file_extension": ".py",
   "mimetype": "text/x-python",
   "name": "python",
   "nbconvert_exporter": "python",
   "pygments_lexer": "ipython3",
   "version": "3.6.8"
  }
 },
 "nbformat": 4,
 "nbformat_minor": 2
}
